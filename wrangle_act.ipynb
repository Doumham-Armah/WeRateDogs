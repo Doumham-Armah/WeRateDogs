{
 "cells": [
  {
   "cell_type": "code",
   "execution_count": 457,
   "metadata": {},
   "outputs": [],
   "source": [
    "import pandas as pd\n",
    "import numpy as np\n",
    "import requests\n",
    "import matplotlib.pyplot as plt\n",
    "import seaborn as sns\n",
    "import tweepy\n",
    "import json\n",
    "from pprint import pprint\n",
    "plt.style.use(\"seaborn\")"
   ]
  },
  {
   "cell_type": "code",
   "execution_count": 158,
   "metadata": {},
   "outputs": [],
   "source": [
    "# Authenticate to Twitter\n",
    "consumer_key = 'HiBsRolOZ8IUJMe0kpjh2uKT8'\n",
    "consumer_secret = 'BiGGs2eW25QLrqd0IMxQkIKUQZNZ154CIcvZHMUCygt1KreAak'\n",
    "ACCESS_TOKEN = \"580962878-4QAHKg5bdSEqCkr8OK9CMDMRUwZbOJEwqOouLpYu\"\n",
    "ACCESS_TOKEN_SECRET = \"k7Wr2cwfG7wxJ68nD24lwGWZdNP0bJ25MKw9jUZJqDkQ3\"\n",
    "\n",
    "auth = tweepy.OAuthHandler(consumer_key, consumer_secret)\n",
    "auth.set_access_token(ACCESS_TOKEN, ACCESS_TOKEN_SECRET)\n"
   ]
  },
  {
   "cell_type": "code",
   "execution_count": 159,
   "metadata": {},
   "outputs": [],
   "source": [
    "# Create API object\n",
    "api = tweepy.API(auth, wait_on_rate_limit=True, wait_on_rate_limit_notify=True)"
   ]
  },
  {
   "cell_type": "code",
   "execution_count": 160,
   "metadata": {},
   "outputs": [
    {
     "name": "stdout",
     "output_type": "stream",
     "text": [
      "Authentication OK\n"
     ]
    }
   ],
   "source": [
    "try:\n",
    "    api.verify_credentials()\n",
    "    print(\"Authentication OK\")\n",
    "except:\n",
    "    print(\"Error during authentication\")"
   ]
  },
  {
   "cell_type": "markdown",
   "metadata": {},
   "source": [
    "# Gather"
   ]
  },
  {
   "cell_type": "markdown",
   "metadata": {},
   "source": [
    "taking the IDs from the tw DataFrame since that has only the tweets that we want. "
   ]
  },
  {
   "cell_type": "code",
   "execution_count": 161,
   "metadata": {},
   "outputs": [
    {
     "name": "stdout",
     "output_type": "stream",
     "text": [
      "Tweepy Error: [{'code': 144, 'message': 'No status found with that ID.'}]\n",
      "Tweepy Error: [{'code': 144, 'message': 'No status found with that ID.'}]\n",
      "Tweepy Error: [{'code': 144, 'message': 'No status found with that ID.'}]\n",
      "Tweepy Error: [{'code': 144, 'message': 'No status found with that ID.'}]\n",
      "Tweepy Error: [{'code': 144, 'message': 'No status found with that ID.'}]\n",
      "Tweepy Error: [{'code': 144, 'message': 'No status found with that ID.'}]\n"
     ]
    },
    {
     "name": "stderr",
     "output_type": "stream",
     "text": [
      "Rate limit reached. Sleeping for: 147\n"
     ]
    },
    {
     "name": "stdout",
     "output_type": "stream",
     "text": [
      "Tweepy Error: [{'code': 144, 'message': 'No status found with that ID.'}]\n"
     ]
    },
    {
     "name": "stderr",
     "output_type": "stream",
     "text": [
      "Rate limit reached. Sleeping for: 353\n"
     ]
    }
   ],
   "source": [
    "# WARNING: run this cell after having assessed and cleaned tw\n",
    "# collecting tweets by looping over IDs in tw dataframe    \n",
    "with open('tweet_json.txt', 'w') as outfile:\n",
    "    for id in tw.tweet_id:\n",
    "        try:\n",
    "            tweet = api.get_status(id, tweet_mode='extended')\n",
    "            json.dump(tweet._json, outfile)\n",
    "            outfile.write('\\n') \n",
    "        except tweepy.TweepError as e:\n",
    "            print(\"Tweepy Error: {}\".format(e))\n",
    "            "
   ]
  },
  {
   "cell_type": "code",
   "execution_count": 162,
   "metadata": {
    "scrolled": false
   },
   "outputs": [],
   "source": [
    "# saving tweets to tweet_json.txt file.\n",
    "with open('tweet_json.txt', mode='r') as json_file:\n",
    "    dict_list = []\n",
    "    for line in json_file:\n",
    "        tmp_dict ={}\n",
    "        tweet_json = json.loads(line)\n",
    "        tmp_dict[\"tweet_id\"] = tweet_json['id']\n",
    "        tmp_dict['favorite_count'] = tweet_json['favorite_count']\n",
    "        tmp_dict['retweet_count'] = tweet_json['retweet_count']\n",
    "        dict_list.append(tmp_dict)\n",
    "#         pprint(tmp_dict)\n",
    "#         break\n",
    "\n"
   ]
  },
  {
   "cell_type": "code",
   "execution_count": 163,
   "metadata": {},
   "outputs": [],
   "source": [
    "tweets = pd.DataFrame(dict_list)"
   ]
  },
  {
   "cell_type": "code",
   "execution_count": null,
   "metadata": {},
   "outputs": [],
   "source": []
  },
  {
   "cell_type": "code",
   "execution_count": null,
   "metadata": {},
   "outputs": [],
   "source": []
  },
  {
   "cell_type": "markdown",
   "metadata": {},
   "source": [
    "downloading image_predictions.tsv file"
   ]
  },
  {
   "cell_type": "code",
   "execution_count": 13,
   "metadata": {},
   "outputs": [],
   "source": [
    "url = \"https://d17h27t6h515a5.cloudfront.net/topher/2017/August/599fd2ad_image-predictions/image-predictions.tsv\""
   ]
  },
  {
   "cell_type": "code",
   "execution_count": 14,
   "metadata": {},
   "outputs": [],
   "source": [
    "r = requests.get(url)"
   ]
  },
  {
   "cell_type": "code",
   "execution_count": 15,
   "metadata": {},
   "outputs": [
    {
     "data": {
      "text/plain": [
       "335079"
      ]
     },
     "execution_count": 15,
     "metadata": {},
     "output_type": "execute_result"
    }
   ],
   "source": [
    "open(\"image_predictions.tsv\", mode='wb').write(r.content)"
   ]
  },
  {
   "cell_type": "markdown",
   "metadata": {},
   "source": [
    "# Assess"
   ]
  },
  {
   "cell_type": "markdown",
   "metadata": {},
   "source": [
    "## tweets table"
   ]
  },
  {
   "cell_type": "code",
   "execution_count": 164,
   "metadata": {},
   "outputs": [
    {
     "name": "stdout",
     "output_type": "stream",
     "text": [
      "<class 'pandas.core.frame.DataFrame'>\n",
      "RangeIndex: 2090 entries, 0 to 2089\n",
      "Data columns (total 3 columns):\n",
      " #   Column          Non-Null Count  Dtype\n",
      "---  ------          --------------  -----\n",
      " 0   tweet_id        2090 non-null   int64\n",
      " 1   favorite_count  2090 non-null   int64\n",
      " 2   retweet_count   2090 non-null   int64\n",
      "dtypes: int64(3)\n",
      "memory usage: 49.1 KB\n"
     ]
    }
   ],
   "source": [
    "tweets.info()"
   ]
  },
  {
   "cell_type": "code",
   "execution_count": 165,
   "metadata": {},
   "outputs": [
    {
     "data": {
      "text/html": [
       "<div>\n",
       "<style scoped>\n",
       "    .dataframe tbody tr th:only-of-type {\n",
       "        vertical-align: middle;\n",
       "    }\n",
       "\n",
       "    .dataframe tbody tr th {\n",
       "        vertical-align: top;\n",
       "    }\n",
       "\n",
       "    .dataframe thead th {\n",
       "        text-align: right;\n",
       "    }\n",
       "</style>\n",
       "<table border=\"1\" class=\"dataframe\">\n",
       "  <thead>\n",
       "    <tr style=\"text-align: right;\">\n",
       "      <th></th>\n",
       "      <th>tweet_id</th>\n",
       "      <th>favorite_count</th>\n",
       "      <th>retweet_count</th>\n",
       "    </tr>\n",
       "  </thead>\n",
       "  <tbody>\n",
       "    <tr>\n",
       "      <th>0</th>\n",
       "      <td>892420643555336193</td>\n",
       "      <td>35169</td>\n",
       "      <td>7421</td>\n",
       "    </tr>\n",
       "    <tr>\n",
       "      <th>1</th>\n",
       "      <td>892177421306343426</td>\n",
       "      <td>30437</td>\n",
       "      <td>5518</td>\n",
       "    </tr>\n",
       "    <tr>\n",
       "      <th>2</th>\n",
       "      <td>891815181378084864</td>\n",
       "      <td>22884</td>\n",
       "      <td>3645</td>\n",
       "    </tr>\n",
       "    <tr>\n",
       "      <th>3</th>\n",
       "      <td>891689557279858688</td>\n",
       "      <td>38467</td>\n",
       "      <td>7595</td>\n",
       "    </tr>\n",
       "    <tr>\n",
       "      <th>4</th>\n",
       "      <td>891327558926688256</td>\n",
       "      <td>36721</td>\n",
       "      <td>8173</td>\n",
       "    </tr>\n",
       "  </tbody>\n",
       "</table>\n",
       "</div>"
      ],
      "text/plain": [
       "             tweet_id  favorite_count  retweet_count\n",
       "0  892420643555336193           35169           7421\n",
       "1  892177421306343426           30437           5518\n",
       "2  891815181378084864           22884           3645\n",
       "3  891689557279858688           38467           7595\n",
       "4  891327558926688256           36721           8173"
      ]
     },
     "execution_count": 165,
     "metadata": {},
     "output_type": "execute_result"
    }
   ],
   "source": [
    "tweets.head()"
   ]
  },
  {
   "cell_type": "code",
   "execution_count": 174,
   "metadata": {},
   "outputs": [
    {
     "data": {
      "text/html": [
       "<div>\n",
       "<style scoped>\n",
       "    .dataframe tbody tr th:only-of-type {\n",
       "        vertical-align: middle;\n",
       "    }\n",
       "\n",
       "    .dataframe tbody tr th {\n",
       "        vertical-align: top;\n",
       "    }\n",
       "\n",
       "    .dataframe thead th {\n",
       "        text-align: right;\n",
       "    }\n",
       "</style>\n",
       "<table border=\"1\" class=\"dataframe\">\n",
       "  <thead>\n",
       "    <tr style=\"text-align: right;\">\n",
       "      <th></th>\n",
       "      <th>tweet_id</th>\n",
       "      <th>favorite_count</th>\n",
       "      <th>retweet_count</th>\n",
       "    </tr>\n",
       "  </thead>\n",
       "  <tbody>\n",
       "    <tr>\n",
       "      <th>2085</th>\n",
       "      <td>666049248165822465</td>\n",
       "      <td>94</td>\n",
       "      <td>38</td>\n",
       "    </tr>\n",
       "    <tr>\n",
       "      <th>2086</th>\n",
       "      <td>666044226329800704</td>\n",
       "      <td>261</td>\n",
       "      <td>122</td>\n",
       "    </tr>\n",
       "    <tr>\n",
       "      <th>2087</th>\n",
       "      <td>666033412701032449</td>\n",
       "      <td>107</td>\n",
       "      <td>39</td>\n",
       "    </tr>\n",
       "    <tr>\n",
       "      <th>2088</th>\n",
       "      <td>666029285002620928</td>\n",
       "      <td>118</td>\n",
       "      <td>41</td>\n",
       "    </tr>\n",
       "    <tr>\n",
       "      <th>2089</th>\n",
       "      <td>666020888022790149</td>\n",
       "      <td>2338</td>\n",
       "      <td>445</td>\n",
       "    </tr>\n",
       "  </tbody>\n",
       "</table>\n",
       "</div>"
      ],
      "text/plain": [
       "                tweet_id  favorite_count  retweet_count\n",
       "2085  666049248165822465              94             38\n",
       "2086  666044226329800704             261            122\n",
       "2087  666033412701032449             107             39\n",
       "2088  666029285002620928             118             41\n",
       "2089  666020888022790149            2338            445"
      ]
     },
     "execution_count": 174,
     "metadata": {},
     "output_type": "execute_result"
    }
   ],
   "source": [
    "tweets.tail()"
   ]
  },
  {
   "cell_type": "markdown",
   "metadata": {},
   "source": [
    "checking for duplicates in `tweet_id` col"
   ]
  },
  {
   "cell_type": "code",
   "execution_count": 170,
   "metadata": {},
   "outputs": [
    {
     "data": {
      "text/plain": [
       "0"
      ]
     },
     "execution_count": 170,
     "metadata": {},
     "output_type": "execute_result"
    }
   ],
   "source": [
    "len(tweets[tweets.duplicated(keep=False, subset=['tweet_id'])])"
   ]
  },
  {
   "cell_type": "code",
   "execution_count": 173,
   "metadata": {},
   "outputs": [
    {
     "data": {
      "text/html": [
       "<div>\n",
       "<style scoped>\n",
       "    .dataframe tbody tr th:only-of-type {\n",
       "        vertical-align: middle;\n",
       "    }\n",
       "\n",
       "    .dataframe tbody tr th {\n",
       "        vertical-align: top;\n",
       "    }\n",
       "\n",
       "    .dataframe thead th {\n",
       "        text-align: right;\n",
       "    }\n",
       "</style>\n",
       "<table border=\"1\" class=\"dataframe\">\n",
       "  <thead>\n",
       "    <tr style=\"text-align: right;\">\n",
       "      <th></th>\n",
       "      <th>tweet_id</th>\n",
       "      <th>favorite_count</th>\n",
       "      <th>retweet_count</th>\n",
       "    </tr>\n",
       "  </thead>\n",
       "  <tbody>\n",
       "    <tr>\n",
       "      <th>1765</th>\n",
       "      <td>671896809300709376</td>\n",
       "      <td>7949</td>\n",
       "      <td>3869</td>\n",
       "    </tr>\n",
       "    <tr>\n",
       "      <th>609</th>\n",
       "      <td>772877495989305348</td>\n",
       "      <td>8392</td>\n",
       "      <td>3785</td>\n",
       "    </tr>\n",
       "    <tr>\n",
       "      <th>367</th>\n",
       "      <td>815966073409433600</td>\n",
       "      <td>22080</td>\n",
       "      <td>8302</td>\n",
       "    </tr>\n",
       "    <tr>\n",
       "      <th>1279</th>\n",
       "      <td>690989312272396288</td>\n",
       "      <td>5713</td>\n",
       "      <td>2764</td>\n",
       "    </tr>\n",
       "    <tr>\n",
       "      <th>460</th>\n",
       "      <td>796759840936919040</td>\n",
       "      <td>11699</td>\n",
       "      <td>2999</td>\n",
       "    </tr>\n",
       "  </tbody>\n",
       "</table>\n",
       "</div>"
      ],
      "text/plain": [
       "                tweet_id  favorite_count  retweet_count\n",
       "1765  671896809300709376            7949           3869\n",
       "609   772877495989305348            8392           3785\n",
       "367   815966073409433600           22080           8302\n",
       "1279  690989312272396288            5713           2764\n",
       "460   796759840936919040           11699           2999"
      ]
     },
     "execution_count": 173,
     "metadata": {},
     "output_type": "execute_result"
    }
   ],
   "source": [
    "tweets.sample(5)"
   ]
  },
  {
   "cell_type": "markdown",
   "metadata": {},
   "source": [
    "twitter table looks good and does not need any cleaning"
   ]
  },
  {
   "cell_type": "markdown",
   "metadata": {},
   "source": [
    "## twitter_arch table"
   ]
  },
  {
   "cell_type": "markdown",
   "metadata": {},
   "source": [
    "reading twitter-archive-enhanced.csv into a df"
   ]
  },
  {
   "cell_type": "code",
   "execution_count": 458,
   "metadata": {},
   "outputs": [],
   "source": [
    "twitter_arch = pd.read_csv(\"twitter-archive-enhanced.csv\")"
   ]
  },
  {
   "cell_type": "code",
   "execution_count": 459,
   "metadata": {},
   "outputs": [
    {
     "data": {
      "text/html": [
       "<div>\n",
       "<style scoped>\n",
       "    .dataframe tbody tr th:only-of-type {\n",
       "        vertical-align: middle;\n",
       "    }\n",
       "\n",
       "    .dataframe tbody tr th {\n",
       "        vertical-align: top;\n",
       "    }\n",
       "\n",
       "    .dataframe thead th {\n",
       "        text-align: right;\n",
       "    }\n",
       "</style>\n",
       "<table border=\"1\" class=\"dataframe\">\n",
       "  <thead>\n",
       "    <tr style=\"text-align: right;\">\n",
       "      <th></th>\n",
       "      <th>tweet_id</th>\n",
       "      <th>in_reply_to_status_id</th>\n",
       "      <th>in_reply_to_user_id</th>\n",
       "      <th>timestamp</th>\n",
       "      <th>source</th>\n",
       "      <th>text</th>\n",
       "      <th>retweeted_status_id</th>\n",
       "      <th>retweeted_status_user_id</th>\n",
       "      <th>retweeted_status_timestamp</th>\n",
       "      <th>expanded_urls</th>\n",
       "      <th>rating_numerator</th>\n",
       "      <th>rating_denominator</th>\n",
       "      <th>name</th>\n",
       "      <th>doggo</th>\n",
       "      <th>floofer</th>\n",
       "      <th>pupper</th>\n",
       "      <th>puppo</th>\n",
       "    </tr>\n",
       "  </thead>\n",
       "  <tbody>\n",
       "    <tr>\n",
       "      <th>0</th>\n",
       "      <td>892420643555336193</td>\n",
       "      <td>NaN</td>\n",
       "      <td>NaN</td>\n",
       "      <td>2017-08-01 16:23:56 +0000</td>\n",
       "      <td>&lt;a href=\"http://twitter.com/download/iphone\" r...</td>\n",
       "      <td>This is Phineas. He's a mystical boy. Only eve...</td>\n",
       "      <td>NaN</td>\n",
       "      <td>NaN</td>\n",
       "      <td>NaN</td>\n",
       "      <td>https://twitter.com/dog_rates/status/892420643...</td>\n",
       "      <td>13</td>\n",
       "      <td>10</td>\n",
       "      <td>Phineas</td>\n",
       "      <td>None</td>\n",
       "      <td>None</td>\n",
       "      <td>None</td>\n",
       "      <td>None</td>\n",
       "    </tr>\n",
       "    <tr>\n",
       "      <th>1</th>\n",
       "      <td>892177421306343426</td>\n",
       "      <td>NaN</td>\n",
       "      <td>NaN</td>\n",
       "      <td>2017-08-01 00:17:27 +0000</td>\n",
       "      <td>&lt;a href=\"http://twitter.com/download/iphone\" r...</td>\n",
       "      <td>This is Tilly. She's just checking pup on you....</td>\n",
       "      <td>NaN</td>\n",
       "      <td>NaN</td>\n",
       "      <td>NaN</td>\n",
       "      <td>https://twitter.com/dog_rates/status/892177421...</td>\n",
       "      <td>13</td>\n",
       "      <td>10</td>\n",
       "      <td>Tilly</td>\n",
       "      <td>None</td>\n",
       "      <td>None</td>\n",
       "      <td>None</td>\n",
       "      <td>None</td>\n",
       "    </tr>\n",
       "    <tr>\n",
       "      <th>2</th>\n",
       "      <td>891815181378084864</td>\n",
       "      <td>NaN</td>\n",
       "      <td>NaN</td>\n",
       "      <td>2017-07-31 00:18:03 +0000</td>\n",
       "      <td>&lt;a href=\"http://twitter.com/download/iphone\" r...</td>\n",
       "      <td>This is Archie. He is a rare Norwegian Pouncin...</td>\n",
       "      <td>NaN</td>\n",
       "      <td>NaN</td>\n",
       "      <td>NaN</td>\n",
       "      <td>https://twitter.com/dog_rates/status/891815181...</td>\n",
       "      <td>12</td>\n",
       "      <td>10</td>\n",
       "      <td>Archie</td>\n",
       "      <td>None</td>\n",
       "      <td>None</td>\n",
       "      <td>None</td>\n",
       "      <td>None</td>\n",
       "    </tr>\n",
       "  </tbody>\n",
       "</table>\n",
       "</div>"
      ],
      "text/plain": [
       "             tweet_id  in_reply_to_status_id  in_reply_to_user_id  \\\n",
       "0  892420643555336193                    NaN                  NaN   \n",
       "1  892177421306343426                    NaN                  NaN   \n",
       "2  891815181378084864                    NaN                  NaN   \n",
       "\n",
       "                   timestamp  \\\n",
       "0  2017-08-01 16:23:56 +0000   \n",
       "1  2017-08-01 00:17:27 +0000   \n",
       "2  2017-07-31 00:18:03 +0000   \n",
       "\n",
       "                                              source  \\\n",
       "0  <a href=\"http://twitter.com/download/iphone\" r...   \n",
       "1  <a href=\"http://twitter.com/download/iphone\" r...   \n",
       "2  <a href=\"http://twitter.com/download/iphone\" r...   \n",
       "\n",
       "                                                text  retweeted_status_id  \\\n",
       "0  This is Phineas. He's a mystical boy. Only eve...                  NaN   \n",
       "1  This is Tilly. She's just checking pup on you....                  NaN   \n",
       "2  This is Archie. He is a rare Norwegian Pouncin...                  NaN   \n",
       "\n",
       "   retweeted_status_user_id retweeted_status_timestamp  \\\n",
       "0                       NaN                        NaN   \n",
       "1                       NaN                        NaN   \n",
       "2                       NaN                        NaN   \n",
       "\n",
       "                                       expanded_urls  rating_numerator  \\\n",
       "0  https://twitter.com/dog_rates/status/892420643...                13   \n",
       "1  https://twitter.com/dog_rates/status/892177421...                13   \n",
       "2  https://twitter.com/dog_rates/status/891815181...                12   \n",
       "\n",
       "   rating_denominator     name doggo floofer pupper puppo  \n",
       "0                  10  Phineas  None    None   None  None  \n",
       "1                  10    Tilly  None    None   None  None  \n",
       "2                  10   Archie  None    None   None  None  "
      ]
     },
     "execution_count": 459,
     "metadata": {},
     "output_type": "execute_result"
    }
   ],
   "source": [
    "twitter_arch.head(3)"
   ]
  },
  {
   "cell_type": "code",
   "execution_count": 460,
   "metadata": {},
   "outputs": [
    {
     "name": "stdout",
     "output_type": "stream",
     "text": [
      "<class 'pandas.core.frame.DataFrame'>\n",
      "RangeIndex: 2356 entries, 0 to 2355\n",
      "Data columns (total 17 columns):\n",
      " #   Column                      Non-Null Count  Dtype  \n",
      "---  ------                      --------------  -----  \n",
      " 0   tweet_id                    2356 non-null   int64  \n",
      " 1   in_reply_to_status_id       78 non-null     float64\n",
      " 2   in_reply_to_user_id         78 non-null     float64\n",
      " 3   timestamp                   2356 non-null   object \n",
      " 4   source                      2356 non-null   object \n",
      " 5   text                        2356 non-null   object \n",
      " 6   retweeted_status_id         181 non-null    float64\n",
      " 7   retweeted_status_user_id    181 non-null    float64\n",
      " 8   retweeted_status_timestamp  181 non-null    object \n",
      " 9   expanded_urls               2297 non-null   object \n",
      " 10  rating_numerator            2356 non-null   int64  \n",
      " 11  rating_denominator          2356 non-null   int64  \n",
      " 12  name                        2356 non-null   object \n",
      " 13  doggo                       2356 non-null   object \n",
      " 14  floofer                     2356 non-null   object \n",
      " 15  pupper                      2356 non-null   object \n",
      " 16  puppo                       2356 non-null   object \n",
      "dtypes: float64(4), int64(3), object(10)\n",
      "memory usage: 313.0+ KB\n"
     ]
    }
   ],
   "source": [
    "twitter_arch.info()"
   ]
  },
  {
   "cell_type": "code",
   "execution_count": 461,
   "metadata": {},
   "outputs": [
    {
     "data": {
      "text/html": [
       "<div>\n",
       "<style scoped>\n",
       "    .dataframe tbody tr th:only-of-type {\n",
       "        vertical-align: middle;\n",
       "    }\n",
       "\n",
       "    .dataframe tbody tr th {\n",
       "        vertical-align: top;\n",
       "    }\n",
       "\n",
       "    .dataframe thead th {\n",
       "        text-align: right;\n",
       "    }\n",
       "</style>\n",
       "<table border=\"1\" class=\"dataframe\">\n",
       "  <thead>\n",
       "    <tr style=\"text-align: right;\">\n",
       "      <th></th>\n",
       "      <th>tweet_id</th>\n",
       "      <th>in_reply_to_status_id</th>\n",
       "      <th>in_reply_to_user_id</th>\n",
       "      <th>timestamp</th>\n",
       "      <th>source</th>\n",
       "      <th>text</th>\n",
       "      <th>retweeted_status_id</th>\n",
       "      <th>retweeted_status_user_id</th>\n",
       "      <th>retweeted_status_timestamp</th>\n",
       "      <th>expanded_urls</th>\n",
       "      <th>rating_numerator</th>\n",
       "      <th>rating_denominator</th>\n",
       "      <th>name</th>\n",
       "      <th>doggo</th>\n",
       "      <th>floofer</th>\n",
       "      <th>pupper</th>\n",
       "      <th>puppo</th>\n",
       "    </tr>\n",
       "  </thead>\n",
       "  <tbody>\n",
       "    <tr>\n",
       "      <th>30</th>\n",
       "      <td>886267009285017600</td>\n",
       "      <td>8.862664e+17</td>\n",
       "      <td>2.281182e+09</td>\n",
       "      <td>2017-07-15 16:51:35 +0000</td>\n",
       "      <td>&lt;a href=\"http://twitter.com/download/iphone\" r...</td>\n",
       "      <td>@NonWhiteHat @MayhewMayhem omg hello tanner yo...</td>\n",
       "      <td>NaN</td>\n",
       "      <td>NaN</td>\n",
       "      <td>NaN</td>\n",
       "      <td>NaN</td>\n",
       "      <td>12</td>\n",
       "      <td>10</td>\n",
       "      <td>None</td>\n",
       "      <td>None</td>\n",
       "      <td>None</td>\n",
       "      <td>None</td>\n",
       "      <td>None</td>\n",
       "    </tr>\n",
       "    <tr>\n",
       "      <th>55</th>\n",
       "      <td>881633300179243008</td>\n",
       "      <td>8.816070e+17</td>\n",
       "      <td>4.738443e+07</td>\n",
       "      <td>2017-07-02 21:58:53 +0000</td>\n",
       "      <td>&lt;a href=\"http://twitter.com/download/iphone\" r...</td>\n",
       "      <td>@roushfenway These are good dogs but 17/10 is ...</td>\n",
       "      <td>NaN</td>\n",
       "      <td>NaN</td>\n",
       "      <td>NaN</td>\n",
       "      <td>NaN</td>\n",
       "      <td>17</td>\n",
       "      <td>10</td>\n",
       "      <td>None</td>\n",
       "      <td>None</td>\n",
       "      <td>None</td>\n",
       "      <td>None</td>\n",
       "      <td>None</td>\n",
       "    </tr>\n",
       "    <tr>\n",
       "      <th>64</th>\n",
       "      <td>879674319642796034</td>\n",
       "      <td>8.795538e+17</td>\n",
       "      <td>3.105441e+09</td>\n",
       "      <td>2017-06-27 12:14:36 +0000</td>\n",
       "      <td>&lt;a href=\"http://twitter.com/download/iphone\" r...</td>\n",
       "      <td>@RealKentMurphy 14/10 confirmed</td>\n",
       "      <td>NaN</td>\n",
       "      <td>NaN</td>\n",
       "      <td>NaN</td>\n",
       "      <td>NaN</td>\n",
       "      <td>14</td>\n",
       "      <td>10</td>\n",
       "      <td>None</td>\n",
       "      <td>None</td>\n",
       "      <td>None</td>\n",
       "      <td>None</td>\n",
       "      <td>None</td>\n",
       "    </tr>\n",
       "    <tr>\n",
       "      <th>113</th>\n",
       "      <td>870726314365509632</td>\n",
       "      <td>8.707262e+17</td>\n",
       "      <td>1.648776e+07</td>\n",
       "      <td>2017-06-02 19:38:25 +0000</td>\n",
       "      <td>&lt;a href=\"http://twitter.com/download/iphone\" r...</td>\n",
       "      <td>@ComplicitOwl @ShopWeRateDogs &amp;gt;10/10 is res...</td>\n",
       "      <td>NaN</td>\n",
       "      <td>NaN</td>\n",
       "      <td>NaN</td>\n",
       "      <td>NaN</td>\n",
       "      <td>10</td>\n",
       "      <td>10</td>\n",
       "      <td>None</td>\n",
       "      <td>None</td>\n",
       "      <td>None</td>\n",
       "      <td>None</td>\n",
       "      <td>None</td>\n",
       "    </tr>\n",
       "    <tr>\n",
       "      <th>148</th>\n",
       "      <td>863427515083354112</td>\n",
       "      <td>8.634256e+17</td>\n",
       "      <td>7.759620e+07</td>\n",
       "      <td>2017-05-13 16:15:35 +0000</td>\n",
       "      <td>&lt;a href=\"http://twitter.com/download/iphone\" r...</td>\n",
       "      <td>@Jack_Septic_Eye I'd need a few more pics to p...</td>\n",
       "      <td>NaN</td>\n",
       "      <td>NaN</td>\n",
       "      <td>NaN</td>\n",
       "      <td>NaN</td>\n",
       "      <td>12</td>\n",
       "      <td>10</td>\n",
       "      <td>None</td>\n",
       "      <td>None</td>\n",
       "      <td>None</td>\n",
       "      <td>None</td>\n",
       "      <td>None</td>\n",
       "    </tr>\n",
       "    <tr>\n",
       "      <th>...</th>\n",
       "      <td>...</td>\n",
       "      <td>...</td>\n",
       "      <td>...</td>\n",
       "      <td>...</td>\n",
       "      <td>...</td>\n",
       "      <td>...</td>\n",
       "      <td>...</td>\n",
       "      <td>...</td>\n",
       "      <td>...</td>\n",
       "      <td>...</td>\n",
       "      <td>...</td>\n",
       "      <td>...</td>\n",
       "      <td>...</td>\n",
       "      <td>...</td>\n",
       "      <td>...</td>\n",
       "      <td>...</td>\n",
       "      <td>...</td>\n",
       "    </tr>\n",
       "    <tr>\n",
       "      <th>2038</th>\n",
       "      <td>671550332464455680</td>\n",
       "      <td>6.715449e+17</td>\n",
       "      <td>4.196984e+09</td>\n",
       "      <td>2015-12-01 04:44:10 +0000</td>\n",
       "      <td>&lt;a href=\"http://twitter.com/download/iphone\" r...</td>\n",
       "      <td>After 22 minutes of careful deliberation this ...</td>\n",
       "      <td>NaN</td>\n",
       "      <td>NaN</td>\n",
       "      <td>NaN</td>\n",
       "      <td>NaN</td>\n",
       "      <td>1</td>\n",
       "      <td>10</td>\n",
       "      <td>None</td>\n",
       "      <td>None</td>\n",
       "      <td>None</td>\n",
       "      <td>None</td>\n",
       "      <td>None</td>\n",
       "    </tr>\n",
       "    <tr>\n",
       "      <th>2149</th>\n",
       "      <td>669684865554620416</td>\n",
       "      <td>6.693544e+17</td>\n",
       "      <td>4.196984e+09</td>\n",
       "      <td>2015-11-26 01:11:28 +0000</td>\n",
       "      <td>&lt;a href=\"http://twitter.com/download/iphone\" r...</td>\n",
       "      <td>After countless hours of research and hundreds...</td>\n",
       "      <td>NaN</td>\n",
       "      <td>NaN</td>\n",
       "      <td>NaN</td>\n",
       "      <td>NaN</td>\n",
       "      <td>11</td>\n",
       "      <td>10</td>\n",
       "      <td>None</td>\n",
       "      <td>None</td>\n",
       "      <td>None</td>\n",
       "      <td>None</td>\n",
       "      <td>None</td>\n",
       "    </tr>\n",
       "    <tr>\n",
       "      <th>2169</th>\n",
       "      <td>669353438988365824</td>\n",
       "      <td>6.678065e+17</td>\n",
       "      <td>4.196984e+09</td>\n",
       "      <td>2015-11-25 03:14:30 +0000</td>\n",
       "      <td>&lt;a href=\"http://twitter.com/download/iphone\" r...</td>\n",
       "      <td>This is Tessa. She is also very pleased after ...</td>\n",
       "      <td>NaN</td>\n",
       "      <td>NaN</td>\n",
       "      <td>NaN</td>\n",
       "      <td>https://twitter.com/dog_rates/status/669353438...</td>\n",
       "      <td>10</td>\n",
       "      <td>10</td>\n",
       "      <td>Tessa</td>\n",
       "      <td>None</td>\n",
       "      <td>None</td>\n",
       "      <td>None</td>\n",
       "      <td>None</td>\n",
       "    </tr>\n",
       "    <tr>\n",
       "      <th>2189</th>\n",
       "      <td>668967877119254528</td>\n",
       "      <td>6.689207e+17</td>\n",
       "      <td>2.143566e+07</td>\n",
       "      <td>2015-11-24 01:42:25 +0000</td>\n",
       "      <td>&lt;a href=\"http://twitter.com/download/iphone\" r...</td>\n",
       "      <td>12/10 good shit Bubka\\n@wane15</td>\n",
       "      <td>NaN</td>\n",
       "      <td>NaN</td>\n",
       "      <td>NaN</td>\n",
       "      <td>NaN</td>\n",
       "      <td>12</td>\n",
       "      <td>10</td>\n",
       "      <td>None</td>\n",
       "      <td>None</td>\n",
       "      <td>None</td>\n",
       "      <td>None</td>\n",
       "      <td>None</td>\n",
       "    </tr>\n",
       "    <tr>\n",
       "      <th>2298</th>\n",
       "      <td>667070482143944705</td>\n",
       "      <td>6.670655e+17</td>\n",
       "      <td>4.196984e+09</td>\n",
       "      <td>2015-11-18 20:02:51 +0000</td>\n",
       "      <td>&lt;a href=\"http://twitter.com/download/iphone\" r...</td>\n",
       "      <td>After much debate this dog is being upgraded t...</td>\n",
       "      <td>NaN</td>\n",
       "      <td>NaN</td>\n",
       "      <td>NaN</td>\n",
       "      <td>NaN</td>\n",
       "      <td>10</td>\n",
       "      <td>10</td>\n",
       "      <td>None</td>\n",
       "      <td>None</td>\n",
       "      <td>None</td>\n",
       "      <td>None</td>\n",
       "      <td>None</td>\n",
       "    </tr>\n",
       "  </tbody>\n",
       "</table>\n",
       "<p>78 rows × 17 columns</p>\n",
       "</div>"
      ],
      "text/plain": [
       "                tweet_id  in_reply_to_status_id  in_reply_to_user_id  \\\n",
       "30    886267009285017600           8.862664e+17         2.281182e+09   \n",
       "55    881633300179243008           8.816070e+17         4.738443e+07   \n",
       "64    879674319642796034           8.795538e+17         3.105441e+09   \n",
       "113   870726314365509632           8.707262e+17         1.648776e+07   \n",
       "148   863427515083354112           8.634256e+17         7.759620e+07   \n",
       "...                  ...                    ...                  ...   \n",
       "2038  671550332464455680           6.715449e+17         4.196984e+09   \n",
       "2149  669684865554620416           6.693544e+17         4.196984e+09   \n",
       "2169  669353438988365824           6.678065e+17         4.196984e+09   \n",
       "2189  668967877119254528           6.689207e+17         2.143566e+07   \n",
       "2298  667070482143944705           6.670655e+17         4.196984e+09   \n",
       "\n",
       "                      timestamp  \\\n",
       "30    2017-07-15 16:51:35 +0000   \n",
       "55    2017-07-02 21:58:53 +0000   \n",
       "64    2017-06-27 12:14:36 +0000   \n",
       "113   2017-06-02 19:38:25 +0000   \n",
       "148   2017-05-13 16:15:35 +0000   \n",
       "...                         ...   \n",
       "2038  2015-12-01 04:44:10 +0000   \n",
       "2149  2015-11-26 01:11:28 +0000   \n",
       "2169  2015-11-25 03:14:30 +0000   \n",
       "2189  2015-11-24 01:42:25 +0000   \n",
       "2298  2015-11-18 20:02:51 +0000   \n",
       "\n",
       "                                                 source  \\\n",
       "30    <a href=\"http://twitter.com/download/iphone\" r...   \n",
       "55    <a href=\"http://twitter.com/download/iphone\" r...   \n",
       "64    <a href=\"http://twitter.com/download/iphone\" r...   \n",
       "113   <a href=\"http://twitter.com/download/iphone\" r...   \n",
       "148   <a href=\"http://twitter.com/download/iphone\" r...   \n",
       "...                                                 ...   \n",
       "2038  <a href=\"http://twitter.com/download/iphone\" r...   \n",
       "2149  <a href=\"http://twitter.com/download/iphone\" r...   \n",
       "2169  <a href=\"http://twitter.com/download/iphone\" r...   \n",
       "2189  <a href=\"http://twitter.com/download/iphone\" r...   \n",
       "2298  <a href=\"http://twitter.com/download/iphone\" r...   \n",
       "\n",
       "                                                   text  retweeted_status_id  \\\n",
       "30    @NonWhiteHat @MayhewMayhem omg hello tanner yo...                  NaN   \n",
       "55    @roushfenway These are good dogs but 17/10 is ...                  NaN   \n",
       "64                      @RealKentMurphy 14/10 confirmed                  NaN   \n",
       "113   @ComplicitOwl @ShopWeRateDogs &gt;10/10 is res...                  NaN   \n",
       "148   @Jack_Septic_Eye I'd need a few more pics to p...                  NaN   \n",
       "...                                                 ...                  ...   \n",
       "2038  After 22 minutes of careful deliberation this ...                  NaN   \n",
       "2149  After countless hours of research and hundreds...                  NaN   \n",
       "2169  This is Tessa. She is also very pleased after ...                  NaN   \n",
       "2189                     12/10 good shit Bubka\\n@wane15                  NaN   \n",
       "2298  After much debate this dog is being upgraded t...                  NaN   \n",
       "\n",
       "      retweeted_status_user_id retweeted_status_timestamp  \\\n",
       "30                         NaN                        NaN   \n",
       "55                         NaN                        NaN   \n",
       "64                         NaN                        NaN   \n",
       "113                        NaN                        NaN   \n",
       "148                        NaN                        NaN   \n",
       "...                        ...                        ...   \n",
       "2038                       NaN                        NaN   \n",
       "2149                       NaN                        NaN   \n",
       "2169                       NaN                        NaN   \n",
       "2189                       NaN                        NaN   \n",
       "2298                       NaN                        NaN   \n",
       "\n",
       "                                          expanded_urls  rating_numerator  \\\n",
       "30                                                  NaN                12   \n",
       "55                                                  NaN                17   \n",
       "64                                                  NaN                14   \n",
       "113                                                 NaN                10   \n",
       "148                                                 NaN                12   \n",
       "...                                                 ...               ...   \n",
       "2038                                                NaN                 1   \n",
       "2149                                                NaN                11   \n",
       "2169  https://twitter.com/dog_rates/status/669353438...                10   \n",
       "2189                                                NaN                12   \n",
       "2298                                                NaN                10   \n",
       "\n",
       "      rating_denominator   name doggo floofer pupper puppo  \n",
       "30                    10   None  None    None   None  None  \n",
       "55                    10   None  None    None   None  None  \n",
       "64                    10   None  None    None   None  None  \n",
       "113                   10   None  None    None   None  None  \n",
       "148                   10   None  None    None   None  None  \n",
       "...                  ...    ...   ...     ...    ...   ...  \n",
       "2038                  10   None  None    None   None  None  \n",
       "2149                  10   None  None    None   None  None  \n",
       "2169                  10  Tessa  None    None   None  None  \n",
       "2189                  10   None  None    None   None  None  \n",
       "2298                  10   None  None    None   None  None  \n",
       "\n",
       "[78 rows x 17 columns]"
      ]
     },
     "execution_count": 461,
     "metadata": {},
     "output_type": "execute_result"
    }
   ],
   "source": [
    "twitter_arch[twitter_arch.in_reply_to_status_id.notna()]"
   ]
  },
  {
   "cell_type": "code",
   "execution_count": 462,
   "metadata": {},
   "outputs": [
    {
     "data": {
      "text/html": [
       "<div>\n",
       "<style scoped>\n",
       "    .dataframe tbody tr th:only-of-type {\n",
       "        vertical-align: middle;\n",
       "    }\n",
       "\n",
       "    .dataframe tbody tr th {\n",
       "        vertical-align: top;\n",
       "    }\n",
       "\n",
       "    .dataframe thead th {\n",
       "        text-align: right;\n",
       "    }\n",
       "</style>\n",
       "<table border=\"1\" class=\"dataframe\">\n",
       "  <thead>\n",
       "    <tr style=\"text-align: right;\">\n",
       "      <th></th>\n",
       "      <th>timestamp</th>\n",
       "      <th>source</th>\n",
       "      <th>text</th>\n",
       "      <th>retweeted_status_timestamp</th>\n",
       "      <th>expanded_urls</th>\n",
       "      <th>name</th>\n",
       "      <th>doggo</th>\n",
       "      <th>floofer</th>\n",
       "      <th>pupper</th>\n",
       "      <th>puppo</th>\n",
       "    </tr>\n",
       "  </thead>\n",
       "  <tbody>\n",
       "    <tr>\n",
       "      <th>count</th>\n",
       "      <td>2356</td>\n",
       "      <td>2356</td>\n",
       "      <td>2356</td>\n",
       "      <td>181</td>\n",
       "      <td>2297</td>\n",
       "      <td>2356</td>\n",
       "      <td>2356</td>\n",
       "      <td>2356</td>\n",
       "      <td>2356</td>\n",
       "      <td>2356</td>\n",
       "    </tr>\n",
       "    <tr>\n",
       "      <th>unique</th>\n",
       "      <td>2356</td>\n",
       "      <td>4</td>\n",
       "      <td>2356</td>\n",
       "      <td>181</td>\n",
       "      <td>2218</td>\n",
       "      <td>957</td>\n",
       "      <td>2</td>\n",
       "      <td>2</td>\n",
       "      <td>2</td>\n",
       "      <td>2</td>\n",
       "    </tr>\n",
       "    <tr>\n",
       "      <th>top</th>\n",
       "      <td>2016-02-17 03:45:29 +0000</td>\n",
       "      <td>&lt;a href=\"http://twitter.com/download/iphone\" r...</td>\n",
       "      <td>This is the best thing I've ever seen so sprea...</td>\n",
       "      <td>2015-12-12 02:23:01 +0000</td>\n",
       "      <td>https://twitter.com/dog_rates/status/740676976...</td>\n",
       "      <td>None</td>\n",
       "      <td>None</td>\n",
       "      <td>None</td>\n",
       "      <td>None</td>\n",
       "      <td>None</td>\n",
       "    </tr>\n",
       "    <tr>\n",
       "      <th>freq</th>\n",
       "      <td>1</td>\n",
       "      <td>2221</td>\n",
       "      <td>1</td>\n",
       "      <td>1</td>\n",
       "      <td>2</td>\n",
       "      <td>745</td>\n",
       "      <td>2259</td>\n",
       "      <td>2346</td>\n",
       "      <td>2099</td>\n",
       "      <td>2326</td>\n",
       "    </tr>\n",
       "  </tbody>\n",
       "</table>\n",
       "</div>"
      ],
      "text/plain": [
       "                        timestamp  \\\n",
       "count                        2356   \n",
       "unique                       2356   \n",
       "top     2016-02-17 03:45:29 +0000   \n",
       "freq                            1   \n",
       "\n",
       "                                                   source  \\\n",
       "count                                                2356   \n",
       "unique                                                  4   \n",
       "top     <a href=\"http://twitter.com/download/iphone\" r...   \n",
       "freq                                                 2221   \n",
       "\n",
       "                                                     text  \\\n",
       "count                                                2356   \n",
       "unique                                               2356   \n",
       "top     This is the best thing I've ever seen so sprea...   \n",
       "freq                                                    1   \n",
       "\n",
       "       retweeted_status_timestamp  \\\n",
       "count                         181   \n",
       "unique                        181   \n",
       "top     2015-12-12 02:23:01 +0000   \n",
       "freq                            1   \n",
       "\n",
       "                                            expanded_urls  name doggo floofer  \\\n",
       "count                                                2297  2356  2356    2356   \n",
       "unique                                               2218   957     2       2   \n",
       "top     https://twitter.com/dog_rates/status/740676976...  None  None    None   \n",
       "freq                                                    2   745  2259    2346   \n",
       "\n",
       "       pupper puppo  \n",
       "count    2356  2356  \n",
       "unique      2     2  \n",
       "top      None  None  \n",
       "freq     2099  2326  "
      ]
     },
     "execution_count": 462,
     "metadata": {},
     "output_type": "execute_result"
    }
   ],
   "source": [
    "twitter_arch.describe(include=\"O\")"
   ]
  },
  {
   "cell_type": "code",
   "execution_count": 463,
   "metadata": {},
   "outputs": [
    {
     "data": {
      "text/plain": [
       "tweet_id                         0\n",
       "in_reply_to_status_id         2278\n",
       "in_reply_to_user_id           2278\n",
       "timestamp                        0\n",
       "source                           0\n",
       "text                             0\n",
       "retweeted_status_id           2175\n",
       "retweeted_status_user_id      2175\n",
       "retweeted_status_timestamp    2175\n",
       "expanded_urls                   59\n",
       "rating_numerator                 0\n",
       "rating_denominator               0\n",
       "name                             0\n",
       "doggo                            0\n",
       "floofer                          0\n",
       "pupper                           0\n",
       "puppo                            0\n",
       "dtype: int64"
      ]
     },
     "execution_count": 463,
     "metadata": {},
     "output_type": "execute_result"
    }
   ],
   "source": [
    "# NaNs for each column\n",
    "twitter_arch.isna().sum(axis = 0)"
   ]
  },
  {
   "cell_type": "code",
   "execution_count": 464,
   "metadata": {},
   "outputs": [
    {
     "data": {
      "text/plain": [
       "12      558\n",
       "11      464\n",
       "10      461\n",
       "13      351\n",
       "9       158\n",
       "8       102\n",
       "7        55\n",
       "14       54\n",
       "5        37\n",
       "6        32\n",
       "3        19\n",
       "4        17\n",
       "1         9\n",
       "2         9\n",
       "420       2\n",
       "0         2\n",
       "15        2\n",
       "75        2\n",
       "80        1\n",
       "20        1\n",
       "24        1\n",
       "26        1\n",
       "44        1\n",
       "50        1\n",
       "60        1\n",
       "165       1\n",
       "84        1\n",
       "88        1\n",
       "144       1\n",
       "182       1\n",
       "143       1\n",
       "666       1\n",
       "960       1\n",
       "1776      1\n",
       "17        1\n",
       "27        1\n",
       "45        1\n",
       "99        1\n",
       "121       1\n",
       "204       1\n",
       "Name: rating_numerator, dtype: int64"
      ]
     },
     "execution_count": 464,
     "metadata": {},
     "output_type": "execute_result"
    }
   ],
   "source": [
    "# 40 unique ratings\n",
    "twitter_arch.rating_numerator.value_counts()"
   ]
  },
  {
   "cell_type": "code",
   "execution_count": 465,
   "metadata": {},
   "outputs": [
    {
     "data": {
      "text/plain": [
       "None       745\n",
       "a           55\n",
       "Charlie     12\n",
       "Lucy        11\n",
       "Cooper      11\n",
       "          ... \n",
       "Brady        1\n",
       "Jangle       1\n",
       "Maks         1\n",
       "Olaf         1\n",
       "Ivar         1\n",
       "Name: name, Length: 957, dtype: int64"
      ]
     },
     "execution_count": 465,
     "metadata": {},
     "output_type": "execute_result"
    }
   ],
   "source": [
    "twitter_arch.name.value_counts()"
   ]
  },
  {
   "cell_type": "code",
   "execution_count": 466,
   "metadata": {},
   "outputs": [
    {
     "data": {
      "text/plain": [
       "957"
      ]
     },
     "execution_count": 466,
     "metadata": {},
     "output_type": "execute_result"
    }
   ],
   "source": [
    "twitter_arch.name.nunique()"
   ]
  },
  {
   "cell_type": "code",
   "execution_count": 467,
   "metadata": {},
   "outputs": [
    {
     "data": {
      "text/plain": [
       "681      Butter\n",
       "1491     Tupawc\n",
       "2331       None\n",
       "87       Nugget\n",
       "1499          a\n",
       "1225       None\n",
       "1724         by\n",
       "1340          a\n",
       "965       Arnie\n",
       "2246    Tedrick\n",
       "Name: name, dtype: object"
      ]
     },
     "execution_count": 467,
     "metadata": {},
     "output_type": "execute_result"
    }
   ],
   "source": [
    "twitter_arch.name.sample(10)"
   ]
  },
  {
   "cell_type": "code",
   "execution_count": 468,
   "metadata": {},
   "outputs": [
    {
     "name": "stdout",
     "output_type": "stream",
     "text": [
      "None       2346\n",
      "floofer      10\n",
      "Name: floofer, dtype: int64\n"
     ]
    }
   ],
   "source": [
    "print(twitter_arch.floofer.value_counts())                            \n",
    "# floofer                          \n",
    "# pupper                           \n",
    "# puppo   "
   ]
  },
  {
   "cell_type": "code",
   "execution_count": 469,
   "metadata": {},
   "outputs": [
    {
     "data": {
      "text/html": [
       "<div>\n",
       "<style scoped>\n",
       "    .dataframe tbody tr th:only-of-type {\n",
       "        vertical-align: middle;\n",
       "    }\n",
       "\n",
       "    .dataframe tbody tr th {\n",
       "        vertical-align: top;\n",
       "    }\n",
       "\n",
       "    .dataframe thead th {\n",
       "        text-align: right;\n",
       "    }\n",
       "</style>\n",
       "<table border=\"1\" class=\"dataframe\">\n",
       "  <thead>\n",
       "    <tr style=\"text-align: right;\">\n",
       "      <th></th>\n",
       "      <th>name</th>\n",
       "      <th>floofer</th>\n",
       "    </tr>\n",
       "  </thead>\n",
       "  <tbody>\n",
       "    <tr>\n",
       "      <th>46</th>\n",
       "      <td>Grizzwald</td>\n",
       "      <td>floofer</td>\n",
       "    </tr>\n",
       "    <tr>\n",
       "      <th>200</th>\n",
       "      <td>None</td>\n",
       "      <td>floofer</td>\n",
       "    </tr>\n",
       "    <tr>\n",
       "      <th>582</th>\n",
       "      <td>Doc</td>\n",
       "      <td>floofer</td>\n",
       "    </tr>\n",
       "    <tr>\n",
       "      <th>774</th>\n",
       "      <td>None</td>\n",
       "      <td>floofer</td>\n",
       "    </tr>\n",
       "    <tr>\n",
       "      <th>984</th>\n",
       "      <td>Blu</td>\n",
       "      <td>floofer</td>\n",
       "    </tr>\n",
       "    <tr>\n",
       "      <th>1022</th>\n",
       "      <td>None</td>\n",
       "      <td>floofer</td>\n",
       "    </tr>\n",
       "    <tr>\n",
       "      <th>1091</th>\n",
       "      <td>None</td>\n",
       "      <td>floofer</td>\n",
       "    </tr>\n",
       "    <tr>\n",
       "      <th>1110</th>\n",
       "      <td>Moose</td>\n",
       "      <td>floofer</td>\n",
       "    </tr>\n",
       "    <tr>\n",
       "      <th>1534</th>\n",
       "      <td>None</td>\n",
       "      <td>floofer</td>\n",
       "    </tr>\n",
       "    <tr>\n",
       "      <th>1614</th>\n",
       "      <td>Petrick</td>\n",
       "      <td>floofer</td>\n",
       "    </tr>\n",
       "  </tbody>\n",
       "</table>\n",
       "</div>"
      ],
      "text/plain": [
       "           name  floofer\n",
       "46    Grizzwald  floofer\n",
       "200        None  floofer\n",
       "582         Doc  floofer\n",
       "774        None  floofer\n",
       "984         Blu  floofer\n",
       "1022       None  floofer\n",
       "1091       None  floofer\n",
       "1110      Moose  floofer\n",
       "1534       None  floofer\n",
       "1614    Petrick  floofer"
      ]
     },
     "execution_count": 469,
     "metadata": {},
     "output_type": "execute_result"
    }
   ],
   "source": [
    "twitter_arch.loc[twitter_arch.floofer=='floofer', ['name', 'floofer']]"
   ]
  },
  {
   "cell_type": "code",
   "execution_count": 470,
   "metadata": {},
   "outputs": [
    {
     "data": {
      "text/plain": [
       "181"
      ]
     },
     "execution_count": 470,
     "metadata": {},
     "output_type": "execute_result"
    }
   ],
   "source": [
    "2356 - 2175"
   ]
  },
  {
   "cell_type": "code",
   "execution_count": 471,
   "metadata": {},
   "outputs": [
    {
     "data": {
      "text/plain": [
       "Index(['tweet_id', 'in_reply_to_status_id', 'in_reply_to_user_id', 'timestamp',\n",
       "       'source', 'text', 'retweeted_status_id', 'retweeted_status_user_id',\n",
       "       'retweeted_status_timestamp', 'expanded_urls', 'rating_numerator',\n",
       "       'rating_denominator', 'name', 'doggo', 'floofer', 'pupper', 'puppo'],\n",
       "      dtype='object')"
      ]
     },
     "execution_count": 471,
     "metadata": {},
     "output_type": "execute_result"
    }
   ],
   "source": [
    "twitter_arch.columns\n"
   ]
  },
  {
   "cell_type": "code",
   "execution_count": 472,
   "metadata": {
    "scrolled": true
   },
   "outputs": [
    {
     "data": {
      "text/html": [
       "<div>\n",
       "<style scoped>\n",
       "    .dataframe tbody tr th:only-of-type {\n",
       "        vertical-align: middle;\n",
       "    }\n",
       "\n",
       "    .dataframe tbody tr th {\n",
       "        vertical-align: top;\n",
       "    }\n",
       "\n",
       "    .dataframe thead th {\n",
       "        text-align: right;\n",
       "    }\n",
       "</style>\n",
       "<table border=\"1\" class=\"dataframe\">\n",
       "  <thead>\n",
       "    <tr style=\"text-align: right;\">\n",
       "      <th></th>\n",
       "      <th>text</th>\n",
       "      <th>name</th>\n",
       "    </tr>\n",
       "  </thead>\n",
       "  <tbody>\n",
       "    <tr>\n",
       "      <th>56</th>\n",
       "      <td>Here is a pupper approaching maximum borkdrive...</td>\n",
       "      <td>a</td>\n",
       "    </tr>\n",
       "    <tr>\n",
       "      <th>649</th>\n",
       "      <td>Here is a perfect example of someone who has t...</td>\n",
       "      <td>a</td>\n",
       "    </tr>\n",
       "    <tr>\n",
       "      <th>801</th>\n",
       "      <td>Guys this is getting so out of hand. We only r...</td>\n",
       "      <td>a</td>\n",
       "    </tr>\n",
       "    <tr>\n",
       "      <th>1002</th>\n",
       "      <td>This is a mighty rare blue-tailed hammer sherk...</td>\n",
       "      <td>a</td>\n",
       "    </tr>\n",
       "    <tr>\n",
       "      <th>1004</th>\n",
       "      <td>Viewer discretion is advised. This is a terrib...</td>\n",
       "      <td>a</td>\n",
       "    </tr>\n",
       "    <tr>\n",
       "      <th>1017</th>\n",
       "      <td>This is a carrot. We only rate dogs. Please on...</td>\n",
       "      <td>a</td>\n",
       "    </tr>\n",
       "    <tr>\n",
       "      <th>1049</th>\n",
       "      <td>This is a very rare Great Alaskan Bush Pupper....</td>\n",
       "      <td>a</td>\n",
       "    </tr>\n",
       "    <tr>\n",
       "      <th>1193</th>\n",
       "      <td>People please. This is a Deadly Mediterranean ...</td>\n",
       "      <td>a</td>\n",
       "    </tr>\n",
       "    <tr>\n",
       "      <th>1207</th>\n",
       "      <td>This is a taco. We only rate dogs. Please only...</td>\n",
       "      <td>a</td>\n",
       "    </tr>\n",
       "    <tr>\n",
       "      <th>1340</th>\n",
       "      <td>Here is a heartbreaking scene of an incredible...</td>\n",
       "      <td>a</td>\n",
       "    </tr>\n",
       "    <tr>\n",
       "      <th>1351</th>\n",
       "      <td>Here is a whole flock of puppers.  60/50 I'll ...</td>\n",
       "      <td>a</td>\n",
       "    </tr>\n",
       "    <tr>\n",
       "      <th>1361</th>\n",
       "      <td>This is a Butternut Cumberfloof. It's not wind...</td>\n",
       "      <td>a</td>\n",
       "    </tr>\n",
       "    <tr>\n",
       "      <th>1368</th>\n",
       "      <td>This is a Wild Tuscan Poofwiggle. Careful not ...</td>\n",
       "      <td>a</td>\n",
       "    </tr>\n",
       "    <tr>\n",
       "      <th>1382</th>\n",
       "      <td>\"Pupper is a present to world. Here is a bow f...</td>\n",
       "      <td>a</td>\n",
       "    </tr>\n",
       "    <tr>\n",
       "      <th>1499</th>\n",
       "      <td>This is a rare Arctic Wubberfloof. Unamused by...</td>\n",
       "      <td>a</td>\n",
       "    </tr>\n",
       "    <tr>\n",
       "      <th>1737</th>\n",
       "      <td>Guys this really needs to stop. We've been ove...</td>\n",
       "      <td>a</td>\n",
       "    </tr>\n",
       "    <tr>\n",
       "      <th>1785</th>\n",
       "      <td>This is a dog swinging. I really enjoyed it so...</td>\n",
       "      <td>a</td>\n",
       "    </tr>\n",
       "    <tr>\n",
       "      <th>1853</th>\n",
       "      <td>This is a Sizzlin Menorah spaniel from Brookly...</td>\n",
       "      <td>a</td>\n",
       "    </tr>\n",
       "    <tr>\n",
       "      <th>1854</th>\n",
       "      <td>Seriously guys?! Only send in dogs. I only rat...</td>\n",
       "      <td>a</td>\n",
       "    </tr>\n",
       "    <tr>\n",
       "      <th>1877</th>\n",
       "      <td>C'mon guys. We've been over this. We only rate...</td>\n",
       "      <td>a</td>\n",
       "    </tr>\n",
       "    <tr>\n",
       "      <th>1878</th>\n",
       "      <td>This is a fluffy albino Bacardi Columbia mix. ...</td>\n",
       "      <td>a</td>\n",
       "    </tr>\n",
       "    <tr>\n",
       "      <th>1923</th>\n",
       "      <td>This is a Sagitariot Baklava mix. Loves her ne...</td>\n",
       "      <td>a</td>\n",
       "    </tr>\n",
       "    <tr>\n",
       "      <th>1941</th>\n",
       "      <td>This is a heavily opinionated dog. Loves walls...</td>\n",
       "      <td>a</td>\n",
       "    </tr>\n",
       "    <tr>\n",
       "      <th>1955</th>\n",
       "      <td>This is a Lofted Aphrodisiac Terrier named Kip...</td>\n",
       "      <td>a</td>\n",
       "    </tr>\n",
       "    <tr>\n",
       "      <th>1994</th>\n",
       "      <td>This is a baby Rand Paul. Curls for days. 11/1...</td>\n",
       "      <td>a</td>\n",
       "    </tr>\n",
       "    <tr>\n",
       "      <th>2034</th>\n",
       "      <td>This is a Tuscaloosa Alcatraz named Jacob (Yac...</td>\n",
       "      <td>a</td>\n",
       "    </tr>\n",
       "    <tr>\n",
       "      <th>2066</th>\n",
       "      <td>This is a Helvetica Listerine named Rufus. Thi...</td>\n",
       "      <td>a</td>\n",
       "    </tr>\n",
       "    <tr>\n",
       "      <th>2116</th>\n",
       "      <td>This is a Deciduous Trimester mix named Spork....</td>\n",
       "      <td>a</td>\n",
       "    </tr>\n",
       "    <tr>\n",
       "      <th>2125</th>\n",
       "      <td>This is a Rich Mahogany Seltzer named Cherokee...</td>\n",
       "      <td>a</td>\n",
       "    </tr>\n",
       "    <tr>\n",
       "      <th>2128</th>\n",
       "      <td>This is a Speckled Cauliflower Yosemite named ...</td>\n",
       "      <td>a</td>\n",
       "    </tr>\n",
       "    <tr>\n",
       "      <th>2146</th>\n",
       "      <td>This is a spotted Lipitor Rumpelstiltskin name...</td>\n",
       "      <td>a</td>\n",
       "    </tr>\n",
       "    <tr>\n",
       "      <th>2153</th>\n",
       "      <td>This is a brave dog. Excellent free climber. T...</td>\n",
       "      <td>a</td>\n",
       "    </tr>\n",
       "    <tr>\n",
       "      <th>2161</th>\n",
       "      <td>This is a Coriander Baton Rouge named Alfredo....</td>\n",
       "      <td>a</td>\n",
       "    </tr>\n",
       "    <tr>\n",
       "      <th>2191</th>\n",
       "      <td>This is a Slovakian Helter Skelter Feta named ...</td>\n",
       "      <td>a</td>\n",
       "    </tr>\n",
       "    <tr>\n",
       "      <th>2198</th>\n",
       "      <td>This is a wild Toblerone from Papua New Guinea...</td>\n",
       "      <td>a</td>\n",
       "    </tr>\n",
       "    <tr>\n",
       "      <th>2211</th>\n",
       "      <td>Here is a horned dog. Much grace. Can jump ove...</td>\n",
       "      <td>a</td>\n",
       "    </tr>\n",
       "    <tr>\n",
       "      <th>2218</th>\n",
       "      <td>This is a Birmingham Quagmire named Chuk. Love...</td>\n",
       "      <td>a</td>\n",
       "    </tr>\n",
       "    <tr>\n",
       "      <th>2222</th>\n",
       "      <td>Here is a mother dog caring for her pups. Snaz...</td>\n",
       "      <td>a</td>\n",
       "    </tr>\n",
       "    <tr>\n",
       "      <th>2235</th>\n",
       "      <td>This is a Trans Siberian Kellogg named Alfonso...</td>\n",
       "      <td>a</td>\n",
       "    </tr>\n",
       "    <tr>\n",
       "      <th>2249</th>\n",
       "      <td>This is a Shotokon Macadamia mix named Cheryl....</td>\n",
       "      <td>a</td>\n",
       "    </tr>\n",
       "    <tr>\n",
       "      <th>2255</th>\n",
       "      <td>This is a rare Hungarian Pinot named Jessiga. ...</td>\n",
       "      <td>a</td>\n",
       "    </tr>\n",
       "    <tr>\n",
       "      <th>2264</th>\n",
       "      <td>This is a southwest Coriander named Klint. Hat...</td>\n",
       "      <td>a</td>\n",
       "    </tr>\n",
       "    <tr>\n",
       "      <th>2273</th>\n",
       "      <td>This is a northern Wahoo named Kohl. He runs t...</td>\n",
       "      <td>a</td>\n",
       "    </tr>\n",
       "    <tr>\n",
       "      <th>2287</th>\n",
       "      <td>This is a Dasani Kingfisher from Maine. His na...</td>\n",
       "      <td>a</td>\n",
       "    </tr>\n",
       "    <tr>\n",
       "      <th>2304</th>\n",
       "      <td>This is a curly Ticonderoga named Pepe. No fee...</td>\n",
       "      <td>a</td>\n",
       "    </tr>\n",
       "    <tr>\n",
       "      <th>2311</th>\n",
       "      <td>This is a purebred Bacardi named Octaviath. Ca...</td>\n",
       "      <td>a</td>\n",
       "    </tr>\n",
       "    <tr>\n",
       "      <th>2314</th>\n",
       "      <td>This is a golden Buckminsterfullerene named Jo...</td>\n",
       "      <td>a</td>\n",
       "    </tr>\n",
       "    <tr>\n",
       "      <th>2327</th>\n",
       "      <td>This is a southern Vesuvius bumblegruff. Can d...</td>\n",
       "      <td>a</td>\n",
       "    </tr>\n",
       "    <tr>\n",
       "      <th>2334</th>\n",
       "      <td>This is a funny dog. Weird toes. Won't come do...</td>\n",
       "      <td>a</td>\n",
       "    </tr>\n",
       "    <tr>\n",
       "      <th>2347</th>\n",
       "      <td>My oh my. This is a rare blond Canadian terrie...</td>\n",
       "      <td>a</td>\n",
       "    </tr>\n",
       "    <tr>\n",
       "      <th>2348</th>\n",
       "      <td>Here is a Siberian heavily armored polar bear ...</td>\n",
       "      <td>a</td>\n",
       "    </tr>\n",
       "    <tr>\n",
       "      <th>2350</th>\n",
       "      <td>This is a truly beautiful English Wilson Staff...</td>\n",
       "      <td>a</td>\n",
       "    </tr>\n",
       "    <tr>\n",
       "      <th>2352</th>\n",
       "      <td>This is a purebred Piers Morgan. Loves to Netf...</td>\n",
       "      <td>a</td>\n",
       "    </tr>\n",
       "    <tr>\n",
       "      <th>2353</th>\n",
       "      <td>Here is a very happy pup. Big fan of well-main...</td>\n",
       "      <td>a</td>\n",
       "    </tr>\n",
       "    <tr>\n",
       "      <th>2354</th>\n",
       "      <td>This is a western brown Mitsubishi terrier. Up...</td>\n",
       "      <td>a</td>\n",
       "    </tr>\n",
       "  </tbody>\n",
       "</table>\n",
       "</div>"
      ],
      "text/plain": [
       "                                                   text name\n",
       "56    Here is a pupper approaching maximum borkdrive...    a\n",
       "649   Here is a perfect example of someone who has t...    a\n",
       "801   Guys this is getting so out of hand. We only r...    a\n",
       "1002  This is a mighty rare blue-tailed hammer sherk...    a\n",
       "1004  Viewer discretion is advised. This is a terrib...    a\n",
       "1017  This is a carrot. We only rate dogs. Please on...    a\n",
       "1049  This is a very rare Great Alaskan Bush Pupper....    a\n",
       "1193  People please. This is a Deadly Mediterranean ...    a\n",
       "1207  This is a taco. We only rate dogs. Please only...    a\n",
       "1340  Here is a heartbreaking scene of an incredible...    a\n",
       "1351  Here is a whole flock of puppers.  60/50 I'll ...    a\n",
       "1361  This is a Butternut Cumberfloof. It's not wind...    a\n",
       "1368  This is a Wild Tuscan Poofwiggle. Careful not ...    a\n",
       "1382  \"Pupper is a present to world. Here is a bow f...    a\n",
       "1499  This is a rare Arctic Wubberfloof. Unamused by...    a\n",
       "1737  Guys this really needs to stop. We've been ove...    a\n",
       "1785  This is a dog swinging. I really enjoyed it so...    a\n",
       "1853  This is a Sizzlin Menorah spaniel from Brookly...    a\n",
       "1854  Seriously guys?! Only send in dogs. I only rat...    a\n",
       "1877  C'mon guys. We've been over this. We only rate...    a\n",
       "1878  This is a fluffy albino Bacardi Columbia mix. ...    a\n",
       "1923  This is a Sagitariot Baklava mix. Loves her ne...    a\n",
       "1941  This is a heavily opinionated dog. Loves walls...    a\n",
       "1955  This is a Lofted Aphrodisiac Terrier named Kip...    a\n",
       "1994  This is a baby Rand Paul. Curls for days. 11/1...    a\n",
       "2034  This is a Tuscaloosa Alcatraz named Jacob (Yac...    a\n",
       "2066  This is a Helvetica Listerine named Rufus. Thi...    a\n",
       "2116  This is a Deciduous Trimester mix named Spork....    a\n",
       "2125  This is a Rich Mahogany Seltzer named Cherokee...    a\n",
       "2128  This is a Speckled Cauliflower Yosemite named ...    a\n",
       "2146  This is a spotted Lipitor Rumpelstiltskin name...    a\n",
       "2153  This is a brave dog. Excellent free climber. T...    a\n",
       "2161  This is a Coriander Baton Rouge named Alfredo....    a\n",
       "2191  This is a Slovakian Helter Skelter Feta named ...    a\n",
       "2198  This is a wild Toblerone from Papua New Guinea...    a\n",
       "2211  Here is a horned dog. Much grace. Can jump ove...    a\n",
       "2218  This is a Birmingham Quagmire named Chuk. Love...    a\n",
       "2222  Here is a mother dog caring for her pups. Snaz...    a\n",
       "2235  This is a Trans Siberian Kellogg named Alfonso...    a\n",
       "2249  This is a Shotokon Macadamia mix named Cheryl....    a\n",
       "2255  This is a rare Hungarian Pinot named Jessiga. ...    a\n",
       "2264  This is a southwest Coriander named Klint. Hat...    a\n",
       "2273  This is a northern Wahoo named Kohl. He runs t...    a\n",
       "2287  This is a Dasani Kingfisher from Maine. His na...    a\n",
       "2304  This is a curly Ticonderoga named Pepe. No fee...    a\n",
       "2311  This is a purebred Bacardi named Octaviath. Ca...    a\n",
       "2314  This is a golden Buckminsterfullerene named Jo...    a\n",
       "2327  This is a southern Vesuvius bumblegruff. Can d...    a\n",
       "2334  This is a funny dog. Weird toes. Won't come do...    a\n",
       "2347  My oh my. This is a rare blond Canadian terrie...    a\n",
       "2348  Here is a Siberian heavily armored polar bear ...    a\n",
       "2350  This is a truly beautiful English Wilson Staff...    a\n",
       "2352  This is a purebred Piers Morgan. Loves to Netf...    a\n",
       "2353  Here is a very happy pup. Big fan of well-main...    a\n",
       "2354  This is a western brown Mitsubishi terrier. Up...    a"
      ]
     },
     "execution_count": 472,
     "metadata": {},
     "output_type": "execute_result"
    }
   ],
   "source": [
    "twitter_arch.loc[twitter_arch.name == 'a', ['text', 'name']]"
   ]
  },
  {
   "cell_type": "code",
   "execution_count": 473,
   "metadata": {},
   "outputs": [
    {
     "data": {
      "text/plain": [
       "55"
      ]
     },
     "execution_count": 473,
     "metadata": {},
     "output_type": "execute_result"
    }
   ],
   "source": [
    "len(twitter_arch.loc[twitter_arch.name == 'a', ['text', 'name']])"
   ]
  },
  {
   "cell_type": "code",
   "execution_count": 474,
   "metadata": {},
   "outputs": [
    {
     "data": {
      "text/plain": [
       "'This is a Tuscaloosa Alcatraz named Jacob (Yacōb). Loves to sit in swing. Stellar tongue. 11/10 look at his feet https://t.co/2IslQ8ZSc7'"
      ]
     },
     "execution_count": 474,
     "metadata": {},
     "output_type": "execute_result"
    }
   ],
   "source": [
    "# this dog is names Jacob but listed as 'a' in name column\n",
    "twitter_arch.iloc[2034, 5]"
   ]
  },
  {
   "cell_type": "code",
   "execution_count": 475,
   "metadata": {},
   "outputs": [
    {
     "data": {
      "text/plain": [
       "Index(['tweet_id', 'in_reply_to_status_id', 'in_reply_to_user_id', 'timestamp',\n",
       "       'source', 'text', 'retweeted_status_id', 'retweeted_status_user_id',\n",
       "       'retweeted_status_timestamp', 'expanded_urls', 'rating_numerator',\n",
       "       'rating_denominator', 'name', 'doggo', 'floofer', 'pupper', 'puppo'],\n",
       "      dtype='object')"
      ]
     },
     "execution_count": 475,
     "metadata": {},
     "output_type": "execute_result"
    }
   ],
   "source": [
    "twitter_arch.columns"
   ]
  },
  {
   "cell_type": "code",
   "execution_count": 476,
   "metadata": {},
   "outputs": [
    {
     "data": {
      "text/plain": [
       "0"
      ]
     },
     "execution_count": 476,
     "metadata": {},
     "output_type": "execute_result"
    }
   ],
   "source": [
    "# checking for duplicates\n",
    "twitter_arch.duplicated(keep=False, subset=\"tweet_id\").sum()"
   ]
  },
  {
   "cell_type": "markdown",
   "metadata": {},
   "source": [
    "##### `twitter_arch` table\n",
    "- `doggo`, `floofer`, `pupper` and `puppo` columns all contain \"None\" instead of NaN\n",
    "- dog stages should be grouped under 1 column called `dog_stage`\n",
    "- `doggo`, `floofer`, `pupper` and `puppo` columns should all be dropped\n",
    "- a lot of missing values for dog stages\n",
    "- some dogs have more than 1 dog stage\n",
    "- 745 dog names set to \"None\" instead of NaN\n",
    "- a lot of missing values for dog names\n",
    "- some dog names don't sound like dog names at all\n",
    "- 55 dogs are named 'a' and some of those have names in the text column and some don't\n",
    "- `expanded_urls` contains missing vlaues (NaNs)\n",
    "- there are 2356 - 2175 = 181 retweets in this data set (not needed)    \n",
    "- there are 78 replies to tweets in this data set (not needed)\n",
    "- wrong datatype for `timestamp` column\n",
    "- `in_reply_to_status_id`, `in_reply_to_user_id`, `retweeted_status_id`, `retweeted_status_user_id` and  \n",
    "`retweeted_status_timestamp` columns not relevant"
   ]
  },
  {
   "cell_type": "markdown",
   "metadata": {},
   "source": [
    "## image_pred table"
   ]
  },
  {
   "cell_type": "markdown",
   "metadata": {},
   "source": [
    "loading tsv file into a df"
   ]
  },
  {
   "cell_type": "code",
   "execution_count": 477,
   "metadata": {},
   "outputs": [],
   "source": [
    "image_pred = pd.read_csv(\"image_predictions.tsv\", sep='\\t')"
   ]
  },
  {
   "cell_type": "code",
   "execution_count": 478,
   "metadata": {},
   "outputs": [
    {
     "data": {
      "text/html": [
       "<div>\n",
       "<style scoped>\n",
       "    .dataframe tbody tr th:only-of-type {\n",
       "        vertical-align: middle;\n",
       "    }\n",
       "\n",
       "    .dataframe tbody tr th {\n",
       "        vertical-align: top;\n",
       "    }\n",
       "\n",
       "    .dataframe thead th {\n",
       "        text-align: right;\n",
       "    }\n",
       "</style>\n",
       "<table border=\"1\" class=\"dataframe\">\n",
       "  <thead>\n",
       "    <tr style=\"text-align: right;\">\n",
       "      <th></th>\n",
       "      <th>tweet_id</th>\n",
       "      <th>jpg_url</th>\n",
       "      <th>img_num</th>\n",
       "      <th>p1</th>\n",
       "      <th>p1_conf</th>\n",
       "      <th>p1_dog</th>\n",
       "      <th>p2</th>\n",
       "      <th>p2_conf</th>\n",
       "      <th>p2_dog</th>\n",
       "      <th>p3</th>\n",
       "      <th>p3_conf</th>\n",
       "      <th>p3_dog</th>\n",
       "    </tr>\n",
       "  </thead>\n",
       "  <tbody>\n",
       "    <tr>\n",
       "      <th>0</th>\n",
       "      <td>666020888022790149</td>\n",
       "      <td>https://pbs.twimg.com/media/CT4udn0WwAA0aMy.jpg</td>\n",
       "      <td>1</td>\n",
       "      <td>Welsh_springer_spaniel</td>\n",
       "      <td>0.465074</td>\n",
       "      <td>True</td>\n",
       "      <td>collie</td>\n",
       "      <td>0.156665</td>\n",
       "      <td>True</td>\n",
       "      <td>Shetland_sheepdog</td>\n",
       "      <td>0.061428</td>\n",
       "      <td>True</td>\n",
       "    </tr>\n",
       "    <tr>\n",
       "      <th>1</th>\n",
       "      <td>666029285002620928</td>\n",
       "      <td>https://pbs.twimg.com/media/CT42GRgUYAA5iDo.jpg</td>\n",
       "      <td>1</td>\n",
       "      <td>redbone</td>\n",
       "      <td>0.506826</td>\n",
       "      <td>True</td>\n",
       "      <td>miniature_pinscher</td>\n",
       "      <td>0.074192</td>\n",
       "      <td>True</td>\n",
       "      <td>Rhodesian_ridgeback</td>\n",
       "      <td>0.072010</td>\n",
       "      <td>True</td>\n",
       "    </tr>\n",
       "    <tr>\n",
       "      <th>2</th>\n",
       "      <td>666033412701032449</td>\n",
       "      <td>https://pbs.twimg.com/media/CT4521TWwAEvMyu.jpg</td>\n",
       "      <td>1</td>\n",
       "      <td>German_shepherd</td>\n",
       "      <td>0.596461</td>\n",
       "      <td>True</td>\n",
       "      <td>malinois</td>\n",
       "      <td>0.138584</td>\n",
       "      <td>True</td>\n",
       "      <td>bloodhound</td>\n",
       "      <td>0.116197</td>\n",
       "      <td>True</td>\n",
       "    </tr>\n",
       "    <tr>\n",
       "      <th>3</th>\n",
       "      <td>666044226329800704</td>\n",
       "      <td>https://pbs.twimg.com/media/CT5Dr8HUEAA-lEu.jpg</td>\n",
       "      <td>1</td>\n",
       "      <td>Rhodesian_ridgeback</td>\n",
       "      <td>0.408143</td>\n",
       "      <td>True</td>\n",
       "      <td>redbone</td>\n",
       "      <td>0.360687</td>\n",
       "      <td>True</td>\n",
       "      <td>miniature_pinscher</td>\n",
       "      <td>0.222752</td>\n",
       "      <td>True</td>\n",
       "    </tr>\n",
       "    <tr>\n",
       "      <th>4</th>\n",
       "      <td>666049248165822465</td>\n",
       "      <td>https://pbs.twimg.com/media/CT5IQmsXIAAKY4A.jpg</td>\n",
       "      <td>1</td>\n",
       "      <td>miniature_pinscher</td>\n",
       "      <td>0.560311</td>\n",
       "      <td>True</td>\n",
       "      <td>Rottweiler</td>\n",
       "      <td>0.243682</td>\n",
       "      <td>True</td>\n",
       "      <td>Doberman</td>\n",
       "      <td>0.154629</td>\n",
       "      <td>True</td>\n",
       "    </tr>\n",
       "  </tbody>\n",
       "</table>\n",
       "</div>"
      ],
      "text/plain": [
       "             tweet_id                                          jpg_url  \\\n",
       "0  666020888022790149  https://pbs.twimg.com/media/CT4udn0WwAA0aMy.jpg   \n",
       "1  666029285002620928  https://pbs.twimg.com/media/CT42GRgUYAA5iDo.jpg   \n",
       "2  666033412701032449  https://pbs.twimg.com/media/CT4521TWwAEvMyu.jpg   \n",
       "3  666044226329800704  https://pbs.twimg.com/media/CT5Dr8HUEAA-lEu.jpg   \n",
       "4  666049248165822465  https://pbs.twimg.com/media/CT5IQmsXIAAKY4A.jpg   \n",
       "\n",
       "   img_num                      p1   p1_conf  p1_dog                  p2  \\\n",
       "0        1  Welsh_springer_spaniel  0.465074    True              collie   \n",
       "1        1                 redbone  0.506826    True  miniature_pinscher   \n",
       "2        1         German_shepherd  0.596461    True            malinois   \n",
       "3        1     Rhodesian_ridgeback  0.408143    True             redbone   \n",
       "4        1      miniature_pinscher  0.560311    True          Rottweiler   \n",
       "\n",
       "    p2_conf  p2_dog                   p3   p3_conf  p3_dog  \n",
       "0  0.156665    True    Shetland_sheepdog  0.061428    True  \n",
       "1  0.074192    True  Rhodesian_ridgeback  0.072010    True  \n",
       "2  0.138584    True           bloodhound  0.116197    True  \n",
       "3  0.360687    True   miniature_pinscher  0.222752    True  \n",
       "4  0.243682    True             Doberman  0.154629    True  "
      ]
     },
     "execution_count": 478,
     "metadata": {},
     "output_type": "execute_result"
    }
   ],
   "source": [
    "image_pred.head()"
   ]
  },
  {
   "cell_type": "code",
   "execution_count": 479,
   "metadata": {
    "scrolled": true
   },
   "outputs": [
    {
     "name": "stdout",
     "output_type": "stream",
     "text": [
      "<class 'pandas.core.frame.DataFrame'>\n",
      "RangeIndex: 2075 entries, 0 to 2074\n",
      "Data columns (total 12 columns):\n",
      " #   Column    Non-Null Count  Dtype  \n",
      "---  ------    --------------  -----  \n",
      " 0   tweet_id  2075 non-null   int64  \n",
      " 1   jpg_url   2075 non-null   object \n",
      " 2   img_num   2075 non-null   int64  \n",
      " 3   p1        2075 non-null   object \n",
      " 4   p1_conf   2075 non-null   float64\n",
      " 5   p1_dog    2075 non-null   bool   \n",
      " 6   p2        2075 non-null   object \n",
      " 7   p2_conf   2075 non-null   float64\n",
      " 8   p2_dog    2075 non-null   bool   \n",
      " 9   p3        2075 non-null   object \n",
      " 10  p3_conf   2075 non-null   float64\n",
      " 11  p3_dog    2075 non-null   bool   \n",
      "dtypes: bool(3), float64(3), int64(2), object(4)\n",
      "memory usage: 152.1+ KB\n"
     ]
    }
   ],
   "source": [
    "image_pred.info()"
   ]
  },
  {
   "cell_type": "code",
   "execution_count": 480,
   "metadata": {},
   "outputs": [
    {
     "data": {
      "text/html": [
       "<div>\n",
       "<style scoped>\n",
       "    .dataframe tbody tr th:only-of-type {\n",
       "        vertical-align: middle;\n",
       "    }\n",
       "\n",
       "    .dataframe tbody tr th {\n",
       "        vertical-align: top;\n",
       "    }\n",
       "\n",
       "    .dataframe thead th {\n",
       "        text-align: right;\n",
       "    }\n",
       "</style>\n",
       "<table border=\"1\" class=\"dataframe\">\n",
       "  <thead>\n",
       "    <tr style=\"text-align: right;\">\n",
       "      <th></th>\n",
       "      <th>tweet_id</th>\n",
       "      <th>img_num</th>\n",
       "      <th>p1_conf</th>\n",
       "      <th>p2_conf</th>\n",
       "      <th>p3_conf</th>\n",
       "    </tr>\n",
       "  </thead>\n",
       "  <tbody>\n",
       "    <tr>\n",
       "      <th>count</th>\n",
       "      <td>2.075000e+03</td>\n",
       "      <td>2075.000000</td>\n",
       "      <td>2075.000000</td>\n",
       "      <td>2.075000e+03</td>\n",
       "      <td>2.075000e+03</td>\n",
       "    </tr>\n",
       "    <tr>\n",
       "      <th>mean</th>\n",
       "      <td>7.384514e+17</td>\n",
       "      <td>1.203855</td>\n",
       "      <td>0.594548</td>\n",
       "      <td>1.345886e-01</td>\n",
       "      <td>6.032417e-02</td>\n",
       "    </tr>\n",
       "    <tr>\n",
       "      <th>std</th>\n",
       "      <td>6.785203e+16</td>\n",
       "      <td>0.561875</td>\n",
       "      <td>0.271174</td>\n",
       "      <td>1.006657e-01</td>\n",
       "      <td>5.090593e-02</td>\n",
       "    </tr>\n",
       "    <tr>\n",
       "      <th>min</th>\n",
       "      <td>6.660209e+17</td>\n",
       "      <td>1.000000</td>\n",
       "      <td>0.044333</td>\n",
       "      <td>1.011300e-08</td>\n",
       "      <td>1.740170e-10</td>\n",
       "    </tr>\n",
       "    <tr>\n",
       "      <th>25%</th>\n",
       "      <td>6.764835e+17</td>\n",
       "      <td>1.000000</td>\n",
       "      <td>0.364412</td>\n",
       "      <td>5.388625e-02</td>\n",
       "      <td>1.622240e-02</td>\n",
       "    </tr>\n",
       "    <tr>\n",
       "      <th>50%</th>\n",
       "      <td>7.119988e+17</td>\n",
       "      <td>1.000000</td>\n",
       "      <td>0.588230</td>\n",
       "      <td>1.181810e-01</td>\n",
       "      <td>4.944380e-02</td>\n",
       "    </tr>\n",
       "    <tr>\n",
       "      <th>75%</th>\n",
       "      <td>7.932034e+17</td>\n",
       "      <td>1.000000</td>\n",
       "      <td>0.843855</td>\n",
       "      <td>1.955655e-01</td>\n",
       "      <td>9.180755e-02</td>\n",
       "    </tr>\n",
       "    <tr>\n",
       "      <th>max</th>\n",
       "      <td>8.924206e+17</td>\n",
       "      <td>4.000000</td>\n",
       "      <td>1.000000</td>\n",
       "      <td>4.880140e-01</td>\n",
       "      <td>2.734190e-01</td>\n",
       "    </tr>\n",
       "  </tbody>\n",
       "</table>\n",
       "</div>"
      ],
      "text/plain": [
       "           tweet_id      img_num      p1_conf       p2_conf       p3_conf\n",
       "count  2.075000e+03  2075.000000  2075.000000  2.075000e+03  2.075000e+03\n",
       "mean   7.384514e+17     1.203855     0.594548  1.345886e-01  6.032417e-02\n",
       "std    6.785203e+16     0.561875     0.271174  1.006657e-01  5.090593e-02\n",
       "min    6.660209e+17     1.000000     0.044333  1.011300e-08  1.740170e-10\n",
       "25%    6.764835e+17     1.000000     0.364412  5.388625e-02  1.622240e-02\n",
       "50%    7.119988e+17     1.000000     0.588230  1.181810e-01  4.944380e-02\n",
       "75%    7.932034e+17     1.000000     0.843855  1.955655e-01  9.180755e-02\n",
       "max    8.924206e+17     4.000000     1.000000  4.880140e-01  2.734190e-01"
      ]
     },
     "execution_count": 480,
     "metadata": {},
     "output_type": "execute_result"
    }
   ],
   "source": [
    "image_pred.describe()"
   ]
  },
  {
   "cell_type": "code",
   "execution_count": 481,
   "metadata": {},
   "outputs": [
    {
     "data": {
      "text/plain": [
       "(1, 12)"
      ]
     },
     "execution_count": 481,
     "metadata": {},
     "output_type": "execute_result"
    }
   ],
   "source": [
    "image_pred.loc[image_pred.p1_conf == 1, :].shape"
   ]
  },
  {
   "cell_type": "code",
   "execution_count": null,
   "metadata": {},
   "outputs": [],
   "source": []
  },
  {
   "cell_type": "code",
   "execution_count": 482,
   "metadata": {},
   "outputs": [],
   "source": [
    "df_pred = image_pred.copy()"
   ]
  },
  {
   "cell_type": "code",
   "execution_count": 483,
   "metadata": {},
   "outputs": [
    {
     "data": {
      "text/html": [
       "<div>\n",
       "<style scoped>\n",
       "    .dataframe tbody tr th:only-of-type {\n",
       "        vertical-align: middle;\n",
       "    }\n",
       "\n",
       "    .dataframe tbody tr th {\n",
       "        vertical-align: top;\n",
       "    }\n",
       "\n",
       "    .dataframe thead th {\n",
       "        text-align: right;\n",
       "    }\n",
       "</style>\n",
       "<table border=\"1\" class=\"dataframe\">\n",
       "  <thead>\n",
       "    <tr style=\"text-align: right;\">\n",
       "      <th></th>\n",
       "      <th>tweet_id</th>\n",
       "      <th>jpg_url</th>\n",
       "      <th>img_num</th>\n",
       "      <th>p1</th>\n",
       "      <th>p1_conf</th>\n",
       "      <th>p1_dog</th>\n",
       "      <th>p2</th>\n",
       "      <th>p2_conf</th>\n",
       "      <th>p2_dog</th>\n",
       "      <th>p3</th>\n",
       "      <th>p3_conf</th>\n",
       "      <th>p3_dog</th>\n",
       "    </tr>\n",
       "  </thead>\n",
       "  <tbody>\n",
       "    <tr>\n",
       "      <th>0</th>\n",
       "      <td>666020888022790149</td>\n",
       "      <td>https://pbs.twimg.com/media/CT4udn0WwAA0aMy.jpg</td>\n",
       "      <td>1</td>\n",
       "      <td>Welsh_springer_spaniel</td>\n",
       "      <td>0.465074</td>\n",
       "      <td>True</td>\n",
       "      <td>collie</td>\n",
       "      <td>0.156665</td>\n",
       "      <td>True</td>\n",
       "      <td>Shetland_sheepdog</td>\n",
       "      <td>0.061428</td>\n",
       "      <td>True</td>\n",
       "    </tr>\n",
       "    <tr>\n",
       "      <th>1</th>\n",
       "      <td>666029285002620928</td>\n",
       "      <td>https://pbs.twimg.com/media/CT42GRgUYAA5iDo.jpg</td>\n",
       "      <td>1</td>\n",
       "      <td>redbone</td>\n",
       "      <td>0.506826</td>\n",
       "      <td>True</td>\n",
       "      <td>miniature_pinscher</td>\n",
       "      <td>0.074192</td>\n",
       "      <td>True</td>\n",
       "      <td>Rhodesian_ridgeback</td>\n",
       "      <td>0.072010</td>\n",
       "      <td>True</td>\n",
       "    </tr>\n",
       "    <tr>\n",
       "      <th>2</th>\n",
       "      <td>666033412701032449</td>\n",
       "      <td>https://pbs.twimg.com/media/CT4521TWwAEvMyu.jpg</td>\n",
       "      <td>1</td>\n",
       "      <td>German_shepherd</td>\n",
       "      <td>0.596461</td>\n",
       "      <td>True</td>\n",
       "      <td>malinois</td>\n",
       "      <td>0.138584</td>\n",
       "      <td>True</td>\n",
       "      <td>bloodhound</td>\n",
       "      <td>0.116197</td>\n",
       "      <td>True</td>\n",
       "    </tr>\n",
       "    <tr>\n",
       "      <th>3</th>\n",
       "      <td>666044226329800704</td>\n",
       "      <td>https://pbs.twimg.com/media/CT5Dr8HUEAA-lEu.jpg</td>\n",
       "      <td>1</td>\n",
       "      <td>Rhodesian_ridgeback</td>\n",
       "      <td>0.408143</td>\n",
       "      <td>True</td>\n",
       "      <td>redbone</td>\n",
       "      <td>0.360687</td>\n",
       "      <td>True</td>\n",
       "      <td>miniature_pinscher</td>\n",
       "      <td>0.222752</td>\n",
       "      <td>True</td>\n",
       "    </tr>\n",
       "    <tr>\n",
       "      <th>4</th>\n",
       "      <td>666049248165822465</td>\n",
       "      <td>https://pbs.twimg.com/media/CT5IQmsXIAAKY4A.jpg</td>\n",
       "      <td>1</td>\n",
       "      <td>miniature_pinscher</td>\n",
       "      <td>0.560311</td>\n",
       "      <td>True</td>\n",
       "      <td>Rottweiler</td>\n",
       "      <td>0.243682</td>\n",
       "      <td>True</td>\n",
       "      <td>Doberman</td>\n",
       "      <td>0.154629</td>\n",
       "      <td>True</td>\n",
       "    </tr>\n",
       "  </tbody>\n",
       "</table>\n",
       "</div>"
      ],
      "text/plain": [
       "             tweet_id                                          jpg_url  \\\n",
       "0  666020888022790149  https://pbs.twimg.com/media/CT4udn0WwAA0aMy.jpg   \n",
       "1  666029285002620928  https://pbs.twimg.com/media/CT42GRgUYAA5iDo.jpg   \n",
       "2  666033412701032449  https://pbs.twimg.com/media/CT4521TWwAEvMyu.jpg   \n",
       "3  666044226329800704  https://pbs.twimg.com/media/CT5Dr8HUEAA-lEu.jpg   \n",
       "4  666049248165822465  https://pbs.twimg.com/media/CT5IQmsXIAAKY4A.jpg   \n",
       "\n",
       "   img_num                      p1   p1_conf  p1_dog                  p2  \\\n",
       "0        1  Welsh_springer_spaniel  0.465074    True              collie   \n",
       "1        1                 redbone  0.506826    True  miniature_pinscher   \n",
       "2        1         German_shepherd  0.596461    True            malinois   \n",
       "3        1     Rhodesian_ridgeback  0.408143    True             redbone   \n",
       "4        1      miniature_pinscher  0.560311    True          Rottweiler   \n",
       "\n",
       "    p2_conf  p2_dog                   p3   p3_conf  p3_dog  \n",
       "0  0.156665    True    Shetland_sheepdog  0.061428    True  \n",
       "1  0.074192    True  Rhodesian_ridgeback  0.072010    True  \n",
       "2  0.138584    True           bloodhound  0.116197    True  \n",
       "3  0.360687    True   miniature_pinscher  0.222752    True  \n",
       "4  0.243682    True             Doberman  0.154629    True  "
      ]
     },
     "execution_count": 483,
     "metadata": {},
     "output_type": "execute_result"
    }
   ],
   "source": [
    "df_pred.head()"
   ]
  },
  {
   "cell_type": "code",
   "execution_count": 484,
   "metadata": {},
   "outputs": [
    {
     "data": {
      "text/plain": [
       "2075"
      ]
     },
     "execution_count": 484,
     "metadata": {},
     "output_type": "execute_result"
    }
   ],
   "source": [
    "len(df_pred)"
   ]
  },
  {
   "cell_type": "code",
   "execution_count": 485,
   "metadata": {},
   "outputs": [
    {
     "data": {
      "text/plain": [
       "543"
      ]
     },
     "execution_count": 485,
     "metadata": {},
     "output_type": "execute_result"
    }
   ],
   "source": [
    "len(df_pred.loc[(df_pred.p1_dog == False), :])"
   ]
  },
  {
   "cell_type": "code",
   "execution_count": 486,
   "metadata": {},
   "outputs": [
    {
     "data": {
      "text/plain": [
       "388"
      ]
     },
     "execution_count": 486,
     "metadata": {},
     "output_type": "execute_result"
    }
   ],
   "source": [
    "len(df_pred.loc[(df_pred.p1_dog == False) & (df_pred.p2_dog == False), :])"
   ]
  },
  {
   "cell_type": "code",
   "execution_count": 487,
   "metadata": {},
   "outputs": [
    {
     "data": {
      "text/plain": [
       "324"
      ]
     },
     "execution_count": 487,
     "metadata": {},
     "output_type": "execute_result"
    }
   ],
   "source": [
    "# 324 data points are definitely not dogs\n",
    "len(df_pred.loc[(df_pred.p1_dog == False) & (df_pred.p2_dog == False) & (df_pred.p3_dog == False), :])"
   ]
  },
  {
   "cell_type": "code",
   "execution_count": 488,
   "metadata": {},
   "outputs": [
    {
     "data": {
      "text/plain": [
       "155"
      ]
     },
     "execution_count": 488,
     "metadata": {},
     "output_type": "execute_result"
    }
   ],
   "source": [
    "len(df_pred.loc[(df_pred.p1_dog == False) & (df_pred.p2_dog == True), :])"
   ]
  },
  {
   "cell_type": "code",
   "execution_count": 489,
   "metadata": {},
   "outputs": [
    {
     "data": {
      "text/plain": [
       "1398"
      ]
     },
     "execution_count": 489,
     "metadata": {},
     "output_type": "execute_result"
    }
   ],
   "source": [
    "\n",
    "len(df_pred.loc[(df_pred.p1_dog == True) & (df_pred.p2_dog == True), :])"
   ]
  },
  {
   "cell_type": "code",
   "execution_count": 490,
   "metadata": {},
   "outputs": [
    {
     "data": {
      "text/plain": [
       "1532"
      ]
     },
     "execution_count": 490,
     "metadata": {},
     "output_type": "execute_result"
    }
   ],
   "source": [
    "len(df_pred.loc[(df_pred.p1_dog == True), :])"
   ]
  },
  {
   "cell_type": "code",
   "execution_count": 491,
   "metadata": {},
   "outputs": [
    {
     "data": {
      "text/plain": [
       "0"
      ]
     },
     "execution_count": 491,
     "metadata": {},
     "output_type": "execute_result"
    }
   ],
   "source": [
    "# checking for duplicates in the table\n",
    "image_pred.duplicated(keep=False, subset='tweet_id').sum()"
   ]
  },
  {
   "cell_type": "markdown",
   "metadata": {},
   "source": [
    "`image_pred` table\n",
    "- 324 data points are definitely not dogs (all p's=False)\n",
    "- one row has a 1 confidence\n",
    "- dog breed inconsistent (some capital and some small case)\n",
    "- dog breeds sepearated by underscore\n",
    "\n"
   ]
  },
  {
   "cell_type": "markdown",
   "metadata": {},
   "source": [
    "## Master Table"
   ]
  },
  {
   "cell_type": "markdown",
   "metadata": {},
   "source": [
    "`Master` Table"
   ]
  },
  {
   "cell_type": "markdown",
   "metadata": {},
   "source": [
    "- 3 tables to be joined into 1 master table\n",
    "- master table should have a `breed` column\n",
    "- drop all irrelevant columns from master\n",
    "\n"
   ]
  },
  {
   "cell_type": "markdown",
   "metadata": {},
   "source": [
    "# Clean"
   ]
  },
  {
   "cell_type": "markdown",
   "metadata": {},
   "source": [
    "## tw table"
   ]
  },
  {
   "cell_type": "code",
   "execution_count": 492,
   "metadata": {},
   "outputs": [],
   "source": [
    "tw = twitter_arch.copy()"
   ]
  },
  {
   "cell_type": "code",
   "execution_count": 493,
   "metadata": {},
   "outputs": [
    {
     "name": "stdout",
     "output_type": "stream",
     "text": [
      "<class 'pandas.core.frame.DataFrame'>\n",
      "RangeIndex: 2356 entries, 0 to 2355\n",
      "Data columns (total 17 columns):\n",
      " #   Column                      Non-Null Count  Dtype  \n",
      "---  ------                      --------------  -----  \n",
      " 0   tweet_id                    2356 non-null   int64  \n",
      " 1   in_reply_to_status_id       78 non-null     float64\n",
      " 2   in_reply_to_user_id         78 non-null     float64\n",
      " 3   timestamp                   2356 non-null   object \n",
      " 4   source                      2356 non-null   object \n",
      " 5   text                        2356 non-null   object \n",
      " 6   retweeted_status_id         181 non-null    float64\n",
      " 7   retweeted_status_user_id    181 non-null    float64\n",
      " 8   retweeted_status_timestamp  181 non-null    object \n",
      " 9   expanded_urls               2297 non-null   object \n",
      " 10  rating_numerator            2356 non-null   int64  \n",
      " 11  rating_denominator          2356 non-null   int64  \n",
      " 12  name                        2356 non-null   object \n",
      " 13  doggo                       2356 non-null   object \n",
      " 14  floofer                     2356 non-null   object \n",
      " 15  pupper                      2356 non-null   object \n",
      " 16  puppo                       2356 non-null   object \n",
      "dtypes: float64(4), int64(3), object(10)\n",
      "memory usage: 313.0+ KB\n"
     ]
    }
   ],
   "source": [
    "tw.info()"
   ]
  },
  {
   "cell_type": "markdown",
   "metadata": {},
   "source": [
    "### Define "
   ]
  },
  {
   "cell_type": "markdown",
   "metadata": {},
   "source": [
    "change 745 dog names from \"None\" to NaN"
   ]
  },
  {
   "cell_type": "markdown",
   "metadata": {},
   "source": [
    "### Code \n"
   ]
  },
  {
   "cell_type": "code",
   "execution_count": 494,
   "metadata": {},
   "outputs": [],
   "source": [
    "tw.name.replace(\"None\", np.nan, inplace=True)"
   ]
  },
  {
   "cell_type": "markdown",
   "metadata": {},
   "source": [
    "### Test"
   ]
  },
  {
   "cell_type": "code",
   "execution_count": 495,
   "metadata": {},
   "outputs": [
    {
     "data": {
      "text/plain": [
       "tweet_id                         0\n",
       "in_reply_to_status_id         2278\n",
       "in_reply_to_user_id           2278\n",
       "timestamp                        0\n",
       "source                           0\n",
       "text                             0\n",
       "retweeted_status_id           2175\n",
       "retweeted_status_user_id      2175\n",
       "retweeted_status_timestamp    2175\n",
       "expanded_urls                   59\n",
       "rating_numerator                 0\n",
       "rating_denominator               0\n",
       "name                           745\n",
       "doggo                            0\n",
       "floofer                          0\n",
       "pupper                           0\n",
       "puppo                            0\n",
       "dtype: int64"
      ]
     },
     "execution_count": 495,
     "metadata": {},
     "output_type": "execute_result"
    }
   ],
   "source": [
    "tw.isna().sum(axis = 0)"
   ]
  },
  {
   "cell_type": "code",
   "execution_count": 496,
   "metadata": {},
   "outputs": [
    {
     "data": {
      "text/plain": [
       "0"
      ]
     },
     "execution_count": 496,
     "metadata": {},
     "output_type": "execute_result"
    }
   ],
   "source": [
    "len(tw[tw.name == \"None\"])"
   ]
  },
  {
   "cell_type": "markdown",
   "metadata": {},
   "source": [
    "### Define"
   ]
  },
  {
   "cell_type": "markdown",
   "metadata": {},
   "source": [
    "Change all \"None\" values in `doggo`, `floofer`, `pupper` and `puppo` columns to NaNs\n",
    "\n"
   ]
  },
  {
   "cell_type": "markdown",
   "metadata": {},
   "source": [
    "### Code"
   ]
  },
  {
   "cell_type": "code",
   "execution_count": 497,
   "metadata": {},
   "outputs": [],
   "source": [
    "tw.doggo.replace(\"None\", np.nan, inplace=True)\n",
    "tw.floofer.replace(\"None\", np.nan, inplace=True)\n",
    "tw.pupper.replace(\"None\", np.nan, inplace=True)\n",
    "tw.puppo.replace(\"None\", np.nan, inplace=True)"
   ]
  },
  {
   "cell_type": "markdown",
   "metadata": {},
   "source": [
    "### Test"
   ]
  },
  {
   "cell_type": "code",
   "execution_count": 498,
   "metadata": {},
   "outputs": [
    {
     "name": "stdout",
     "output_type": "stream",
     "text": [
      "0\n",
      "0\n",
      "0\n",
      "0\n"
     ]
    }
   ],
   "source": [
    "print(len(tw[tw.doggo == \"None\"]))\n",
    "print(len(tw[tw.floofer == \"None\"]))\n",
    "print(len(tw[tw.pupper == \"None\"]))\n",
    "print(len(tw[tw.puppo == \"None\"]))"
   ]
  },
  {
   "cell_type": "code",
   "execution_count": 499,
   "metadata": {},
   "outputs": [
    {
     "name": "stdout",
     "output_type": "stream",
     "text": [
      "<class 'pandas.core.frame.DataFrame'>\n",
      "RangeIndex: 2356 entries, 0 to 2355\n",
      "Data columns (total 17 columns):\n",
      " #   Column                      Non-Null Count  Dtype  \n",
      "---  ------                      --------------  -----  \n",
      " 0   tweet_id                    2356 non-null   int64  \n",
      " 1   in_reply_to_status_id       78 non-null     float64\n",
      " 2   in_reply_to_user_id         78 non-null     float64\n",
      " 3   timestamp                   2356 non-null   object \n",
      " 4   source                      2356 non-null   object \n",
      " 5   text                        2356 non-null   object \n",
      " 6   retweeted_status_id         181 non-null    float64\n",
      " 7   retweeted_status_user_id    181 non-null    float64\n",
      " 8   retweeted_status_timestamp  181 non-null    object \n",
      " 9   expanded_urls               2297 non-null   object \n",
      " 10  rating_numerator            2356 non-null   int64  \n",
      " 11  rating_denominator          2356 non-null   int64  \n",
      " 12  name                        1611 non-null   object \n",
      " 13  doggo                       97 non-null     object \n",
      " 14  floofer                     10 non-null     object \n",
      " 15  pupper                      257 non-null    object \n",
      " 16  puppo                       30 non-null     object \n",
      "dtypes: float64(4), int64(3), object(10)\n",
      "memory usage: 313.0+ KB\n"
     ]
    }
   ],
   "source": [
    "tw.info()"
   ]
  },
  {
   "cell_type": "markdown",
   "metadata": {},
   "source": [
    "### Define "
   ]
  },
  {
   "cell_type": "markdown",
   "metadata": {},
   "source": [
    "Remove 181 retweets to tweets in this data set as they are not needed. We're only interested in tweets\n",
    "\n"
   ]
  },
  {
   "cell_type": "markdown",
   "metadata": {},
   "source": [
    "### Code "
   ]
  },
  {
   "cell_type": "code",
   "execution_count": 500,
   "metadata": {},
   "outputs": [],
   "source": [
    "# drop all rows that are retweets (181 rows)\n",
    "condition = (tw.retweeted_status_id.notna())\n",
    "tw.drop(tw[condition].index, inplace=True)\n"
   ]
  },
  {
   "cell_type": "markdown",
   "metadata": {},
   "source": [
    "### Test "
   ]
  },
  {
   "cell_type": "code",
   "execution_count": 501,
   "metadata": {},
   "outputs": [
    {
     "name": "stdout",
     "output_type": "stream",
     "text": [
      "<class 'pandas.core.frame.DataFrame'>\n",
      "Int64Index: 2175 entries, 0 to 2355\n",
      "Data columns (total 17 columns):\n",
      " #   Column                      Non-Null Count  Dtype  \n",
      "---  ------                      --------------  -----  \n",
      " 0   tweet_id                    2175 non-null   int64  \n",
      " 1   in_reply_to_status_id       78 non-null     float64\n",
      " 2   in_reply_to_user_id         78 non-null     float64\n",
      " 3   timestamp                   2175 non-null   object \n",
      " 4   source                      2175 non-null   object \n",
      " 5   text                        2175 non-null   object \n",
      " 6   retweeted_status_id         0 non-null      float64\n",
      " 7   retweeted_status_user_id    0 non-null      float64\n",
      " 8   retweeted_status_timestamp  0 non-null      object \n",
      " 9   expanded_urls               2117 non-null   object \n",
      " 10  rating_numerator            2175 non-null   int64  \n",
      " 11  rating_denominator          2175 non-null   int64  \n",
      " 12  name                        1495 non-null   object \n",
      " 13  doggo                       87 non-null     object \n",
      " 14  floofer                     10 non-null     object \n",
      " 15  pupper                      234 non-null    object \n",
      " 16  puppo                       25 non-null     object \n",
      "dtypes: float64(4), int64(3), object(10)\n",
      "memory usage: 305.9+ KB\n"
     ]
    }
   ],
   "source": [
    "tw.info()"
   ]
  },
  {
   "cell_type": "markdown",
   "metadata": {},
   "source": [
    "### Define"
   ]
  },
  {
   "cell_type": "markdown",
   "metadata": {},
   "source": [
    "Remove 78 replies to tweets in this data set. We're only interested in tweets\n",
    "\n"
   ]
  },
  {
   "cell_type": "markdown",
   "metadata": {},
   "source": [
    "### Code"
   ]
  },
  {
   "cell_type": "code",
   "execution_count": 502,
   "metadata": {},
   "outputs": [],
   "source": [
    "# drop all rows that are replies (78 rows)\n",
    "condition = (tw.in_reply_to_status_id.notna())\n",
    "tw.drop(tw[condition].index, inplace=True)\n",
    "\n"
   ]
  },
  {
   "cell_type": "markdown",
   "metadata": {},
   "source": [
    "### Test"
   ]
  },
  {
   "cell_type": "code",
   "execution_count": 503,
   "metadata": {},
   "outputs": [
    {
     "name": "stdout",
     "output_type": "stream",
     "text": [
      "<class 'pandas.core.frame.DataFrame'>\n",
      "Int64Index: 2097 entries, 0 to 2355\n",
      "Data columns (total 17 columns):\n",
      " #   Column                      Non-Null Count  Dtype  \n",
      "---  ------                      --------------  -----  \n",
      " 0   tweet_id                    2097 non-null   int64  \n",
      " 1   in_reply_to_status_id       0 non-null      float64\n",
      " 2   in_reply_to_user_id         0 non-null      float64\n",
      " 3   timestamp                   2097 non-null   object \n",
      " 4   source                      2097 non-null   object \n",
      " 5   text                        2097 non-null   object \n",
      " 6   retweeted_status_id         0 non-null      float64\n",
      " 7   retweeted_status_user_id    0 non-null      float64\n",
      " 8   retweeted_status_timestamp  0 non-null      object \n",
      " 9   expanded_urls               2094 non-null   object \n",
      " 10  rating_numerator            2097 non-null   int64  \n",
      " 11  rating_denominator          2097 non-null   int64  \n",
      " 12  name                        1494 non-null   object \n",
      " 13  doggo                       83 non-null     object \n",
      " 14  floofer                     10 non-null     object \n",
      " 15  pupper                      230 non-null    object \n",
      " 16  puppo                       24 non-null     object \n",
      "dtypes: float64(4), int64(3), object(10)\n",
      "memory usage: 294.9+ KB\n"
     ]
    }
   ],
   "source": [
    "tw.info()"
   ]
  },
  {
   "cell_type": "markdown",
   "metadata": {},
   "source": [
    "### Define"
   ]
  },
  {
   "cell_type": "markdown",
   "metadata": {},
   "source": [
    "Change wrong datatype for `timestamp` column to datetime datatype\n",
    "\n"
   ]
  },
  {
   "cell_type": "markdown",
   "metadata": {},
   "source": [
    "### Code"
   ]
  },
  {
   "cell_type": "code",
   "execution_count": 504,
   "metadata": {},
   "outputs": [],
   "source": [
    "tw.timestamp = pd.to_datetime(tw.timestamp)\n"
   ]
  },
  {
   "cell_type": "markdown",
   "metadata": {},
   "source": [
    "### Test"
   ]
  },
  {
   "cell_type": "code",
   "execution_count": 505,
   "metadata": {},
   "outputs": [
    {
     "data": {
      "text/plain": [
       "datetime64[ns, UTC]"
      ]
     },
     "execution_count": 505,
     "metadata": {},
     "output_type": "execute_result"
    }
   ],
   "source": [
    "tw.timestamp.dtype"
   ]
  },
  {
   "cell_type": "markdown",
   "metadata": {},
   "source": [
    "### Define"
   ]
  },
  {
   "cell_type": "markdown",
   "metadata": {},
   "source": [
    "Drop `in_reply_to_status_id`, `in_reply_to_user_id`, `retweeted_status_id`, `retweeted_status_user_id` and\n",
    "`retweeted_status_timestamp` columns since they are not relevant."
   ]
  },
  {
   "cell_type": "markdown",
   "metadata": {},
   "source": [
    "### Code"
   ]
  },
  {
   "cell_type": "code",
   "execution_count": 506,
   "metadata": {},
   "outputs": [
    {
     "data": {
      "text/plain": [
       "Index(['tweet_id', 'in_reply_to_status_id', 'in_reply_to_user_id', 'timestamp',\n",
       "       'source', 'text', 'retweeted_status_id', 'retweeted_status_user_id',\n",
       "       'retweeted_status_timestamp', 'expanded_urls', 'rating_numerator',\n",
       "       'rating_denominator', 'name', 'doggo', 'floofer', 'pupper', 'puppo'],\n",
       "      dtype='object')"
      ]
     },
     "execution_count": 506,
     "metadata": {},
     "output_type": "execute_result"
    }
   ],
   "source": [
    "tw.columns"
   ]
  },
  {
   "cell_type": "code",
   "execution_count": 507,
   "metadata": {},
   "outputs": [],
   "source": [
    "tw.drop(['in_reply_to_status_id', 'in_reply_to_user_id','retweeted_status_id', 'retweeted_status_user_id',\n",
    "       'retweeted_status_timestamp'],axis='columns', inplace=True)"
   ]
  },
  {
   "cell_type": "markdown",
   "metadata": {},
   "source": [
    "### Test"
   ]
  },
  {
   "cell_type": "code",
   "execution_count": 508,
   "metadata": {},
   "outputs": [
    {
     "data": {
      "text/plain": [
       "Index(['tweet_id', 'timestamp', 'source', 'text', 'expanded_urls',\n",
       "       'rating_numerator', 'rating_denominator', 'name', 'doggo', 'floofer',\n",
       "       'pupper', 'puppo'],\n",
       "      dtype='object')"
      ]
     },
     "execution_count": 508,
     "metadata": {},
     "output_type": "execute_result"
    }
   ],
   "source": [
    "tw.columns"
   ]
  },
  {
   "cell_type": "code",
   "execution_count": 509,
   "metadata": {},
   "outputs": [
    {
     "data": {
      "text/html": [
       "<div>\n",
       "<style scoped>\n",
       "    .dataframe tbody tr th:only-of-type {\n",
       "        vertical-align: middle;\n",
       "    }\n",
       "\n",
       "    .dataframe tbody tr th {\n",
       "        vertical-align: top;\n",
       "    }\n",
       "\n",
       "    .dataframe thead th {\n",
       "        text-align: right;\n",
       "    }\n",
       "</style>\n",
       "<table border=\"1\" class=\"dataframe\">\n",
       "  <thead>\n",
       "    <tr style=\"text-align: right;\">\n",
       "      <th></th>\n",
       "      <th>tweet_id</th>\n",
       "      <th>timestamp</th>\n",
       "      <th>source</th>\n",
       "      <th>text</th>\n",
       "      <th>expanded_urls</th>\n",
       "      <th>rating_numerator</th>\n",
       "      <th>rating_denominator</th>\n",
       "      <th>name</th>\n",
       "      <th>doggo</th>\n",
       "      <th>floofer</th>\n",
       "      <th>pupper</th>\n",
       "      <th>puppo</th>\n",
       "    </tr>\n",
       "  </thead>\n",
       "  <tbody>\n",
       "    <tr>\n",
       "      <th>9</th>\n",
       "      <td>890240255349198849</td>\n",
       "      <td>2017-07-26 15:59:51+00:00</td>\n",
       "      <td>&lt;a href=\"http://twitter.com/download/iphone\" r...</td>\n",
       "      <td>This is Cassie. She is a college pup. Studying...</td>\n",
       "      <td>https://twitter.com/dog_rates/status/890240255...</td>\n",
       "      <td>14</td>\n",
       "      <td>10</td>\n",
       "      <td>Cassie</td>\n",
       "      <td>doggo</td>\n",
       "      <td>NaN</td>\n",
       "      <td>NaN</td>\n",
       "      <td>NaN</td>\n",
       "    </tr>\n",
       "    <tr>\n",
       "      <th>43</th>\n",
       "      <td>884162670584377345</td>\n",
       "      <td>2017-07-09 21:29:42+00:00</td>\n",
       "      <td>&lt;a href=\"http://twitter.com/download/iphone\" r...</td>\n",
       "      <td>Meet Yogi. He doesn't have any important dog m...</td>\n",
       "      <td>https://twitter.com/dog_rates/status/884162670...</td>\n",
       "      <td>12</td>\n",
       "      <td>10</td>\n",
       "      <td>Yogi</td>\n",
       "      <td>doggo</td>\n",
       "      <td>NaN</td>\n",
       "      <td>NaN</td>\n",
       "      <td>NaN</td>\n",
       "    </tr>\n",
       "    <tr>\n",
       "      <th>99</th>\n",
       "      <td>872967104147763200</td>\n",
       "      <td>2017-06-09 00:02:31+00:00</td>\n",
       "      <td>&lt;a href=\"http://twitter.com/download/iphone\" r...</td>\n",
       "      <td>Here's a very large dog. He has a date later. ...</td>\n",
       "      <td>https://twitter.com/dog_rates/status/872967104...</td>\n",
       "      <td>12</td>\n",
       "      <td>10</td>\n",
       "      <td>NaN</td>\n",
       "      <td>doggo</td>\n",
       "      <td>NaN</td>\n",
       "      <td>NaN</td>\n",
       "      <td>NaN</td>\n",
       "    </tr>\n",
       "    <tr>\n",
       "      <th>108</th>\n",
       "      <td>871515927908634625</td>\n",
       "      <td>2017-06-04 23:56:03+00:00</td>\n",
       "      <td>&lt;a href=\"http://twitter.com/download/iphone\" r...</td>\n",
       "      <td>This is Napolean. He's a Raggedy East Nicaragu...</td>\n",
       "      <td>https://twitter.com/dog_rates/status/871515927...</td>\n",
       "      <td>12</td>\n",
       "      <td>10</td>\n",
       "      <td>Napolean</td>\n",
       "      <td>doggo</td>\n",
       "      <td>NaN</td>\n",
       "      <td>NaN</td>\n",
       "      <td>NaN</td>\n",
       "    </tr>\n",
       "    <tr>\n",
       "      <th>110</th>\n",
       "      <td>871102520638267392</td>\n",
       "      <td>2017-06-03 20:33:19+00:00</td>\n",
       "      <td>&lt;a href=\"http://twitter.com/download/iphone\" r...</td>\n",
       "      <td>Never doubt a doggo 14/10 https://t.co/AbBLh2FZCH</td>\n",
       "      <td>https://twitter.com/animalcog/status/871075758...</td>\n",
       "      <td>14</td>\n",
       "      <td>10</td>\n",
       "      <td>NaN</td>\n",
       "      <td>doggo</td>\n",
       "      <td>NaN</td>\n",
       "      <td>NaN</td>\n",
       "      <td>NaN</td>\n",
       "    </tr>\n",
       "    <tr>\n",
       "      <th>...</th>\n",
       "      <td>...</td>\n",
       "      <td>...</td>\n",
       "      <td>...</td>\n",
       "      <td>...</td>\n",
       "      <td>...</td>\n",
       "      <td>...</td>\n",
       "      <td>...</td>\n",
       "      <td>...</td>\n",
       "      <td>...</td>\n",
       "      <td>...</td>\n",
       "      <td>...</td>\n",
       "      <td>...</td>\n",
       "    </tr>\n",
       "    <tr>\n",
       "      <th>1117</th>\n",
       "      <td>732375214819057664</td>\n",
       "      <td>2016-05-17 01:00:32+00:00</td>\n",
       "      <td>&lt;a href=\"http://twitter.com/download/iphone\" r...</td>\n",
       "      <td>This is Kyle (pronounced 'Mitch'). He strives ...</td>\n",
       "      <td>https://twitter.com/dog_rates/status/732375214...</td>\n",
       "      <td>11</td>\n",
       "      <td>10</td>\n",
       "      <td>Kyle</td>\n",
       "      <td>doggo</td>\n",
       "      <td>NaN</td>\n",
       "      <td>NaN</td>\n",
       "      <td>NaN</td>\n",
       "    </tr>\n",
       "    <tr>\n",
       "      <th>1141</th>\n",
       "      <td>727644517743104000</td>\n",
       "      <td>2016-05-03 23:42:26+00:00</td>\n",
       "      <td>&lt;a href=\"http://twitter.com/download/iphone\" r...</td>\n",
       "      <td>Here's a doggo struggling to cope with the win...</td>\n",
       "      <td>https://twitter.com/dog_rates/status/727644517...</td>\n",
       "      <td>13</td>\n",
       "      <td>10</td>\n",
       "      <td>NaN</td>\n",
       "      <td>doggo</td>\n",
       "      <td>NaN</td>\n",
       "      <td>NaN</td>\n",
       "      <td>NaN</td>\n",
       "    </tr>\n",
       "    <tr>\n",
       "      <th>1156</th>\n",
       "      <td>724771698126512129</td>\n",
       "      <td>2016-04-26 01:26:53+00:00</td>\n",
       "      <td>&lt;a href=\"http://twitter.com/download/iphone\" r...</td>\n",
       "      <td>Nothin better than a doggo and a sunset. 11/10...</td>\n",
       "      <td>https://twitter.com/dog_rates/status/724771698...</td>\n",
       "      <td>11</td>\n",
       "      <td>10</td>\n",
       "      <td>NaN</td>\n",
       "      <td>doggo</td>\n",
       "      <td>NaN</td>\n",
       "      <td>NaN</td>\n",
       "      <td>NaN</td>\n",
       "    </tr>\n",
       "    <tr>\n",
       "      <th>1176</th>\n",
       "      <td>719991154352222208</td>\n",
       "      <td>2016-04-12 20:50:42+00:00</td>\n",
       "      <td>&lt;a href=\"http://twitter.com/download/iphone\" r...</td>\n",
       "      <td>This doggo was initially thrilled when she saw...</td>\n",
       "      <td>https://twitter.com/dog_rates/status/719991154...</td>\n",
       "      <td>10</td>\n",
       "      <td>10</td>\n",
       "      <td>NaN</td>\n",
       "      <td>doggo</td>\n",
       "      <td>NaN</td>\n",
       "      <td>NaN</td>\n",
       "      <td>NaN</td>\n",
       "    </tr>\n",
       "    <tr>\n",
       "      <th>1204</th>\n",
       "      <td>716080869887381504</td>\n",
       "      <td>2016-04-02 01:52:38+00:00</td>\n",
       "      <td>&lt;a href=\"http://twitter.com/download/iphone\" r...</td>\n",
       "      <td>Here's a super majestic doggo and a sunset 11/...</td>\n",
       "      <td>https://twitter.com/dog_rates/status/716080869...</td>\n",
       "      <td>11</td>\n",
       "      <td>10</td>\n",
       "      <td>NaN</td>\n",
       "      <td>doggo</td>\n",
       "      <td>NaN</td>\n",
       "      <td>NaN</td>\n",
       "      <td>NaN</td>\n",
       "    </tr>\n",
       "  </tbody>\n",
       "</table>\n",
       "<p>83 rows × 12 columns</p>\n",
       "</div>"
      ],
      "text/plain": [
       "                tweet_id                 timestamp  \\\n",
       "9     890240255349198849 2017-07-26 15:59:51+00:00   \n",
       "43    884162670584377345 2017-07-09 21:29:42+00:00   \n",
       "99    872967104147763200 2017-06-09 00:02:31+00:00   \n",
       "108   871515927908634625 2017-06-04 23:56:03+00:00   \n",
       "110   871102520638267392 2017-06-03 20:33:19+00:00   \n",
       "...                  ...                       ...   \n",
       "1117  732375214819057664 2016-05-17 01:00:32+00:00   \n",
       "1141  727644517743104000 2016-05-03 23:42:26+00:00   \n",
       "1156  724771698126512129 2016-04-26 01:26:53+00:00   \n",
       "1176  719991154352222208 2016-04-12 20:50:42+00:00   \n",
       "1204  716080869887381504 2016-04-02 01:52:38+00:00   \n",
       "\n",
       "                                                 source  \\\n",
       "9     <a href=\"http://twitter.com/download/iphone\" r...   \n",
       "43    <a href=\"http://twitter.com/download/iphone\" r...   \n",
       "99    <a href=\"http://twitter.com/download/iphone\" r...   \n",
       "108   <a href=\"http://twitter.com/download/iphone\" r...   \n",
       "110   <a href=\"http://twitter.com/download/iphone\" r...   \n",
       "...                                                 ...   \n",
       "1117  <a href=\"http://twitter.com/download/iphone\" r...   \n",
       "1141  <a href=\"http://twitter.com/download/iphone\" r...   \n",
       "1156  <a href=\"http://twitter.com/download/iphone\" r...   \n",
       "1176  <a href=\"http://twitter.com/download/iphone\" r...   \n",
       "1204  <a href=\"http://twitter.com/download/iphone\" r...   \n",
       "\n",
       "                                                   text  \\\n",
       "9     This is Cassie. She is a college pup. Studying...   \n",
       "43    Meet Yogi. He doesn't have any important dog m...   \n",
       "99    Here's a very large dog. He has a date later. ...   \n",
       "108   This is Napolean. He's a Raggedy East Nicaragu...   \n",
       "110   Never doubt a doggo 14/10 https://t.co/AbBLh2FZCH   \n",
       "...                                                 ...   \n",
       "1117  This is Kyle (pronounced 'Mitch'). He strives ...   \n",
       "1141  Here's a doggo struggling to cope with the win...   \n",
       "1156  Nothin better than a doggo and a sunset. 11/10...   \n",
       "1176  This doggo was initially thrilled when she saw...   \n",
       "1204  Here's a super majestic doggo and a sunset 11/...   \n",
       "\n",
       "                                          expanded_urls  rating_numerator  \\\n",
       "9     https://twitter.com/dog_rates/status/890240255...                14   \n",
       "43    https://twitter.com/dog_rates/status/884162670...                12   \n",
       "99    https://twitter.com/dog_rates/status/872967104...                12   \n",
       "108   https://twitter.com/dog_rates/status/871515927...                12   \n",
       "110   https://twitter.com/animalcog/status/871075758...                14   \n",
       "...                                                 ...               ...   \n",
       "1117  https://twitter.com/dog_rates/status/732375214...                11   \n",
       "1141  https://twitter.com/dog_rates/status/727644517...                13   \n",
       "1156  https://twitter.com/dog_rates/status/724771698...                11   \n",
       "1176  https://twitter.com/dog_rates/status/719991154...                10   \n",
       "1204  https://twitter.com/dog_rates/status/716080869...                11   \n",
       "\n",
       "      rating_denominator      name  doggo floofer pupper puppo  \n",
       "9                     10    Cassie  doggo     NaN    NaN   NaN  \n",
       "43                    10      Yogi  doggo     NaN    NaN   NaN  \n",
       "99                    10       NaN  doggo     NaN    NaN   NaN  \n",
       "108                   10  Napolean  doggo     NaN    NaN   NaN  \n",
       "110                   10       NaN  doggo     NaN    NaN   NaN  \n",
       "...                  ...       ...    ...     ...    ...   ...  \n",
       "1117                  10      Kyle  doggo     NaN    NaN   NaN  \n",
       "1141                  10       NaN  doggo     NaN    NaN   NaN  \n",
       "1156                  10       NaN  doggo     NaN    NaN   NaN  \n",
       "1176                  10       NaN  doggo     NaN    NaN   NaN  \n",
       "1204                  10       NaN  doggo     NaN    NaN   NaN  \n",
       "\n",
       "[83 rows x 12 columns]"
      ]
     },
     "execution_count": 509,
     "metadata": {},
     "output_type": "execute_result"
    }
   ],
   "source": [
    "tw.loc[tw.doggo.notna(), : ]"
   ]
  },
  {
   "cell_type": "code",
   "execution_count": 510,
   "metadata": {},
   "outputs": [
    {
     "data": {
      "text/plain": [
       "tweet_id                                             890240255349198849\n",
       "timestamp                                     2017-07-26 15:59:51+00:00\n",
       "source                <a href=\"http://twitter.com/download/iphone\" r...\n",
       "text                  This is Cassie. She is a college pup. Studying...\n",
       "expanded_urls         https://twitter.com/dog_rates/status/890240255...\n",
       "rating_numerator                                                     14\n",
       "rating_denominator                                                   10\n",
       "name                                                             Cassie\n",
       "doggo                                                             doggo\n",
       "floofer                                                             NaN\n",
       "pupper                                                              NaN\n",
       "puppo                                                               NaN\n",
       "Name: 9, dtype: object"
      ]
     },
     "execution_count": 510,
     "metadata": {},
     "output_type": "execute_result"
    }
   ],
   "source": [
    "tw.iloc[9, :]"
   ]
  },
  {
   "cell_type": "code",
   "execution_count": 511,
   "metadata": {},
   "outputs": [
    {
     "data": {
      "text/plain": [
       "Index(['tweet_id', 'timestamp', 'source', 'text', 'expanded_urls',\n",
       "       'rating_numerator', 'rating_denominator', 'name', 'doggo', 'floofer',\n",
       "       'pupper', 'puppo'],\n",
       "      dtype='object')"
      ]
     },
     "execution_count": 511,
     "metadata": {},
     "output_type": "execute_result"
    }
   ],
   "source": [
    "tw.columns"
   ]
  },
  {
   "cell_type": "code",
   "execution_count": 512,
   "metadata": {},
   "outputs": [],
   "source": [
    "tw.doggo.replace(np.nan, '', inplace=True)\n",
    "tw.floofer.replace(np.nan, '', inplace=True)\n",
    "tw.pupper.replace(np.nan, '', inplace=True)\n",
    "tw.puppo.replace(np.nan, '', inplace=True)"
   ]
  },
  {
   "cell_type": "code",
   "execution_count": 513,
   "metadata": {},
   "outputs": [],
   "source": [
    "tw['dog_stage'] = tw.doggo + tw.floofer + tw.pupper + tw.puppo"
   ]
  },
  {
   "cell_type": "code",
   "execution_count": 514,
   "metadata": {},
   "outputs": [
    {
     "data": {
      "text/plain": [
       "Index(['tweet_id', 'timestamp', 'source', 'text', 'expanded_urls',\n",
       "       'rating_numerator', 'rating_denominator', 'name', 'doggo', 'floofer',\n",
       "       'pupper', 'puppo', 'dog_stage'],\n",
       "      dtype='object')"
      ]
     },
     "execution_count": 514,
     "metadata": {},
     "output_type": "execute_result"
    }
   ],
   "source": [
    "tw.columns\n"
   ]
  },
  {
   "cell_type": "code",
   "execution_count": 515,
   "metadata": {},
   "outputs": [
    {
     "name": "stdout",
     "output_type": "stream",
     "text": [
      "<class 'pandas.core.frame.DataFrame'>\n",
      "Int64Index: 2097 entries, 0 to 2355\n",
      "Data columns (total 13 columns):\n",
      " #   Column              Non-Null Count  Dtype              \n",
      "---  ------              --------------  -----              \n",
      " 0   tweet_id            2097 non-null   int64              \n",
      " 1   timestamp           2097 non-null   datetime64[ns, UTC]\n",
      " 2   source              2097 non-null   object             \n",
      " 3   text                2097 non-null   object             \n",
      " 4   expanded_urls       2094 non-null   object             \n",
      " 5   rating_numerator    2097 non-null   int64              \n",
      " 6   rating_denominator  2097 non-null   int64              \n",
      " 7   name                1494 non-null   object             \n",
      " 8   doggo               2097 non-null   object             \n",
      " 9   floofer             2097 non-null   object             \n",
      " 10  pupper              2097 non-null   object             \n",
      " 11  puppo               2097 non-null   object             \n",
      " 12  dog_stage           2097 non-null   object             \n",
      "dtypes: datetime64[ns, UTC](1), int64(3), object(9)\n",
      "memory usage: 229.4+ KB\n"
     ]
    }
   ],
   "source": [
    "tw.info()"
   ]
  },
  {
   "cell_type": "code",
   "execution_count": 516,
   "metadata": {},
   "outputs": [
    {
     "data": {
      "text/plain": [
       "0        \n",
       "1        \n",
       "2        \n",
       "3        \n",
       "4        \n",
       "       ..\n",
       "2351     \n",
       "2352     \n",
       "2353     \n",
       "2354     \n",
       "2355     \n",
       "Name: dog_stage, Length: 2097, dtype: object"
      ]
     },
     "execution_count": 516,
     "metadata": {},
     "output_type": "execute_result"
    }
   ],
   "source": [
    "tw.dog_stage.str.strip()"
   ]
  },
  {
   "cell_type": "code",
   "execution_count": 517,
   "metadata": {},
   "outputs": [
    {
     "data": {
      "text/plain": [
       "                1761\n",
       "pupper           221\n",
       "doggo             72\n",
       "puppo             23\n",
       "doggopupper        9\n",
       "floofer            9\n",
       "doggofloofer       1\n",
       "doggopuppo         1\n",
       "Name: dog_stage, dtype: int64"
      ]
     },
     "execution_count": 517,
     "metadata": {},
     "output_type": "execute_result"
    }
   ],
   "source": [
    "tw.dog_stage.value_counts()"
   ]
  },
  {
   "cell_type": "markdown",
   "metadata": {},
   "source": [
    "### Define"
   ]
  },
  {
   "cell_type": "markdown",
   "metadata": {},
   "source": [
    "Split the stages of entries with more than 1 dog stage. For example doggopupper is a dog that is in the middle stage of a doggo and a pupper so their stage should be \"doggo,pupper\""
   ]
  },
  {
   "cell_type": "markdown",
   "metadata": {},
   "source": [
    "### Code"
   ]
  },
  {
   "cell_type": "code",
   "execution_count": 518,
   "metadata": {},
   "outputs": [],
   "source": [
    "tw.loc[tw.dog_stage == \"doggopupper\", 'dog_stage'] = \"doggo, pupper\"\n",
    "tw.loc[tw.dog_stage == \"doggofloofer\", 'dog_stage'] = \"doggo, floofer\"\n",
    "tw.loc[tw.dog_stage == \"doggopuppo\", 'dog_stage'] = \"doggo, puppo\""
   ]
  },
  {
   "cell_type": "markdown",
   "metadata": {},
   "source": [
    "### Test"
   ]
  },
  {
   "cell_type": "code",
   "execution_count": 519,
   "metadata": {},
   "outputs": [
    {
     "data": {
      "text/plain": [
       "                  1761\n",
       "pupper             221\n",
       "doggo               72\n",
       "puppo               23\n",
       "floofer              9\n",
       "doggo, pupper        9\n",
       "doggo, puppo         1\n",
       "doggo, floofer       1\n",
       "Name: dog_stage, dtype: int64"
      ]
     },
     "execution_count": 519,
     "metadata": {},
     "output_type": "execute_result"
    }
   ],
   "source": [
    "tw.dog_stage.value_counts()"
   ]
  },
  {
   "cell_type": "markdown",
   "metadata": {},
   "source": [
    "### Define"
   ]
  },
  {
   "cell_type": "markdown",
   "metadata": {},
   "source": [
    "Replace all '' with NaNs in `dog_stage` column"
   ]
  },
  {
   "cell_type": "markdown",
   "metadata": {},
   "source": [
    "### Code"
   ]
  },
  {
   "cell_type": "code",
   "execution_count": 520,
   "metadata": {},
   "outputs": [
    {
     "data": {
      "text/plain": [
       "1761"
      ]
     },
     "execution_count": 520,
     "metadata": {},
     "output_type": "execute_result"
    }
   ],
   "source": [
    "len(tw.loc[tw.dog_stage == '', 'dog_stage'])"
   ]
  },
  {
   "cell_type": "code",
   "execution_count": 521,
   "metadata": {},
   "outputs": [],
   "source": [
    "tw.loc[tw.dog_stage == '', 'dog_stage'] = np.nan"
   ]
  },
  {
   "cell_type": "markdown",
   "metadata": {},
   "source": [
    "### Test"
   ]
  },
  {
   "cell_type": "markdown",
   "metadata": {},
   "source": [
    "### Define"
   ]
  },
  {
   "cell_type": "code",
   "execution_count": 522,
   "metadata": {},
   "outputs": [
    {
     "data": {
      "text/plain": [
       "Index(['tweet_id', 'timestamp', 'source', 'text', 'expanded_urls',\n",
       "       'rating_numerator', 'rating_denominator', 'name', 'doggo', 'floofer',\n",
       "       'pupper', 'puppo', 'dog_stage'],\n",
       "      dtype='object')"
      ]
     },
     "execution_count": 522,
     "metadata": {},
     "output_type": "execute_result"
    }
   ],
   "source": [
    "tw.columns"
   ]
  },
  {
   "cell_type": "markdown",
   "metadata": {},
   "source": [
    "Drop columns `doggo`, `floofer`, `pupper`, `puppo` since they are not needed anymore"
   ]
  },
  {
   "cell_type": "markdown",
   "metadata": {},
   "source": [
    "### Code"
   ]
  },
  {
   "cell_type": "code",
   "execution_count": 523,
   "metadata": {},
   "outputs": [],
   "source": [
    "tw.drop(columns=['doggo', 'floofer', 'pupper', 'puppo'], inplace=True)"
   ]
  },
  {
   "cell_type": "markdown",
   "metadata": {},
   "source": [
    "### Test"
   ]
  },
  {
   "cell_type": "code",
   "execution_count": 524,
   "metadata": {},
   "outputs": [
    {
     "data": {
      "text/plain": [
       "Index(['tweet_id', 'timestamp', 'source', 'text', 'expanded_urls',\n",
       "       'rating_numerator', 'rating_denominator', 'name', 'dog_stage'],\n",
       "      dtype='object')"
      ]
     },
     "execution_count": 524,
     "metadata": {},
     "output_type": "execute_result"
    }
   ],
   "source": [
    "tw.columns"
   ]
  },
  {
   "cell_type": "code",
   "execution_count": 525,
   "metadata": {},
   "outputs": [
    {
     "name": "stdout",
     "output_type": "stream",
     "text": [
      "<class 'pandas.core.frame.DataFrame'>\n",
      "Int64Index: 2097 entries, 0 to 2355\n",
      "Data columns (total 9 columns):\n",
      " #   Column              Non-Null Count  Dtype              \n",
      "---  ------              --------------  -----              \n",
      " 0   tweet_id            2097 non-null   int64              \n",
      " 1   timestamp           2097 non-null   datetime64[ns, UTC]\n",
      " 2   source              2097 non-null   object             \n",
      " 3   text                2097 non-null   object             \n",
      " 4   expanded_urls       2094 non-null   object             \n",
      " 5   rating_numerator    2097 non-null   int64              \n",
      " 6   rating_denominator  2097 non-null   int64              \n",
      " 7   name                1494 non-null   object             \n",
      " 8   dog_stage           336 non-null    object             \n",
      "dtypes: datetime64[ns, UTC](1), int64(3), object(5)\n",
      "memory usage: 163.8+ KB\n"
     ]
    }
   ],
   "source": [
    "tw.info()"
   ]
  },
  {
   "cell_type": "markdown",
   "metadata": {},
   "source": [
    "### Define"
   ]
  },
  {
   "cell_type": "markdown",
   "metadata": {},
   "source": [
    "Change innacurated/wrong dog names to NaN"
   ]
  },
  {
   "cell_type": "markdown",
   "metadata": {},
   "source": [
    "### Code"
   ]
  },
  {
   "cell_type": "code",
   "execution_count": 526,
   "metadata": {},
   "outputs": [
    {
     "data": {
      "text/plain": [
       "['Abby',\n",
       " 'Ace',\n",
       " 'Acro',\n",
       " 'Adele',\n",
       " 'Aiden',\n",
       " 'Aja',\n",
       " 'Akumi',\n",
       " 'Al',\n",
       " 'Albert',\n",
       " 'Albus',\n",
       " 'Aldrick',\n",
       " 'Alejandro',\n",
       " 'Alexander',\n",
       " 'Alexanderson',\n",
       " 'Alf',\n",
       " 'Alfie',\n",
       " 'Alfy',\n",
       " 'Alice',\n",
       " 'Amber',\n",
       " 'Ambrose',\n",
       " 'Amy',\n",
       " 'Amélie',\n",
       " 'Anakin',\n",
       " 'Andru',\n",
       " 'Andy',\n",
       " 'Angel',\n",
       " 'Anna',\n",
       " 'Anthony',\n",
       " 'Antony',\n",
       " 'Apollo',\n",
       " 'Aqua',\n",
       " 'Archie',\n",
       " 'Arlen',\n",
       " 'Arlo',\n",
       " 'Arnie',\n",
       " 'Arnold',\n",
       " 'Arya',\n",
       " 'Ash',\n",
       " 'Asher',\n",
       " 'Ashleigh',\n",
       " 'Aspen',\n",
       " 'Astrid',\n",
       " 'Atlas',\n",
       " 'Atticus',\n",
       " 'Aubie',\n",
       " 'Augie',\n",
       " 'Autumn',\n",
       " 'Ava',\n",
       " 'Axel',\n",
       " 'Bailey',\n",
       " 'Baloo',\n",
       " 'Balto',\n",
       " 'Banditt',\n",
       " 'Banjo',\n",
       " 'Barclay',\n",
       " 'Barney',\n",
       " 'Baron',\n",
       " 'Barry',\n",
       " 'Batdog',\n",
       " 'Bauer',\n",
       " 'Baxter',\n",
       " 'Bayley',\n",
       " 'BeBe',\n",
       " 'Bear',\n",
       " 'Beau',\n",
       " 'Beckham',\n",
       " 'Beebop',\n",
       " 'Beemo',\n",
       " 'Bell',\n",
       " 'Bella',\n",
       " 'Belle',\n",
       " 'Ben',\n",
       " 'Benedict',\n",
       " 'Benji',\n",
       " 'Benny',\n",
       " 'Bentley',\n",
       " 'Berb',\n",
       " 'Berkeley',\n",
       " 'Bernie',\n",
       " 'Bert',\n",
       " 'Bertson',\n",
       " 'Betty',\n",
       " 'Beya',\n",
       " 'Biden',\n",
       " 'Bilbo',\n",
       " 'Billl',\n",
       " 'Billy',\n",
       " 'Binky',\n",
       " 'Birf',\n",
       " 'Bisquick',\n",
       " 'Blakely',\n",
       " 'Blanket',\n",
       " 'Blipson',\n",
       " 'Blitz',\n",
       " 'Bloo',\n",
       " 'Bloop',\n",
       " 'Blu',\n",
       " 'Blue',\n",
       " 'Bluebert',\n",
       " 'Bo',\n",
       " 'Bob',\n",
       " 'Bobb',\n",
       " 'Bobbay',\n",
       " 'Bobble',\n",
       " 'Bobby',\n",
       " 'Bode',\n",
       " 'Bodie',\n",
       " 'Bonaparte',\n",
       " 'Bones',\n",
       " 'Bookstore',\n",
       " 'Boomer',\n",
       " 'Boots',\n",
       " 'Boston',\n",
       " 'Bowie',\n",
       " 'Brad',\n",
       " 'Bradlay',\n",
       " 'Bradley',\n",
       " 'Brady',\n",
       " 'Brandi',\n",
       " 'Brandonald',\n",
       " 'Brandy',\n",
       " 'Brat',\n",
       " 'Brian',\n",
       " 'Brockly',\n",
       " 'Brody',\n",
       " 'Bronte',\n",
       " 'Brooks',\n",
       " 'Brownie',\n",
       " 'Bruce',\n",
       " 'Brudge',\n",
       " 'Bruiser',\n",
       " 'Bruno',\n",
       " 'Brutus',\n",
       " 'Bubba',\n",
       " 'Bubbles',\n",
       " 'Buckley',\n",
       " 'Buddah',\n",
       " 'Buddy',\n",
       " 'Bungalo',\n",
       " 'Burt',\n",
       " 'Butter',\n",
       " 'Butters',\n",
       " 'Cal',\n",
       " 'Calbert',\n",
       " 'Cali',\n",
       " 'Callie',\n",
       " 'Calvin',\n",
       " 'Canela',\n",
       " 'Cannon',\n",
       " 'Carbon',\n",
       " 'Carl',\n",
       " 'Carll',\n",
       " 'Carly',\n",
       " 'Carper',\n",
       " 'Carter',\n",
       " 'Caryl',\n",
       " 'Cash',\n",
       " 'Cassie',\n",
       " 'CeCe',\n",
       " 'Cecil',\n",
       " 'Cedrick',\n",
       " 'Cermet',\n",
       " 'Chadrick',\n",
       " 'Champ',\n",
       " 'Charl',\n",
       " 'Charles',\n",
       " 'Charleson',\n",
       " 'Charlie',\n",
       " 'Chase',\n",
       " 'Chaz',\n",
       " 'Cheesy',\n",
       " 'Chef',\n",
       " 'Chelsea',\n",
       " 'Cheryl',\n",
       " 'Chesney',\n",
       " 'Chester',\n",
       " 'Chesterson',\n",
       " 'Chet',\n",
       " 'Chevy',\n",
       " 'Chip',\n",
       " 'Chipson',\n",
       " 'Chloe',\n",
       " 'Chompsky',\n",
       " 'Christoper',\n",
       " 'Chubbs',\n",
       " 'Chuck',\n",
       " 'Chuckles',\n",
       " 'Chuq',\n",
       " 'Churlie',\n",
       " 'Cilantro',\n",
       " 'Clarence',\n",
       " 'Clark',\n",
       " 'Clarkus',\n",
       " 'Clarq',\n",
       " 'Claude',\n",
       " 'Cleopatricia',\n",
       " 'Clifford',\n",
       " 'Clybe',\n",
       " 'Clyde',\n",
       " 'Coco',\n",
       " 'Cody',\n",
       " 'Colby',\n",
       " 'Coleman',\n",
       " 'Colin',\n",
       " 'Combo',\n",
       " 'Comet',\n",
       " 'Cooper',\n",
       " 'Coops',\n",
       " 'Coopson',\n",
       " 'Cora',\n",
       " 'Corey',\n",
       " 'Covach',\n",
       " 'Craig',\n",
       " 'Crawford',\n",
       " 'Creg',\n",
       " 'Crimson',\n",
       " 'Crouton',\n",
       " 'Crumpet',\n",
       " 'Crystal',\n",
       " 'Cuddles',\n",
       " 'Cupcake',\n",
       " 'Cupid',\n",
       " 'Curtis',\n",
       " 'Daisy',\n",
       " 'Dakota',\n",
       " 'Dale',\n",
       " 'Dallas',\n",
       " 'Damon',\n",
       " 'Daniel',\n",
       " 'Danny',\n",
       " 'Dante',\n",
       " 'Darby',\n",
       " 'Darla',\n",
       " 'Darrel',\n",
       " 'Dash',\n",
       " 'Dave',\n",
       " 'Davey',\n",
       " 'Dawn',\n",
       " 'DayZ',\n",
       " 'Deacon',\n",
       " 'Derby',\n",
       " 'Derek',\n",
       " 'Devón',\n",
       " 'Dewey',\n",
       " 'Dex',\n",
       " 'Dexter',\n",
       " 'Dido',\n",
       " 'Dietrich',\n",
       " 'Diogi',\n",
       " 'Divine',\n",
       " 'Dixie',\n",
       " 'Django',\n",
       " 'Dobby',\n",
       " 'Doc',\n",
       " 'DonDon',\n",
       " 'Donny',\n",
       " 'Doobert',\n",
       " 'Dook',\n",
       " 'Dot',\n",
       " 'Dotsy',\n",
       " 'Doug',\n",
       " 'Duchess',\n",
       " 'Duddles',\n",
       " 'Dudley',\n",
       " 'Dug',\n",
       " 'Duke',\n",
       " 'Dunkin',\n",
       " 'Durg',\n",
       " 'Dutch',\n",
       " 'Dwight',\n",
       " 'Dylan',\n",
       " 'Earl',\n",
       " 'Eazy',\n",
       " 'Ebby',\n",
       " 'Ed',\n",
       " 'Edd',\n",
       " 'Edgar',\n",
       " 'Edmund',\n",
       " 'Eevee',\n",
       " 'Einstein',\n",
       " 'Eleanor',\n",
       " 'Eli',\n",
       " 'Ellie',\n",
       " 'Elliot',\n",
       " 'Emanuel',\n",
       " 'Ember',\n",
       " 'Emma',\n",
       " 'Emmie',\n",
       " 'Emmy',\n",
       " 'Enchilada',\n",
       " 'Erik',\n",
       " 'Eriq',\n",
       " 'Ester',\n",
       " 'Eugene',\n",
       " 'Eve',\n",
       " 'Evy',\n",
       " 'Fabio',\n",
       " 'Farfle',\n",
       " 'Ferg',\n",
       " 'Fido',\n",
       " 'Fiji',\n",
       " 'Fillup',\n",
       " 'Filup',\n",
       " 'Finley',\n",
       " 'Finn',\n",
       " 'Finnegus',\n",
       " 'Fiona',\n",
       " 'Fizz',\n",
       " 'Flash',\n",
       " 'Fletcher',\n",
       " 'Florence',\n",
       " 'Flurpson',\n",
       " 'Flávio',\n",
       " 'Frank',\n",
       " 'Frankie',\n",
       " 'Franklin',\n",
       " 'Franq',\n",
       " 'Fred',\n",
       " 'Freddery',\n",
       " 'Frönq',\n",
       " 'Furzey',\n",
       " 'Fwed',\n",
       " 'Fynn',\n",
       " 'Gabe',\n",
       " 'Gary',\n",
       " 'General',\n",
       " 'Genevieve',\n",
       " 'Geno',\n",
       " 'Geoff',\n",
       " 'George',\n",
       " 'Georgie',\n",
       " 'Gerald',\n",
       " 'Gerbald',\n",
       " 'Gert',\n",
       " 'Gidget',\n",
       " 'Gilbert',\n",
       " 'Gin',\n",
       " 'Ginger',\n",
       " 'Gizmo',\n",
       " 'Glacier',\n",
       " 'Glenn',\n",
       " 'Godi',\n",
       " 'Godzilla',\n",
       " 'Goliath',\n",
       " 'Goose',\n",
       " 'Gordon',\n",
       " 'Grady',\n",
       " 'Grey',\n",
       " 'Griffin',\n",
       " 'Griswold',\n",
       " 'Grizz',\n",
       " 'Grizzie',\n",
       " 'Grizzwald',\n",
       " 'Gromit',\n",
       " 'Gunner',\n",
       " 'Gus',\n",
       " 'Gustaf',\n",
       " 'Gustav',\n",
       " 'Gòrdón',\n",
       " 'Hall',\n",
       " 'Halo',\n",
       " 'Hammond',\n",
       " 'Hamrick',\n",
       " 'Hank',\n",
       " 'Hanz',\n",
       " 'Happy',\n",
       " 'Harlso',\n",
       " 'Harnold',\n",
       " 'Harold',\n",
       " 'Harper',\n",
       " 'Harrison',\n",
       " 'Harry',\n",
       " 'Harvey',\n",
       " 'Hazel',\n",
       " 'Hector',\n",
       " 'Heinrich',\n",
       " 'Henry',\n",
       " 'Herald',\n",
       " 'Herb',\n",
       " 'Hercules',\n",
       " 'Herm',\n",
       " 'Hermione',\n",
       " 'Hero',\n",
       " 'Herschel',\n",
       " 'Hobbes',\n",
       " 'Holly',\n",
       " 'Horace',\n",
       " 'Howie',\n",
       " 'Hubertson',\n",
       " 'Huck',\n",
       " 'Humphrey',\n",
       " 'Hunter',\n",
       " 'Hurley',\n",
       " 'Huxley',\n",
       " 'Iggy',\n",
       " 'Ike',\n",
       " 'Indie',\n",
       " 'Iroh',\n",
       " 'Ito',\n",
       " 'Ivar',\n",
       " 'Izzy',\n",
       " 'JD',\n",
       " 'Jack',\n",
       " 'Jackie',\n",
       " 'Jackson',\n",
       " 'Jameson',\n",
       " 'Jamesy',\n",
       " 'Jangle',\n",
       " 'Jareld',\n",
       " 'Jarod',\n",
       " 'Jarvis',\n",
       " 'Jaspers',\n",
       " 'Jax',\n",
       " 'Jay',\n",
       " 'Jaycob',\n",
       " 'Jazz',\n",
       " 'Jazzy',\n",
       " 'Jeb',\n",
       " 'Jebberson',\n",
       " 'Jed',\n",
       " 'Jeffrey',\n",
       " 'Jeffri',\n",
       " 'Jeffrie',\n",
       " 'Jennifur',\n",
       " 'Jeph',\n",
       " 'Jeremy',\n",
       " 'Jerome',\n",
       " 'Jerry',\n",
       " 'Jersey',\n",
       " 'Jesse',\n",
       " 'Jessifer',\n",
       " 'Jessiga',\n",
       " 'Jett',\n",
       " 'Jim',\n",
       " 'Jimbo',\n",
       " 'Jiminus',\n",
       " 'Jiminy',\n",
       " 'Jimison',\n",
       " 'Jimothy',\n",
       " 'Jo',\n",
       " 'Jockson',\n",
       " 'Joey',\n",
       " 'Jomathan',\n",
       " 'Jonah',\n",
       " 'Jordy',\n",
       " 'Josep',\n",
       " 'Joshwa',\n",
       " 'Juckson',\n",
       " 'Julio',\n",
       " 'Julius',\n",
       " 'Juno',\n",
       " 'Kaia',\n",
       " 'Kaiya',\n",
       " 'Kallie',\n",
       " 'Kane',\n",
       " 'Kanu',\n",
       " 'Kara',\n",
       " 'Karl',\n",
       " 'Karll',\n",
       " 'Karma',\n",
       " 'Kathmandu',\n",
       " 'Katie',\n",
       " 'Kawhi',\n",
       " 'Kayla',\n",
       " 'Keet',\n",
       " 'Keith',\n",
       " 'Kellogg',\n",
       " 'Ken',\n",
       " 'Kendall',\n",
       " 'Kenneth',\n",
       " 'Kenny',\n",
       " 'Kenzie',\n",
       " 'Keurig',\n",
       " 'Kevin',\n",
       " 'Kevon',\n",
       " 'Kial',\n",
       " 'Kilo',\n",
       " 'Kingsley',\n",
       " 'Kirby',\n",
       " 'Kirk',\n",
       " 'Klein',\n",
       " 'Klevin',\n",
       " 'Kloey',\n",
       " 'Kobe',\n",
       " 'Koda',\n",
       " 'Kody',\n",
       " 'Koko',\n",
       " 'Kollin',\n",
       " 'Kona',\n",
       " 'Kota',\n",
       " 'Kramer',\n",
       " 'Kreg',\n",
       " 'Kreggory',\n",
       " 'Kulet',\n",
       " 'Kuyu',\n",
       " 'Kyle',\n",
       " 'Kyro',\n",
       " 'Lacy',\n",
       " 'Laela',\n",
       " 'Laika',\n",
       " 'Lambeau',\n",
       " 'Lance',\n",
       " 'Larry',\n",
       " 'Lassie',\n",
       " 'Layla',\n",
       " 'Leela',\n",
       " 'Lennon',\n",
       " 'Lenny',\n",
       " 'Lenox',\n",
       " 'Leo',\n",
       " 'Leonard',\n",
       " 'Leonidas',\n",
       " 'Levi',\n",
       " 'Liam',\n",
       " 'Lilah',\n",
       " 'Lili',\n",
       " 'Lilli',\n",
       " 'Lillie',\n",
       " 'Lilly',\n",
       " 'Lily',\n",
       " 'Lincoln',\n",
       " 'Linda',\n",
       " 'Link',\n",
       " 'Linus',\n",
       " 'Lipton',\n",
       " 'Livvie',\n",
       " 'Lizzie',\n",
       " 'Logan',\n",
       " 'Loki',\n",
       " 'Lola',\n",
       " 'Lolo',\n",
       " 'Longfellow',\n",
       " 'Loomis',\n",
       " 'Lorelei',\n",
       " 'Lorenzo',\n",
       " 'Lou',\n",
       " 'Louie',\n",
       " 'Louis',\n",
       " 'Luca',\n",
       " 'Lucia',\n",
       " 'Lucky',\n",
       " 'Lucy',\n",
       " 'Lugan',\n",
       " 'Lulu',\n",
       " 'Luna',\n",
       " 'Lupe',\n",
       " 'Luther',\n",
       " 'Mabel',\n",
       " 'Mac',\n",
       " 'Mack',\n",
       " 'Maddie',\n",
       " 'Maggie',\n",
       " 'Mairi',\n",
       " 'Maisey',\n",
       " 'Major',\n",
       " 'Maks',\n",
       " 'Malcolm',\n",
       " 'Malikai',\n",
       " 'Margo',\n",
       " 'Mark',\n",
       " 'Marlee',\n",
       " 'Marley',\n",
       " 'Marq',\n",
       " 'Marty',\n",
       " 'Marvin',\n",
       " 'Mary',\n",
       " 'Mason',\n",
       " 'Mattie',\n",
       " 'Maude',\n",
       " 'Mauve',\n",
       " 'Max',\n",
       " 'Maxaroni',\n",
       " 'Maximus',\n",
       " 'Maxwell',\n",
       " 'Maya',\n",
       " 'Meatball',\n",
       " 'Meera',\n",
       " 'Meyer',\n",
       " 'Mia',\n",
       " 'Michelangelope',\n",
       " 'Miguel',\n",
       " 'Mike',\n",
       " 'Miley',\n",
       " 'Milky',\n",
       " 'Millie',\n",
       " 'Milo',\n",
       " 'Mimosa',\n",
       " 'Mingus',\n",
       " 'Mister',\n",
       " 'Misty',\n",
       " 'Mitch',\n",
       " 'Mo',\n",
       " 'Moe',\n",
       " 'Mojo',\n",
       " 'Mollie',\n",
       " 'Molly',\n",
       " 'Mona',\n",
       " 'Monkey',\n",
       " 'Monster',\n",
       " 'Monty',\n",
       " 'Moofasa',\n",
       " 'Mookie',\n",
       " 'Moose',\n",
       " 'Moreton',\n",
       " 'Mosby',\n",
       " 'Murphy',\n",
       " 'Mutt',\n",
       " 'Mya',\n",
       " 'Nala',\n",
       " 'Naphaniel',\n",
       " 'Napolean',\n",
       " 'Nelly',\n",
       " 'Neptune',\n",
       " 'Newt',\n",
       " 'Nico',\n",
       " 'Nida',\n",
       " 'Nigel',\n",
       " 'Nimbus',\n",
       " 'Noah',\n",
       " 'Nollie',\n",
       " 'Noosh',\n",
       " 'Norman',\n",
       " 'Nugget',\n",
       " 'O',\n",
       " 'Oakley',\n",
       " 'Obi',\n",
       " 'Obie',\n",
       " 'Oddie',\n",
       " 'Odie',\n",
       " 'Odin',\n",
       " 'Olaf',\n",
       " 'Ole',\n",
       " 'Olive',\n",
       " 'Oliver',\n",
       " 'Olivia',\n",
       " 'Oliviér',\n",
       " 'Ollie',\n",
       " 'Opal',\n",
       " 'Opie',\n",
       " 'Oreo',\n",
       " 'Orion',\n",
       " 'Oscar',\n",
       " 'Oshie',\n",
       " 'Otis',\n",
       " 'Ozzie',\n",
       " 'Ozzy',\n",
       " 'Pablo',\n",
       " 'Paisley',\n",
       " 'Pancake',\n",
       " 'Panda',\n",
       " 'Patch',\n",
       " 'Patrick',\n",
       " 'Paull',\n",
       " 'Pavlov',\n",
       " 'Pawnd',\n",
       " 'Peaches',\n",
       " 'Peanut',\n",
       " 'Penelope',\n",
       " 'Penny',\n",
       " 'Pepper',\n",
       " 'Percy',\n",
       " 'Perry',\n",
       " 'Pete',\n",
       " 'Petrick',\n",
       " 'Pherb',\n",
       " 'Phil',\n",
       " 'Philbert',\n",
       " 'Philippe',\n",
       " 'Phineas',\n",
       " 'Phred',\n",
       " 'Pickles',\n",
       " 'Pilot',\n",
       " 'Pinot',\n",
       " 'Pip',\n",
       " 'Piper',\n",
       " 'Pippa',\n",
       " 'Pippin',\n",
       " 'Pipsy',\n",
       " 'Pluto',\n",
       " 'Poppy',\n",
       " 'Pubert',\n",
       " 'Puff',\n",
       " 'Pumpkin',\n",
       " 'Pupcasso',\n",
       " 'Quinn',\n",
       " 'Ralf',\n",
       " 'Ralph',\n",
       " 'Ralpher',\n",
       " 'Ralphie',\n",
       " 'Ralphson',\n",
       " 'Ralphus',\n",
       " 'Ralphy',\n",
       " 'Ralphé',\n",
       " 'Rambo',\n",
       " 'Randall',\n",
       " 'Raphael',\n",
       " 'Rascal',\n",
       " 'Raymond',\n",
       " 'Reagan',\n",
       " 'Reese',\n",
       " 'Reggie',\n",
       " 'Reginald',\n",
       " 'Remington',\n",
       " 'Remus',\n",
       " 'Remy',\n",
       " 'Reptar',\n",
       " 'Rey',\n",
       " 'Rhino',\n",
       " 'Richie',\n",
       " 'Ricky',\n",
       " 'Ridley',\n",
       " 'Riley',\n",
       " 'Rilo',\n",
       " 'Rinna',\n",
       " 'River',\n",
       " 'Rizzo',\n",
       " 'Rizzy',\n",
       " 'Robin',\n",
       " 'Rocco',\n",
       " 'Rocky',\n",
       " 'Rodman',\n",
       " 'Rodney',\n",
       " 'Rolf',\n",
       " 'Romeo',\n",
       " 'Ron',\n",
       " 'Ronduh',\n",
       " 'Ronnie',\n",
       " 'Rontu',\n",
       " 'Rooney',\n",
       " 'Roosevelt',\n",
       " 'Rorie',\n",
       " 'Rory',\n",
       " 'Roscoe',\n",
       " 'Rose',\n",
       " 'Rosie',\n",
       " 'Rover',\n",
       " 'Rubio',\n",
       " 'Ruby',\n",
       " 'Rudy',\n",
       " 'Rueben',\n",
       " 'Ruffles',\n",
       " 'Rufio',\n",
       " 'Rufus',\n",
       " 'Rumble',\n",
       " 'Rumpole',\n",
       " 'Rupert',\n",
       " 'Rusty',\n",
       " 'Sadie',\n",
       " 'Sage',\n",
       " 'Sailer',\n",
       " 'Sailor',\n",
       " 'Sam',\n",
       " 'Sammy',\n",
       " 'Sampson',\n",
       " 'Samsom',\n",
       " 'Samson',\n",
       " 'Sandra',\n",
       " 'Sandy',\n",
       " 'Sansa',\n",
       " 'Sarge',\n",
       " 'Saydee',\n",
       " 'Schnitzel',\n",
       " 'Schnozz',\n",
       " 'Scooter',\n",
       " 'Scott',\n",
       " 'Scout',\n",
       " 'Scruffers',\n",
       " 'Seamus',\n",
       " 'Sebastian',\n",
       " 'Sephie',\n",
       " 'Severus',\n",
       " 'Shadoe',\n",
       " 'Shadow',\n",
       " 'Shaggy',\n",
       " 'Shakespeare',\n",
       " 'Shawwn',\n",
       " 'Shelby',\n",
       " 'Shikha',\n",
       " 'Shiloh',\n",
       " 'Shnuggles',\n",
       " 'Shooter',\n",
       " 'Siba',\n",
       " 'Sid',\n",
       " 'Sierra',\n",
       " 'Simba',\n",
       " 'Skittle',\n",
       " 'Skittles',\n",
       " 'Sky',\n",
       " 'Skye',\n",
       " 'Smiley',\n",
       " 'Smokey',\n",
       " 'Snickers',\n",
       " 'Snicku',\n",
       " 'Snoop',\n",
       " 'Snoopy',\n",
       " 'Sobe',\n",
       " 'Socks',\n",
       " 'Sojourner',\n",
       " 'Solomon',\n",
       " 'Sonny',\n",
       " 'Sophie',\n",
       " 'Sora',\n",
       " 'Spanky',\n",
       " 'Spark',\n",
       " 'Sparky',\n",
       " 'Spencer',\n",
       " 'Sprinkles',\n",
       " 'Sprout',\n",
       " 'Staniel',\n",
       " 'Stanley',\n",
       " 'Stark',\n",
       " 'Stefan',\n",
       " 'Stella',\n",
       " 'Stephan',\n",
       " 'Stephanus',\n",
       " 'Steve',\n",
       " 'Steven',\n",
       " 'Stewie',\n",
       " 'Storkson',\n",
       " 'Stormy',\n",
       " 'Strider',\n",
       " 'Striker',\n",
       " 'Strudel',\n",
       " 'Stu',\n",
       " 'Stuart',\n",
       " 'Stubert',\n",
       " 'Sugar',\n",
       " 'Suki',\n",
       " 'Sully',\n",
       " 'Sundance',\n",
       " 'Sunny',\n",
       " 'Sunshine',\n",
       " 'Superpup',\n",
       " 'Swagger',\n",
       " 'Sweet',\n",
       " 'Sweets',\n",
       " 'Taco',\n",
       " 'Tango',\n",
       " 'Tanner',\n",
       " 'Tassy',\n",
       " 'Tater',\n",
       " 'Tayzie',\n",
       " 'Taz',\n",
       " 'Tebow',\n",
       " 'Ted',\n",
       " 'Tedders',\n",
       " 'Teddy',\n",
       " 'Tedrick',\n",
       " 'Terrance',\n",
       " 'Terrenth',\n",
       " 'Terry',\n",
       " 'Tess',\n",
       " 'Theo',\n",
       " 'Theodore',\n",
       " 'Thor',\n",
       " 'Thumas',\n",
       " 'Tiger',\n",
       " 'Tilly',\n",
       " 'Timber',\n",
       " 'Timison',\n",
       " 'Timmy',\n",
       " 'Timofy',\n",
       " 'Tino',\n",
       " 'Titan',\n",
       " 'Tito',\n",
       " 'Tobi',\n",
       " 'Toby',\n",
       " 'Todo',\n",
       " 'Toffee',\n",
       " 'Tom',\n",
       " 'Tommy',\n",
       " 'Tonks',\n",
       " 'Torque',\n",
       " 'Tove',\n",
       " 'Travis',\n",
       " 'Traviss',\n",
       " 'Trevith',\n",
       " 'Trigger',\n",
       " 'Trip',\n",
       " 'Tripp',\n",
       " 'Trooper',\n",
       " 'Tuck',\n",
       " 'Tucker',\n",
       " 'Tuco',\n",
       " 'Tug',\n",
       " 'Tupawc',\n",
       " 'Tycho',\n",
       " 'Tyr',\n",
       " 'Tyrone',\n",
       " 'Tyrus',\n",
       " 'Ulysses',\n",
       " 'Venti',\n",
       " 'Vince',\n",
       " 'Vincent',\n",
       " 'Vinnie',\n",
       " 'Vinscent',\n",
       " 'Vixen',\n",
       " 'Wafer',\n",
       " 'Waffles',\n",
       " 'Walker',\n",
       " 'Wallace',\n",
       " 'Wally',\n",
       " 'Walter',\n",
       " 'Watson',\n",
       " 'Wesley',\n",
       " 'Wiggles',\n",
       " 'Willem',\n",
       " 'William',\n",
       " 'Willie',\n",
       " 'Willow',\n",
       " 'Willy',\n",
       " 'Wilson',\n",
       " 'Winifred',\n",
       " 'Winnie',\n",
       " 'Winston',\n",
       " 'Wishes',\n",
       " 'Wyatt',\n",
       " 'Yoda',\n",
       " 'Yogi',\n",
       " 'Yukon',\n",
       " 'Zara',\n",
       " 'Zeek',\n",
       " 'Zeke',\n",
       " 'Zeus',\n",
       " 'Ziva',\n",
       " 'Zoe',\n",
       " 'Zoey',\n",
       " 'Zooey',\n",
       " 'Zuzu',\n",
       " 'a',\n",
       " 'actually',\n",
       " 'all',\n",
       " 'an',\n",
       " 'by',\n",
       " 'getting',\n",
       " 'his',\n",
       " 'incredibly',\n",
       " 'infuriating',\n",
       " 'just',\n",
       " 'life',\n",
       " 'light',\n",
       " 'mad',\n",
       " 'my',\n",
       " 'not',\n",
       " 'officially',\n",
       " 'old',\n",
       " 'one',\n",
       " 'quite',\n",
       " 'space',\n",
       " 'such',\n",
       " 'the',\n",
       " 'this',\n",
       " 'unacceptable',\n",
       " 'very']"
      ]
     },
     "execution_count": 526,
     "metadata": {},
     "output_type": "execute_result"
    }
   ],
   "source": [
    "names = tw.name.value_counts().index.to_list()\n",
    "names.sort()\n",
    "names"
   ]
  },
  {
   "cell_type": "code",
   "execution_count": 527,
   "metadata": {},
   "outputs": [],
   "source": [
    "bad_names = ['a',\n",
    " 'actually',\n",
    " 'all',\n",
    " 'an',\n",
    " 'by',\n",
    " 'getting',\n",
    " 'his',\n",
    " 'incredibly',\n",
    " 'infuriating',\n",
    " 'just',\n",
    " 'mad',\n",
    " 'my',\n",
    " 'not',\n",
    " 'officially',\n",
    " 'old',\n",
    " 'quite',\n",
    " 'space',\n",
    " 'such',\n",
    " 'the',\n",
    " 'this',\n",
    " 'unacceptable',\n",
    " 'very']\n",
    "\n",
    "tw.loc[tw.name.isin(bad_names), 'name'] = np.nan"
   ]
  },
  {
   "cell_type": "markdown",
   "metadata": {},
   "source": [
    "### Test"
   ]
  },
  {
   "cell_type": "code",
   "execution_count": 528,
   "metadata": {},
   "outputs": [
    {
     "data": {
      "text/plain": [
       "Series([], Name: name, dtype: object)"
      ]
     },
     "execution_count": 528,
     "metadata": {},
     "output_type": "execute_result"
    }
   ],
   "source": [
    "tw.loc[tw.name.isin(bad_names), 'name']"
   ]
  },
  {
   "cell_type": "code",
   "execution_count": 529,
   "metadata": {},
   "outputs": [
    {
     "data": {
      "text/plain": [
       "['Abby',\n",
       " 'Ace',\n",
       " 'Acro',\n",
       " 'Adele',\n",
       " 'Aiden',\n",
       " 'Aja',\n",
       " 'Akumi',\n",
       " 'Al',\n",
       " 'Albert',\n",
       " 'Albus',\n",
       " 'Aldrick',\n",
       " 'Alejandro',\n",
       " 'Alexander',\n",
       " 'Alexanderson',\n",
       " 'Alf',\n",
       " 'Alfie',\n",
       " 'Alfy',\n",
       " 'Alice',\n",
       " 'Amber',\n",
       " 'Ambrose',\n",
       " 'Amy',\n",
       " 'Amélie',\n",
       " 'Anakin',\n",
       " 'Andru',\n",
       " 'Andy',\n",
       " 'Angel',\n",
       " 'Anna',\n",
       " 'Anthony',\n",
       " 'Antony',\n",
       " 'Apollo',\n",
       " 'Aqua',\n",
       " 'Archie',\n",
       " 'Arlen',\n",
       " 'Arlo',\n",
       " 'Arnie',\n",
       " 'Arnold',\n",
       " 'Arya',\n",
       " 'Ash',\n",
       " 'Asher',\n",
       " 'Ashleigh',\n",
       " 'Aspen',\n",
       " 'Astrid',\n",
       " 'Atlas',\n",
       " 'Atticus',\n",
       " 'Aubie',\n",
       " 'Augie',\n",
       " 'Autumn',\n",
       " 'Ava',\n",
       " 'Axel',\n",
       " 'Bailey',\n",
       " 'Baloo',\n",
       " 'Balto',\n",
       " 'Banditt',\n",
       " 'Banjo',\n",
       " 'Barclay',\n",
       " 'Barney',\n",
       " 'Baron',\n",
       " 'Barry',\n",
       " 'Batdog',\n",
       " 'Bauer',\n",
       " 'Baxter',\n",
       " 'Bayley',\n",
       " 'BeBe',\n",
       " 'Bear',\n",
       " 'Beau',\n",
       " 'Beckham',\n",
       " 'Beebop',\n",
       " 'Beemo',\n",
       " 'Bell',\n",
       " 'Bella',\n",
       " 'Belle',\n",
       " 'Ben',\n",
       " 'Benedict',\n",
       " 'Benji',\n",
       " 'Benny',\n",
       " 'Bentley',\n",
       " 'Berb',\n",
       " 'Berkeley',\n",
       " 'Bernie',\n",
       " 'Bert',\n",
       " 'Bertson',\n",
       " 'Betty',\n",
       " 'Beya',\n",
       " 'Biden',\n",
       " 'Bilbo',\n",
       " 'Billl',\n",
       " 'Billy',\n",
       " 'Binky',\n",
       " 'Birf',\n",
       " 'Bisquick',\n",
       " 'Blakely',\n",
       " 'Blanket',\n",
       " 'Blipson',\n",
       " 'Blitz',\n",
       " 'Bloo',\n",
       " 'Bloop',\n",
       " 'Blu',\n",
       " 'Blue',\n",
       " 'Bluebert',\n",
       " 'Bo',\n",
       " 'Bob',\n",
       " 'Bobb',\n",
       " 'Bobbay',\n",
       " 'Bobble',\n",
       " 'Bobby',\n",
       " 'Bode',\n",
       " 'Bodie',\n",
       " 'Bonaparte',\n",
       " 'Bones',\n",
       " 'Bookstore',\n",
       " 'Boomer',\n",
       " 'Boots',\n",
       " 'Boston',\n",
       " 'Bowie',\n",
       " 'Brad',\n",
       " 'Bradlay',\n",
       " 'Bradley',\n",
       " 'Brady',\n",
       " 'Brandi',\n",
       " 'Brandonald',\n",
       " 'Brandy',\n",
       " 'Brat',\n",
       " 'Brian',\n",
       " 'Brockly',\n",
       " 'Brody',\n",
       " 'Bronte',\n",
       " 'Brooks',\n",
       " 'Brownie',\n",
       " 'Bruce',\n",
       " 'Brudge',\n",
       " 'Bruiser',\n",
       " 'Bruno',\n",
       " 'Brutus',\n",
       " 'Bubba',\n",
       " 'Bubbles',\n",
       " 'Buckley',\n",
       " 'Buddah',\n",
       " 'Buddy',\n",
       " 'Bungalo',\n",
       " 'Burt',\n",
       " 'Butter',\n",
       " 'Butters',\n",
       " 'Cal',\n",
       " 'Calbert',\n",
       " 'Cali',\n",
       " 'Callie',\n",
       " 'Calvin',\n",
       " 'Canela',\n",
       " 'Cannon',\n",
       " 'Carbon',\n",
       " 'Carl',\n",
       " 'Carll',\n",
       " 'Carly',\n",
       " 'Carper',\n",
       " 'Carter',\n",
       " 'Caryl',\n",
       " 'Cash',\n",
       " 'Cassie',\n",
       " 'CeCe',\n",
       " 'Cecil',\n",
       " 'Cedrick',\n",
       " 'Cermet',\n",
       " 'Chadrick',\n",
       " 'Champ',\n",
       " 'Charl',\n",
       " 'Charles',\n",
       " 'Charleson',\n",
       " 'Charlie',\n",
       " 'Chase',\n",
       " 'Chaz',\n",
       " 'Cheesy',\n",
       " 'Chef',\n",
       " 'Chelsea',\n",
       " 'Cheryl',\n",
       " 'Chesney',\n",
       " 'Chester',\n",
       " 'Chesterson',\n",
       " 'Chet',\n",
       " 'Chevy',\n",
       " 'Chip',\n",
       " 'Chipson',\n",
       " 'Chloe',\n",
       " 'Chompsky',\n",
       " 'Christoper',\n",
       " 'Chubbs',\n",
       " 'Chuck',\n",
       " 'Chuckles',\n",
       " 'Chuq',\n",
       " 'Churlie',\n",
       " 'Cilantro',\n",
       " 'Clarence',\n",
       " 'Clark',\n",
       " 'Clarkus',\n",
       " 'Clarq',\n",
       " 'Claude',\n",
       " 'Cleopatricia',\n",
       " 'Clifford',\n",
       " 'Clybe',\n",
       " 'Clyde',\n",
       " 'Coco',\n",
       " 'Cody',\n",
       " 'Colby',\n",
       " 'Coleman',\n",
       " 'Colin',\n",
       " 'Combo',\n",
       " 'Comet',\n",
       " 'Cooper',\n",
       " 'Coops',\n",
       " 'Coopson',\n",
       " 'Cora',\n",
       " 'Corey',\n",
       " 'Covach',\n",
       " 'Craig',\n",
       " 'Crawford',\n",
       " 'Creg',\n",
       " 'Crimson',\n",
       " 'Crouton',\n",
       " 'Crumpet',\n",
       " 'Crystal',\n",
       " 'Cuddles',\n",
       " 'Cupcake',\n",
       " 'Cupid',\n",
       " 'Curtis',\n",
       " 'Daisy',\n",
       " 'Dakota',\n",
       " 'Dale',\n",
       " 'Dallas',\n",
       " 'Damon',\n",
       " 'Daniel',\n",
       " 'Danny',\n",
       " 'Dante',\n",
       " 'Darby',\n",
       " 'Darla',\n",
       " 'Darrel',\n",
       " 'Dash',\n",
       " 'Dave',\n",
       " 'Davey',\n",
       " 'Dawn',\n",
       " 'DayZ',\n",
       " 'Deacon',\n",
       " 'Derby',\n",
       " 'Derek',\n",
       " 'Devón',\n",
       " 'Dewey',\n",
       " 'Dex',\n",
       " 'Dexter',\n",
       " 'Dido',\n",
       " 'Dietrich',\n",
       " 'Diogi',\n",
       " 'Divine',\n",
       " 'Dixie',\n",
       " 'Django',\n",
       " 'Dobby',\n",
       " 'Doc',\n",
       " 'DonDon',\n",
       " 'Donny',\n",
       " 'Doobert',\n",
       " 'Dook',\n",
       " 'Dot',\n",
       " 'Dotsy',\n",
       " 'Doug',\n",
       " 'Duchess',\n",
       " 'Duddles',\n",
       " 'Dudley',\n",
       " 'Dug',\n",
       " 'Duke',\n",
       " 'Dunkin',\n",
       " 'Durg',\n",
       " 'Dutch',\n",
       " 'Dwight',\n",
       " 'Dylan',\n",
       " 'Earl',\n",
       " 'Eazy',\n",
       " 'Ebby',\n",
       " 'Ed',\n",
       " 'Edd',\n",
       " 'Edgar',\n",
       " 'Edmund',\n",
       " 'Eevee',\n",
       " 'Einstein',\n",
       " 'Eleanor',\n",
       " 'Eli',\n",
       " 'Ellie',\n",
       " 'Elliot',\n",
       " 'Emanuel',\n",
       " 'Ember',\n",
       " 'Emma',\n",
       " 'Emmie',\n",
       " 'Emmy',\n",
       " 'Enchilada',\n",
       " 'Erik',\n",
       " 'Eriq',\n",
       " 'Ester',\n",
       " 'Eugene',\n",
       " 'Eve',\n",
       " 'Evy',\n",
       " 'Fabio',\n",
       " 'Farfle',\n",
       " 'Ferg',\n",
       " 'Fido',\n",
       " 'Fiji',\n",
       " 'Fillup',\n",
       " 'Filup',\n",
       " 'Finley',\n",
       " 'Finn',\n",
       " 'Finnegus',\n",
       " 'Fiona',\n",
       " 'Fizz',\n",
       " 'Flash',\n",
       " 'Fletcher',\n",
       " 'Florence',\n",
       " 'Flurpson',\n",
       " 'Flávio',\n",
       " 'Frank',\n",
       " 'Frankie',\n",
       " 'Franklin',\n",
       " 'Franq',\n",
       " 'Fred',\n",
       " 'Freddery',\n",
       " 'Frönq',\n",
       " 'Furzey',\n",
       " 'Fwed',\n",
       " 'Fynn',\n",
       " 'Gabe',\n",
       " 'Gary',\n",
       " 'General',\n",
       " 'Genevieve',\n",
       " 'Geno',\n",
       " 'Geoff',\n",
       " 'George',\n",
       " 'Georgie',\n",
       " 'Gerald',\n",
       " 'Gerbald',\n",
       " 'Gert',\n",
       " 'Gidget',\n",
       " 'Gilbert',\n",
       " 'Gin',\n",
       " 'Ginger',\n",
       " 'Gizmo',\n",
       " 'Glacier',\n",
       " 'Glenn',\n",
       " 'Godi',\n",
       " 'Godzilla',\n",
       " 'Goliath',\n",
       " 'Goose',\n",
       " 'Gordon',\n",
       " 'Grady',\n",
       " 'Grey',\n",
       " 'Griffin',\n",
       " 'Griswold',\n",
       " 'Grizz',\n",
       " 'Grizzie',\n",
       " 'Grizzwald',\n",
       " 'Gromit',\n",
       " 'Gunner',\n",
       " 'Gus',\n",
       " 'Gustaf',\n",
       " 'Gustav',\n",
       " 'Gòrdón',\n",
       " 'Hall',\n",
       " 'Halo',\n",
       " 'Hammond',\n",
       " 'Hamrick',\n",
       " 'Hank',\n",
       " 'Hanz',\n",
       " 'Happy',\n",
       " 'Harlso',\n",
       " 'Harnold',\n",
       " 'Harold',\n",
       " 'Harper',\n",
       " 'Harrison',\n",
       " 'Harry',\n",
       " 'Harvey',\n",
       " 'Hazel',\n",
       " 'Hector',\n",
       " 'Heinrich',\n",
       " 'Henry',\n",
       " 'Herald',\n",
       " 'Herb',\n",
       " 'Hercules',\n",
       " 'Herm',\n",
       " 'Hermione',\n",
       " 'Hero',\n",
       " 'Herschel',\n",
       " 'Hobbes',\n",
       " 'Holly',\n",
       " 'Horace',\n",
       " 'Howie',\n",
       " 'Hubertson',\n",
       " 'Huck',\n",
       " 'Humphrey',\n",
       " 'Hunter',\n",
       " 'Hurley',\n",
       " 'Huxley',\n",
       " 'Iggy',\n",
       " 'Ike',\n",
       " 'Indie',\n",
       " 'Iroh',\n",
       " 'Ito',\n",
       " 'Ivar',\n",
       " 'Izzy',\n",
       " 'JD',\n",
       " 'Jack',\n",
       " 'Jackie',\n",
       " 'Jackson',\n",
       " 'Jameson',\n",
       " 'Jamesy',\n",
       " 'Jangle',\n",
       " 'Jareld',\n",
       " 'Jarod',\n",
       " 'Jarvis',\n",
       " 'Jaspers',\n",
       " 'Jax',\n",
       " 'Jay',\n",
       " 'Jaycob',\n",
       " 'Jazz',\n",
       " 'Jazzy',\n",
       " 'Jeb',\n",
       " 'Jebberson',\n",
       " 'Jed',\n",
       " 'Jeffrey',\n",
       " 'Jeffri',\n",
       " 'Jeffrie',\n",
       " 'Jennifur',\n",
       " 'Jeph',\n",
       " 'Jeremy',\n",
       " 'Jerome',\n",
       " 'Jerry',\n",
       " 'Jersey',\n",
       " 'Jesse',\n",
       " 'Jessifer',\n",
       " 'Jessiga',\n",
       " 'Jett',\n",
       " 'Jim',\n",
       " 'Jimbo',\n",
       " 'Jiminus',\n",
       " 'Jiminy',\n",
       " 'Jimison',\n",
       " 'Jimothy',\n",
       " 'Jo',\n",
       " 'Jockson',\n",
       " 'Joey',\n",
       " 'Jomathan',\n",
       " 'Jonah',\n",
       " 'Jordy',\n",
       " 'Josep',\n",
       " 'Joshwa',\n",
       " 'Juckson',\n",
       " 'Julio',\n",
       " 'Julius',\n",
       " 'Juno',\n",
       " 'Kaia',\n",
       " 'Kaiya',\n",
       " 'Kallie',\n",
       " 'Kane',\n",
       " 'Kanu',\n",
       " 'Kara',\n",
       " 'Karl',\n",
       " 'Karll',\n",
       " 'Karma',\n",
       " 'Kathmandu',\n",
       " 'Katie',\n",
       " 'Kawhi',\n",
       " 'Kayla',\n",
       " 'Keet',\n",
       " 'Keith',\n",
       " 'Kellogg',\n",
       " 'Ken',\n",
       " 'Kendall',\n",
       " 'Kenneth',\n",
       " 'Kenny',\n",
       " 'Kenzie',\n",
       " 'Keurig',\n",
       " 'Kevin',\n",
       " 'Kevon',\n",
       " 'Kial',\n",
       " 'Kilo',\n",
       " 'Kingsley',\n",
       " 'Kirby',\n",
       " 'Kirk',\n",
       " 'Klein',\n",
       " 'Klevin',\n",
       " 'Kloey',\n",
       " 'Kobe',\n",
       " 'Koda',\n",
       " 'Kody',\n",
       " 'Koko',\n",
       " 'Kollin',\n",
       " 'Kona',\n",
       " 'Kota',\n",
       " 'Kramer',\n",
       " 'Kreg',\n",
       " 'Kreggory',\n",
       " 'Kulet',\n",
       " 'Kuyu',\n",
       " 'Kyle',\n",
       " 'Kyro',\n",
       " 'Lacy',\n",
       " 'Laela',\n",
       " 'Laika',\n",
       " 'Lambeau',\n",
       " 'Lance',\n",
       " 'Larry',\n",
       " 'Lassie',\n",
       " 'Layla',\n",
       " 'Leela',\n",
       " 'Lennon',\n",
       " 'Lenny',\n",
       " 'Lenox',\n",
       " 'Leo',\n",
       " 'Leonard',\n",
       " 'Leonidas',\n",
       " 'Levi',\n",
       " 'Liam',\n",
       " 'Lilah',\n",
       " 'Lili',\n",
       " 'Lilli',\n",
       " 'Lillie',\n",
       " 'Lilly',\n",
       " 'Lily',\n",
       " 'Lincoln',\n",
       " 'Linda',\n",
       " 'Link',\n",
       " 'Linus',\n",
       " 'Lipton',\n",
       " 'Livvie',\n",
       " 'Lizzie',\n",
       " 'Logan',\n",
       " 'Loki',\n",
       " 'Lola',\n",
       " 'Lolo',\n",
       " 'Longfellow',\n",
       " 'Loomis',\n",
       " 'Lorelei',\n",
       " 'Lorenzo',\n",
       " 'Lou',\n",
       " 'Louie',\n",
       " 'Louis',\n",
       " 'Luca',\n",
       " 'Lucia',\n",
       " 'Lucky',\n",
       " 'Lucy',\n",
       " 'Lugan',\n",
       " 'Lulu',\n",
       " 'Luna',\n",
       " 'Lupe',\n",
       " 'Luther',\n",
       " 'Mabel',\n",
       " 'Mac',\n",
       " 'Mack',\n",
       " 'Maddie',\n",
       " 'Maggie',\n",
       " 'Mairi',\n",
       " 'Maisey',\n",
       " 'Major',\n",
       " 'Maks',\n",
       " 'Malcolm',\n",
       " 'Malikai',\n",
       " 'Margo',\n",
       " 'Mark',\n",
       " 'Marlee',\n",
       " 'Marley',\n",
       " 'Marq',\n",
       " 'Marty',\n",
       " 'Marvin',\n",
       " 'Mary',\n",
       " 'Mason',\n",
       " 'Mattie',\n",
       " 'Maude',\n",
       " 'Mauve',\n",
       " 'Max',\n",
       " 'Maxaroni',\n",
       " 'Maximus',\n",
       " 'Maxwell',\n",
       " 'Maya',\n",
       " 'Meatball',\n",
       " 'Meera',\n",
       " 'Meyer',\n",
       " 'Mia',\n",
       " 'Michelangelope',\n",
       " 'Miguel',\n",
       " 'Mike',\n",
       " 'Miley',\n",
       " 'Milky',\n",
       " 'Millie',\n",
       " 'Milo',\n",
       " 'Mimosa',\n",
       " 'Mingus',\n",
       " 'Mister',\n",
       " 'Misty',\n",
       " 'Mitch',\n",
       " 'Mo',\n",
       " 'Moe',\n",
       " 'Mojo',\n",
       " 'Mollie',\n",
       " 'Molly',\n",
       " 'Mona',\n",
       " 'Monkey',\n",
       " 'Monster',\n",
       " 'Monty',\n",
       " 'Moofasa',\n",
       " 'Mookie',\n",
       " 'Moose',\n",
       " 'Moreton',\n",
       " 'Mosby',\n",
       " 'Murphy',\n",
       " 'Mutt',\n",
       " 'Mya',\n",
       " 'Nala',\n",
       " 'Naphaniel',\n",
       " 'Napolean',\n",
       " 'Nelly',\n",
       " 'Neptune',\n",
       " 'Newt',\n",
       " 'Nico',\n",
       " 'Nida',\n",
       " 'Nigel',\n",
       " 'Nimbus',\n",
       " 'Noah',\n",
       " 'Nollie',\n",
       " 'Noosh',\n",
       " 'Norman',\n",
       " 'Nugget',\n",
       " 'O',\n",
       " 'Oakley',\n",
       " 'Obi',\n",
       " 'Obie',\n",
       " 'Oddie',\n",
       " 'Odie',\n",
       " 'Odin',\n",
       " 'Olaf',\n",
       " 'Ole',\n",
       " 'Olive',\n",
       " 'Oliver',\n",
       " 'Olivia',\n",
       " 'Oliviér',\n",
       " 'Ollie',\n",
       " 'Opal',\n",
       " 'Opie',\n",
       " 'Oreo',\n",
       " 'Orion',\n",
       " 'Oscar',\n",
       " 'Oshie',\n",
       " 'Otis',\n",
       " 'Ozzie',\n",
       " 'Ozzy',\n",
       " 'Pablo',\n",
       " 'Paisley',\n",
       " 'Pancake',\n",
       " 'Panda',\n",
       " 'Patch',\n",
       " 'Patrick',\n",
       " 'Paull',\n",
       " 'Pavlov',\n",
       " 'Pawnd',\n",
       " 'Peaches',\n",
       " 'Peanut',\n",
       " 'Penelope',\n",
       " 'Penny',\n",
       " 'Pepper',\n",
       " 'Percy',\n",
       " 'Perry',\n",
       " 'Pete',\n",
       " 'Petrick',\n",
       " 'Pherb',\n",
       " 'Phil',\n",
       " 'Philbert',\n",
       " 'Philippe',\n",
       " 'Phineas',\n",
       " 'Phred',\n",
       " 'Pickles',\n",
       " 'Pilot',\n",
       " 'Pinot',\n",
       " 'Pip',\n",
       " 'Piper',\n",
       " 'Pippa',\n",
       " 'Pippin',\n",
       " 'Pipsy',\n",
       " 'Pluto',\n",
       " 'Poppy',\n",
       " 'Pubert',\n",
       " 'Puff',\n",
       " 'Pumpkin',\n",
       " 'Pupcasso',\n",
       " 'Quinn',\n",
       " 'Ralf',\n",
       " 'Ralph',\n",
       " 'Ralpher',\n",
       " 'Ralphie',\n",
       " 'Ralphson',\n",
       " 'Ralphus',\n",
       " 'Ralphy',\n",
       " 'Ralphé',\n",
       " 'Rambo',\n",
       " 'Randall',\n",
       " 'Raphael',\n",
       " 'Rascal',\n",
       " 'Raymond',\n",
       " 'Reagan',\n",
       " 'Reese',\n",
       " 'Reggie',\n",
       " 'Reginald',\n",
       " 'Remington',\n",
       " 'Remus',\n",
       " 'Remy',\n",
       " 'Reptar',\n",
       " 'Rey',\n",
       " 'Rhino',\n",
       " 'Richie',\n",
       " 'Ricky',\n",
       " 'Ridley',\n",
       " 'Riley',\n",
       " 'Rilo',\n",
       " 'Rinna',\n",
       " 'River',\n",
       " 'Rizzo',\n",
       " 'Rizzy',\n",
       " 'Robin',\n",
       " 'Rocco',\n",
       " 'Rocky',\n",
       " 'Rodman',\n",
       " 'Rodney',\n",
       " 'Rolf',\n",
       " 'Romeo',\n",
       " 'Ron',\n",
       " 'Ronduh',\n",
       " 'Ronnie',\n",
       " 'Rontu',\n",
       " 'Rooney',\n",
       " 'Roosevelt',\n",
       " 'Rorie',\n",
       " 'Rory',\n",
       " 'Roscoe',\n",
       " 'Rose',\n",
       " 'Rosie',\n",
       " 'Rover',\n",
       " 'Rubio',\n",
       " 'Ruby',\n",
       " 'Rudy',\n",
       " 'Rueben',\n",
       " 'Ruffles',\n",
       " 'Rufio',\n",
       " 'Rufus',\n",
       " 'Rumble',\n",
       " 'Rumpole',\n",
       " 'Rupert',\n",
       " 'Rusty',\n",
       " 'Sadie',\n",
       " 'Sage',\n",
       " 'Sailer',\n",
       " 'Sailor',\n",
       " 'Sam',\n",
       " 'Sammy',\n",
       " 'Sampson',\n",
       " 'Samsom',\n",
       " 'Samson',\n",
       " 'Sandra',\n",
       " 'Sandy',\n",
       " 'Sansa',\n",
       " 'Sarge',\n",
       " 'Saydee',\n",
       " 'Schnitzel',\n",
       " 'Schnozz',\n",
       " 'Scooter',\n",
       " 'Scott',\n",
       " 'Scout',\n",
       " 'Scruffers',\n",
       " 'Seamus',\n",
       " 'Sebastian',\n",
       " 'Sephie',\n",
       " 'Severus',\n",
       " 'Shadoe',\n",
       " 'Shadow',\n",
       " 'Shaggy',\n",
       " 'Shakespeare',\n",
       " 'Shawwn',\n",
       " 'Shelby',\n",
       " 'Shikha',\n",
       " 'Shiloh',\n",
       " 'Shnuggles',\n",
       " 'Shooter',\n",
       " 'Siba',\n",
       " 'Sid',\n",
       " 'Sierra',\n",
       " 'Simba',\n",
       " 'Skittle',\n",
       " 'Skittles',\n",
       " 'Sky',\n",
       " 'Skye',\n",
       " 'Smiley',\n",
       " 'Smokey',\n",
       " 'Snickers',\n",
       " 'Snicku',\n",
       " 'Snoop',\n",
       " 'Snoopy',\n",
       " 'Sobe',\n",
       " 'Socks',\n",
       " 'Sojourner',\n",
       " 'Solomon',\n",
       " 'Sonny',\n",
       " 'Sophie',\n",
       " 'Sora',\n",
       " 'Spanky',\n",
       " 'Spark',\n",
       " 'Sparky',\n",
       " 'Spencer',\n",
       " 'Sprinkles',\n",
       " 'Sprout',\n",
       " 'Staniel',\n",
       " 'Stanley',\n",
       " 'Stark',\n",
       " 'Stefan',\n",
       " 'Stella',\n",
       " 'Stephan',\n",
       " 'Stephanus',\n",
       " 'Steve',\n",
       " 'Steven',\n",
       " 'Stewie',\n",
       " 'Storkson',\n",
       " 'Stormy',\n",
       " 'Strider',\n",
       " 'Striker',\n",
       " 'Strudel',\n",
       " 'Stu',\n",
       " 'Stuart',\n",
       " 'Stubert',\n",
       " 'Sugar',\n",
       " 'Suki',\n",
       " 'Sully',\n",
       " 'Sundance',\n",
       " 'Sunny',\n",
       " 'Sunshine',\n",
       " 'Superpup',\n",
       " 'Swagger',\n",
       " 'Sweet',\n",
       " 'Sweets',\n",
       " 'Taco',\n",
       " 'Tango',\n",
       " 'Tanner',\n",
       " 'Tassy',\n",
       " 'Tater',\n",
       " 'Tayzie',\n",
       " 'Taz',\n",
       " 'Tebow',\n",
       " 'Ted',\n",
       " 'Tedders',\n",
       " 'Teddy',\n",
       " 'Tedrick',\n",
       " 'Terrance',\n",
       " 'Terrenth',\n",
       " 'Terry',\n",
       " 'Tess',\n",
       " 'Theo',\n",
       " 'Theodore',\n",
       " 'Thor',\n",
       " 'Thumas',\n",
       " 'Tiger',\n",
       " 'Tilly',\n",
       " 'Timber',\n",
       " 'Timison',\n",
       " 'Timmy',\n",
       " 'Timofy',\n",
       " 'Tino',\n",
       " 'Titan',\n",
       " 'Tito',\n",
       " 'Tobi',\n",
       " 'Toby',\n",
       " 'Todo',\n",
       " 'Toffee',\n",
       " 'Tom',\n",
       " 'Tommy',\n",
       " 'Tonks',\n",
       " 'Torque',\n",
       " 'Tove',\n",
       " 'Travis',\n",
       " 'Traviss',\n",
       " 'Trevith',\n",
       " 'Trigger',\n",
       " 'Trip',\n",
       " 'Tripp',\n",
       " 'Trooper',\n",
       " 'Tuck',\n",
       " 'Tucker',\n",
       " 'Tuco',\n",
       " 'Tug',\n",
       " 'Tupawc',\n",
       " 'Tycho',\n",
       " 'Tyr',\n",
       " 'Tyrone',\n",
       " 'Tyrus',\n",
       " 'Ulysses',\n",
       " 'Venti',\n",
       " 'Vince',\n",
       " 'Vincent',\n",
       " 'Vinnie',\n",
       " 'Vinscent',\n",
       " 'Vixen',\n",
       " 'Wafer',\n",
       " 'Waffles',\n",
       " 'Walker',\n",
       " 'Wallace',\n",
       " 'Wally',\n",
       " 'Walter',\n",
       " 'Watson',\n",
       " 'Wesley',\n",
       " 'Wiggles',\n",
       " 'Willem',\n",
       " 'William',\n",
       " 'Willie',\n",
       " 'Willow',\n",
       " 'Willy',\n",
       " 'Wilson',\n",
       " 'Winifred',\n",
       " 'Winnie',\n",
       " 'Winston',\n",
       " 'Wishes',\n",
       " 'Wyatt',\n",
       " 'Yoda',\n",
       " 'Yogi',\n",
       " 'Yukon',\n",
       " 'Zara',\n",
       " 'Zeek',\n",
       " 'Zeke',\n",
       " 'Zeus',\n",
       " 'Ziva',\n",
       " 'Zoe',\n",
       " 'Zoey',\n",
       " 'Zooey',\n",
       " 'Zuzu',\n",
       " 'life',\n",
       " 'light',\n",
       " 'one']"
      ]
     },
     "execution_count": 529,
     "metadata": {},
     "output_type": "execute_result"
    }
   ],
   "source": [
    "updated_names = tw.name.value_counts().index.to_list()\n",
    "updated_names.sort()\n",
    "updated_names"
   ]
  },
  {
   "cell_type": "code",
   "execution_count": 530,
   "metadata": {},
   "outputs": [
    {
     "data": {
      "image/png": "[encoded data removed]",
      "text/plain": [
       "<Figure size 864x576 with 2 Axes>"
      ]
     },
     "metadata": {},
     "output_type": "display_data"
    }
   ],
   "source": [
    "# black = NaNs\n",
    "plt.figure(figsize = (12,8))\n",
    "sns.heatmap(tw.notna())\n",
    "plt.show()"
   ]
  },
  {
   "cell_type": "markdown",
   "metadata": {},
   "source": [
    "## only_dogs table"
   ]
  },
  {
   "cell_type": "markdown",
   "metadata": {},
   "source": [
    "### Define "
   ]
  },
  {
   "cell_type": "markdown",
   "metadata": {},
   "source": [
    "remove all 324 data points that are definitely not dogs (all p's=False)"
   ]
  },
  {
   "cell_type": "markdown",
   "metadata": {},
   "source": [
    "### Code "
   ]
  },
  {
   "cell_type": "code",
   "execution_count": 531,
   "metadata": {},
   "outputs": [],
   "source": [
    "only_dogs = df_pred.copy()"
   ]
  },
  {
   "cell_type": "code",
   "execution_count": 532,
   "metadata": {},
   "outputs": [],
   "source": [
    "# drop all rows that are not dogs\n",
    "condition = ((only_dogs.p1_dog==False) & (only_dogs.p2_dog==False) & (only_dogs.p3_dog==False))\n",
    "only_dogs.drop(only_dogs[condition].index, inplace=True)\n",
    "\n"
   ]
  },
  {
   "cell_type": "markdown",
   "metadata": {},
   "source": [
    "### Test"
   ]
  },
  {
   "cell_type": "code",
   "execution_count": 533,
   "metadata": {},
   "outputs": [
    {
     "data": {
      "text/plain": [
       "(1751, 12)"
      ]
     },
     "execution_count": 533,
     "metadata": {},
     "output_type": "execute_result"
    }
   ],
   "source": [
    "only_dogs.shape"
   ]
  },
  {
   "cell_type": "code",
   "execution_count": 534,
   "metadata": {},
   "outputs": [],
   "source": [
    "# only_dogs.p1.value_counts().index.to_list()"
   ]
  },
  {
   "cell_type": "code",
   "execution_count": 535,
   "metadata": {},
   "outputs": [
    {
     "data": {
      "text/plain": [
       "215"
      ]
     },
     "execution_count": 535,
     "metadata": {},
     "output_type": "execute_result"
    }
   ],
   "source": [
    "only_dogs.p1.nunique()"
   ]
  },
  {
   "cell_type": "markdown",
   "metadata": {},
   "source": [
    "### Define"
   ]
  },
  {
   "cell_type": "markdown",
   "metadata": {},
   "source": [
    "remove underscores and capitalise dog breeds (p1,p2 and p3 columns)\n",
    "\n"
   ]
  },
  {
   "cell_type": "markdown",
   "metadata": {},
   "source": [
    "### Code"
   ]
  },
  {
   "cell_type": "code",
   "execution_count": 536,
   "metadata": {},
   "outputs": [],
   "source": [
    "only_dogs.p1 = only_dogs.p1.str.replace('_', ' ').str.title()\n",
    "only_dogs.p2 = only_dogs.p2.str.replace('_', ' ').str.title()\n",
    "only_dogs.p3 = only_dogs.p3.str.replace('_', ' ').str.title()"
   ]
  },
  {
   "cell_type": "markdown",
   "metadata": {},
   "source": [
    "### Test"
   ]
  },
  {
   "cell_type": "code",
   "execution_count": 537,
   "metadata": {},
   "outputs": [
    {
     "name": "stdout",
     "output_type": "stream",
     "text": [
      "1982    Labrador Retriever\n",
      "1678        Cocker Spaniel\n",
      "1778            Weimaraner\n",
      "41      Labrador Retriever\n",
      "913                 Kuvasz\n",
      "Name: p1, dtype: object\n",
      "1587           Shih-Tzu\n",
      "1101              Dingo\n",
      "1362            Samoyed\n",
      "1418      Border Collie\n",
      "1014    Tibetan Mastiff\n",
      "Name: p2, dtype: object\n",
      "1550                         Kuvasz\n",
      "1593                        Basenji\n",
      "1001    West Highland White Terrier\n",
      "892                      Eskimo Dog\n",
      "2016                 Cocker Spaniel\n",
      "Name: p3, dtype: object\n"
     ]
    }
   ],
   "source": [
    "print(only_dogs.p1.sample(5))\n",
    "print(only_dogs.p2.sample(5))\n",
    "print(only_dogs.p3.sample(5))"
   ]
  },
  {
   "cell_type": "markdown",
   "metadata": {},
   "source": [
    "### Define"
   ]
  },
  {
   "cell_type": "markdown",
   "metadata": {},
   "source": [
    "from what i know abt ML 100% confidence is not valid so i will remove any data point with 1 confidence "
   ]
  },
  {
   "cell_type": "markdown",
   "metadata": {},
   "source": [
    "### Code"
   ]
  },
  {
   "cell_type": "markdown",
   "metadata": {},
   "source": [
    "technically this is only a test"
   ]
  },
  {
   "cell_type": "markdown",
   "metadata": {},
   "source": [
    "### Test"
   ]
  },
  {
   "cell_type": "markdown",
   "metadata": {},
   "source": [
    "no data point in the table with 1 confidence. It was removed when we dropped objects that are not dogs"
   ]
  },
  {
   "cell_type": "code",
   "execution_count": 538,
   "metadata": {},
   "outputs": [
    {
     "data": {
      "text/html": [
       "<div>\n",
       "<style scoped>\n",
       "    .dataframe tbody tr th:only-of-type {\n",
       "        vertical-align: middle;\n",
       "    }\n",
       "\n",
       "    .dataframe tbody tr th {\n",
       "        vertical-align: top;\n",
       "    }\n",
       "\n",
       "    .dataframe thead th {\n",
       "        text-align: right;\n",
       "    }\n",
       "</style>\n",
       "<table border=\"1\" class=\"dataframe\">\n",
       "  <thead>\n",
       "    <tr style=\"text-align: right;\">\n",
       "      <th></th>\n",
       "      <th>tweet_id</th>\n",
       "      <th>jpg_url</th>\n",
       "      <th>img_num</th>\n",
       "      <th>p1</th>\n",
       "      <th>p1_conf</th>\n",
       "      <th>p1_dog</th>\n",
       "      <th>p2</th>\n",
       "      <th>p2_conf</th>\n",
       "      <th>p2_dog</th>\n",
       "      <th>p3</th>\n",
       "      <th>p3_conf</th>\n",
       "      <th>p3_dog</th>\n",
       "    </tr>\n",
       "  </thead>\n",
       "  <tbody>\n",
       "  </tbody>\n",
       "</table>\n",
       "</div>"
      ],
      "text/plain": [
       "Empty DataFrame\n",
       "Columns: [tweet_id, jpg_url, img_num, p1, p1_conf, p1_dog, p2, p2_conf, p2_dog, p3, p3_conf, p3_dog]\n",
       "Index: []"
      ]
     },
     "execution_count": 538,
     "metadata": {},
     "output_type": "execute_result"
    }
   ],
   "source": [
    "only_dogs.loc[(only_dogs.p1_conf==1) |(only_dogs.p2_conf==1)|(only_dogs.p3_conf == 1), :]"
   ]
  },
  {
   "cell_type": "code",
   "execution_count": null,
   "metadata": {},
   "outputs": [],
   "source": []
  },
  {
   "cell_type": "code",
   "execution_count": 539,
   "metadata": {},
   "outputs": [
    {
     "data": {
      "text/plain": [
       "tweet_id    0\n",
       "jpg_url     0\n",
       "img_num     0\n",
       "p1          0\n",
       "p1_conf     0\n",
       "p1_dog      0\n",
       "p2          0\n",
       "p2_conf     0\n",
       "p2_dog      0\n",
       "p3          0\n",
       "p3_conf     0\n",
       "p3_dog      0\n",
       "dtype: int64"
      ]
     },
     "execution_count": 539,
     "metadata": {},
     "output_type": "execute_result"
    }
   ],
   "source": [
    "only_dogs.isna().sum(axis=0)"
   ]
  },
  {
   "cell_type": "markdown",
   "metadata": {},
   "source": [
    "no duplicates in this table either"
   ]
  },
  {
   "cell_type": "markdown",
   "metadata": {},
   "source": [
    "## Master Table"
   ]
  },
  {
   "cell_type": "markdown",
   "metadata": {},
   "source": [
    "### Define"
   ]
  },
  {
   "cell_type": "markdown",
   "metadata": {},
   "source": [
    "join all 3 tables to get a complete table with all relavant info"
   ]
  },
  {
   "cell_type": "markdown",
   "metadata": {},
   "source": [
    "### Code"
   ]
  },
  {
   "cell_type": "code",
   "execution_count": 540,
   "metadata": {},
   "outputs": [
    {
     "name": "stdout",
     "output_type": "stream",
     "text": [
      "<class 'pandas.core.frame.DataFrame'>\n",
      "Int64Index: 2097 entries, 0 to 2355\n",
      "Data columns (total 9 columns):\n",
      " #   Column              Non-Null Count  Dtype              \n",
      "---  ------              --------------  -----              \n",
      " 0   tweet_id            2097 non-null   int64              \n",
      " 1   timestamp           2097 non-null   datetime64[ns, UTC]\n",
      " 2   source              2097 non-null   object             \n",
      " 3   text                2097 non-null   object             \n",
      " 4   expanded_urls       2094 non-null   object             \n",
      " 5   rating_numerator    2097 non-null   int64              \n",
      " 6   rating_denominator  2097 non-null   int64              \n",
      " 7   name                1396 non-null   object             \n",
      " 8   dog_stage           336 non-null    object             \n",
      "dtypes: datetime64[ns, UTC](1), int64(3), object(5)\n",
      "memory usage: 163.8+ KB\n"
     ]
    }
   ],
   "source": [
    "tw.info()"
   ]
  },
  {
   "cell_type": "code",
   "execution_count": 541,
   "metadata": {},
   "outputs": [
    {
     "name": "stdout",
     "output_type": "stream",
     "text": [
      "<class 'pandas.core.frame.DataFrame'>\n",
      "Int64Index: 1751 entries, 0 to 2073\n",
      "Data columns (total 12 columns):\n",
      " #   Column    Non-Null Count  Dtype  \n",
      "---  ------    --------------  -----  \n",
      " 0   tweet_id  1751 non-null   int64  \n",
      " 1   jpg_url   1751 non-null   object \n",
      " 2   img_num   1751 non-null   int64  \n",
      " 3   p1        1751 non-null   object \n",
      " 4   p1_conf   1751 non-null   float64\n",
      " 5   p1_dog    1751 non-null   bool   \n",
      " 6   p2        1751 non-null   object \n",
      " 7   p2_conf   1751 non-null   float64\n",
      " 8   p2_dog    1751 non-null   bool   \n",
      " 9   p3        1751 non-null   object \n",
      " 10  p3_conf   1751 non-null   float64\n",
      " 11  p3_dog    1751 non-null   bool   \n",
      "dtypes: bool(3), float64(3), int64(2), object(4)\n",
      "memory usage: 141.9+ KB\n"
     ]
    }
   ],
   "source": [
    "only_dogs.info()"
   ]
  },
  {
   "cell_type": "code",
   "execution_count": 542,
   "metadata": {},
   "outputs": [
    {
     "name": "stdout",
     "output_type": "stream",
     "text": [
      "<class 'pandas.core.frame.DataFrame'>\n",
      "RangeIndex: 2090 entries, 0 to 2089\n",
      "Data columns (total 3 columns):\n",
      " #   Column          Non-Null Count  Dtype\n",
      "---  ------          --------------  -----\n",
      " 0   tweet_id        2090 non-null   int64\n",
      " 1   favorite_count  2090 non-null   int64\n",
      " 2   retweet_count   2090 non-null   int64\n",
      "dtypes: int64(3)\n",
      "memory usage: 49.1 KB\n"
     ]
    }
   ],
   "source": [
    "tweets.info()"
   ]
  },
  {
   "cell_type": "code",
   "execution_count": 543,
   "metadata": {},
   "outputs": [
    {
     "name": "stdout",
     "output_type": "stream",
     "text": [
      "tw is: 2097 rows\n",
      "only_dogs is: 1751 rows\n",
      "tweets is: 2090 rows\n"
     ]
    }
   ],
   "source": [
    "print(f\"tw is: {tw.shape[0]} rows\")\n",
    "print(f\"only_dogs is: {only_dogs.shape[0]} rows\")\n",
    "print(f\"tweets is: {tweets.shape[0]} rows\")"
   ]
  },
  {
   "cell_type": "code",
   "execution_count": 544,
   "metadata": {},
   "outputs": [],
   "source": [
    "master = only_dogs.copy()"
   ]
  },
  {
   "cell_type": "code",
   "execution_count": 545,
   "metadata": {},
   "outputs": [],
   "source": [
    "tw_copy = tw.copy()"
   ]
  },
  {
   "cell_type": "code",
   "execution_count": 546,
   "metadata": {},
   "outputs": [],
   "source": [
    "tweets_copy = tweets.copy()"
   ]
  },
  {
   "cell_type": "code",
   "execution_count": 547,
   "metadata": {},
   "outputs": [],
   "source": [
    "master = master.merge(tw_copy,how='inner', on='tweet_id')"
   ]
  },
  {
   "cell_type": "code",
   "execution_count": 548,
   "metadata": {},
   "outputs": [
    {
     "name": "stdout",
     "output_type": "stream",
     "text": [
      "<class 'pandas.core.frame.DataFrame'>\n",
      "Int64Index: 1666 entries, 0 to 1665\n",
      "Data columns (total 20 columns):\n",
      " #   Column              Non-Null Count  Dtype              \n",
      "---  ------              --------------  -----              \n",
      " 0   tweet_id            1666 non-null   int64              \n",
      " 1   jpg_url             1666 non-null   object             \n",
      " 2   img_num             1666 non-null   int64              \n",
      " 3   p1                  1666 non-null   object             \n",
      " 4   p1_conf             1666 non-null   float64            \n",
      " 5   p1_dog              1666 non-null   bool               \n",
      " 6   p2                  1666 non-null   object             \n",
      " 7   p2_conf             1666 non-null   float64            \n",
      " 8   p2_dog              1666 non-null   bool               \n",
      " 9   p3                  1666 non-null   object             \n",
      " 10  p3_conf             1666 non-null   float64            \n",
      " 11  p3_dog              1666 non-null   bool               \n",
      " 12  timestamp           1666 non-null   datetime64[ns, UTC]\n",
      " 13  source              1666 non-null   object             \n",
      " 14  text                1666 non-null   object             \n",
      " 15  expanded_urls       1666 non-null   object             \n",
      " 16  rating_numerator    1666 non-null   int64              \n",
      " 17  rating_denominator  1666 non-null   int64              \n",
      " 18  name                1190 non-null   object             \n",
      " 19  dog_stage           257 non-null    object             \n",
      "dtypes: bool(3), datetime64[ns, UTC](1), float64(3), int64(4), object(9)\n",
      "memory usage: 239.2+ KB\n"
     ]
    }
   ],
   "source": [
    "master.info()"
   ]
  },
  {
   "cell_type": "code",
   "execution_count": 549,
   "metadata": {},
   "outputs": [],
   "source": [
    "master = master.merge(tweets_copy,how='inner', on='tweet_id')"
   ]
  },
  {
   "cell_type": "code",
   "execution_count": 550,
   "metadata": {},
   "outputs": [
    {
     "name": "stdout",
     "output_type": "stream",
     "text": [
      "<class 'pandas.core.frame.DataFrame'>\n",
      "Int64Index: 1659 entries, 0 to 1658\n",
      "Data columns (total 22 columns):\n",
      " #   Column              Non-Null Count  Dtype              \n",
      "---  ------              --------------  -----              \n",
      " 0   tweet_id            1659 non-null   int64              \n",
      " 1   jpg_url             1659 non-null   object             \n",
      " 2   img_num             1659 non-null   int64              \n",
      " 3   p1                  1659 non-null   object             \n",
      " 4   p1_conf             1659 non-null   float64            \n",
      " 5   p1_dog              1659 non-null   bool               \n",
      " 6   p2                  1659 non-null   object             \n",
      " 7   p2_conf             1659 non-null   float64            \n",
      " 8   p2_dog              1659 non-null   bool               \n",
      " 9   p3                  1659 non-null   object             \n",
      " 10  p3_conf             1659 non-null   float64            \n",
      " 11  p3_dog              1659 non-null   bool               \n",
      " 12  timestamp           1659 non-null   datetime64[ns, UTC]\n",
      " 13  source              1659 non-null   object             \n",
      " 14  text                1659 non-null   object             \n",
      " 15  expanded_urls       1659 non-null   object             \n",
      " 16  rating_numerator    1659 non-null   int64              \n",
      " 17  rating_denominator  1659 non-null   int64              \n",
      " 18  name                1183 non-null   object             \n",
      " 19  dog_stage           256 non-null    object             \n",
      " 20  favorite_count      1659 non-null   int64              \n",
      " 21  retweet_count       1659 non-null   int64              \n",
      "dtypes: bool(3), datetime64[ns, UTC](1), float64(3), int64(6), object(9)\n",
      "memory usage: 264.1+ KB\n"
     ]
    }
   ],
   "source": [
    "master.info()"
   ]
  },
  {
   "cell_type": "code",
   "execution_count": 551,
   "metadata": {},
   "outputs": [
    {
     "data": {
      "text/plain": [
       "Index(['tweet_id', 'jpg_url', 'img_num', 'p1', 'p1_conf', 'p1_dog', 'p2',\n",
       "       'p2_conf', 'p2_dog', 'p3', 'p3_conf', 'p3_dog', 'timestamp', 'source',\n",
       "       'text', 'expanded_urls', 'rating_numerator', 'rating_denominator',\n",
       "       'name', 'dog_stage', 'favorite_count', 'retweet_count'],\n",
       "      dtype='object')"
      ]
     },
     "execution_count": 551,
     "metadata": {},
     "output_type": "execute_result"
    }
   ],
   "source": [
    "master.columns"
   ]
  },
  {
   "cell_type": "markdown",
   "metadata": {},
   "source": [
    "### Define"
   ]
  },
  {
   "cell_type": "markdown",
   "metadata": {},
   "source": [
    "Drop all unimportant columns"
   ]
  },
  {
   "cell_type": "markdown",
   "metadata": {},
   "source": [
    "### Code"
   ]
  },
  {
   "cell_type": "code",
   "execution_count": 552,
   "metadata": {},
   "outputs": [],
   "source": [
    "master = master.drop(['jpg_url', 'img_num', 'source','rating_denominator'], axis=1)"
   ]
  },
  {
   "cell_type": "markdown",
   "metadata": {},
   "source": [
    "### Test"
   ]
  },
  {
   "cell_type": "code",
   "execution_count": 553,
   "metadata": {},
   "outputs": [
    {
     "data": {
      "text/html": [
       "<div>\n",
       "<style scoped>\n",
       "    .dataframe tbody tr th:only-of-type {\n",
       "        vertical-align: middle;\n",
       "    }\n",
       "\n",
       "    .dataframe tbody tr th {\n",
       "        vertical-align: top;\n",
       "    }\n",
       "\n",
       "    .dataframe thead th {\n",
       "        text-align: right;\n",
       "    }\n",
       "</style>\n",
       "<table border=\"1\" class=\"dataframe\">\n",
       "  <thead>\n",
       "    <tr style=\"text-align: right;\">\n",
       "      <th></th>\n",
       "      <th>tweet_id</th>\n",
       "      <th>p1</th>\n",
       "      <th>p1_conf</th>\n",
       "      <th>p1_dog</th>\n",
       "      <th>p2</th>\n",
       "      <th>p2_conf</th>\n",
       "      <th>p2_dog</th>\n",
       "      <th>p3</th>\n",
       "      <th>p3_conf</th>\n",
       "      <th>p3_dog</th>\n",
       "      <th>timestamp</th>\n",
       "      <th>text</th>\n",
       "      <th>expanded_urls</th>\n",
       "      <th>rating_numerator</th>\n",
       "      <th>name</th>\n",
       "      <th>dog_stage</th>\n",
       "      <th>favorite_count</th>\n",
       "      <th>retweet_count</th>\n",
       "    </tr>\n",
       "  </thead>\n",
       "  <tbody>\n",
       "    <tr>\n",
       "      <th>1390</th>\n",
       "      <td>823581115634085888</td>\n",
       "      <td>Dingo</td>\n",
       "      <td>0.280949</td>\n",
       "      <td>False</td>\n",
       "      <td>German Shepherd</td>\n",
       "      <td>0.194044</td>\n",
       "      <td>True</td>\n",
       "      <td>Pembroke</td>\n",
       "      <td>0.120051</td>\n",
       "      <td>True</td>\n",
       "      <td>2017-01-23 17:20:14+00:00</td>\n",
       "      <td>This is Crawford. He's quite h*ckin good at th...</td>\n",
       "      <td>https://twitter.com/dog_rates/status/823581115...</td>\n",
       "      <td>11</td>\n",
       "      <td>Crawford</td>\n",
       "      <td>NaN</td>\n",
       "      <td>12780</td>\n",
       "      <td>2568</td>\n",
       "    </tr>\n",
       "  </tbody>\n",
       "</table>\n",
       "</div>"
      ],
      "text/plain": [
       "                tweet_id     p1   p1_conf  p1_dog               p2   p2_conf  \\\n",
       "1390  823581115634085888  Dingo  0.280949   False  German Shepherd  0.194044   \n",
       "\n",
       "      p2_dog        p3   p3_conf  p3_dog                 timestamp  \\\n",
       "1390    True  Pembroke  0.120051    True 2017-01-23 17:20:14+00:00   \n",
       "\n",
       "                                                   text  \\\n",
       "1390  This is Crawford. He's quite h*ckin good at th...   \n",
       "\n",
       "                                          expanded_urls  rating_numerator  \\\n",
       "1390  https://twitter.com/dog_rates/status/823581115...                11   \n",
       "\n",
       "          name dog_stage  favorite_count  retweet_count  \n",
       "1390  Crawford       NaN           12780           2568  "
      ]
     },
     "execution_count": 553,
     "metadata": {},
     "output_type": "execute_result"
    }
   ],
   "source": [
    "master.sample()"
   ]
  },
  {
   "cell_type": "code",
   "execution_count": 554,
   "metadata": {},
   "outputs": [],
   "source": [
    "# master.iloc[1567, 12]"
   ]
  },
  {
   "cell_type": "markdown",
   "metadata": {},
   "source": [
    "### Define"
   ]
  },
  {
   "cell_type": "markdown",
   "metadata": {},
   "source": [
    "if any of `p1_dog` or `p1_dog` or `p1_dog` == True set the respecrive p1/p2/p3 as the dog breed for that datapoint"
   ]
  },
  {
   "cell_type": "markdown",
   "metadata": {},
   "source": [
    "### Code"
   ]
  },
  {
   "cell_type": "code",
   "execution_count": 555,
   "metadata": {},
   "outputs": [],
   "source": [
    "\n",
    "mask1 = (master.p1_dog == True)\n",
    "master['breed'] = master.loc[mask1]['p1']\n",
    "\n",
    "\n",
    "mask2 = ((master.p1_dog == False) & (master.p2_dog == True))\n",
    "master['breed2'] = master.loc[mask2]['p2']\n",
    "\n",
    "\n",
    "mask3 = ((master.p1_dog == False) & (master.p2_dog == False) & (master.p3_dog == True))\n",
    "master['breed3'] = master.loc[mask3]['p3']\n",
    "\n",
    "\n",
    "# master"
   ]
  },
  {
   "cell_type": "code",
   "execution_count": 556,
   "metadata": {},
   "outputs": [
    {
     "data": {
      "text/html": [
       "<div>\n",
       "<style scoped>\n",
       "    .dataframe tbody tr th:only-of-type {\n",
       "        vertical-align: middle;\n",
       "    }\n",
       "\n",
       "    .dataframe tbody tr th {\n",
       "        vertical-align: top;\n",
       "    }\n",
       "\n",
       "    .dataframe thead th {\n",
       "        text-align: right;\n",
       "    }\n",
       "</style>\n",
       "<table border=\"1\" class=\"dataframe\">\n",
       "  <thead>\n",
       "    <tr style=\"text-align: right;\">\n",
       "      <th></th>\n",
       "      <th>tweet_id</th>\n",
       "      <th>p1</th>\n",
       "      <th>p1_conf</th>\n",
       "      <th>p1_dog</th>\n",
       "      <th>p2</th>\n",
       "      <th>p2_conf</th>\n",
       "      <th>p2_dog</th>\n",
       "      <th>p3</th>\n",
       "      <th>p3_conf</th>\n",
       "      <th>p3_dog</th>\n",
       "      <th>...</th>\n",
       "      <th>text</th>\n",
       "      <th>expanded_urls</th>\n",
       "      <th>rating_numerator</th>\n",
       "      <th>name</th>\n",
       "      <th>dog_stage</th>\n",
       "      <th>favorite_count</th>\n",
       "      <th>retweet_count</th>\n",
       "      <th>breed</th>\n",
       "      <th>breed2</th>\n",
       "      <th>breed3</th>\n",
       "    </tr>\n",
       "  </thead>\n",
       "  <tbody>\n",
       "    <tr>\n",
       "      <th>1654</th>\n",
       "      <td>891087950875897856</td>\n",
       "      <td>Chesapeake Bay Retriever</td>\n",
       "      <td>0.425595</td>\n",
       "      <td>True</td>\n",
       "      <td>Irish Terrier</td>\n",
       "      <td>0.116317</td>\n",
       "      <td>True</td>\n",
       "      <td>Indian Elephant</td>\n",
       "      <td>0.076902</td>\n",
       "      <td>False</td>\n",
       "      <td>...</td>\n",
       "      <td>Here we have a majestic great white breaching ...</td>\n",
       "      <td>https://twitter.com/dog_rates/status/891087950...</td>\n",
       "      <td>13</td>\n",
       "      <td>NaN</td>\n",
       "      <td>NaN</td>\n",
       "      <td>18501</td>\n",
       "      <td>2743</td>\n",
       "      <td>Chesapeake Bay Retriever</td>\n",
       "      <td>NaN</td>\n",
       "      <td>NaN</td>\n",
       "    </tr>\n",
       "    <tr>\n",
       "      <th>1655</th>\n",
       "      <td>891327558926688256</td>\n",
       "      <td>Basset</td>\n",
       "      <td>0.555712</td>\n",
       "      <td>True</td>\n",
       "      <td>English Springer</td>\n",
       "      <td>0.225770</td>\n",
       "      <td>True</td>\n",
       "      <td>German Short-Haired Pointer</td>\n",
       "      <td>0.175219</td>\n",
       "      <td>True</td>\n",
       "      <td>...</td>\n",
       "      <td>This is Franklin. He would like you to stop ca...</td>\n",
       "      <td>https://twitter.com/dog_rates/status/891327558...</td>\n",
       "      <td>12</td>\n",
       "      <td>Franklin</td>\n",
       "      <td>NaN</td>\n",
       "      <td>36721</td>\n",
       "      <td>8173</td>\n",
       "      <td>Basset</td>\n",
       "      <td>NaN</td>\n",
       "      <td>NaN</td>\n",
       "    </tr>\n",
       "    <tr>\n",
       "      <th>1656</th>\n",
       "      <td>891689557279858688</td>\n",
       "      <td>Paper Towel</td>\n",
       "      <td>0.170278</td>\n",
       "      <td>False</td>\n",
       "      <td>Labrador Retriever</td>\n",
       "      <td>0.168086</td>\n",
       "      <td>True</td>\n",
       "      <td>Spatula</td>\n",
       "      <td>0.040836</td>\n",
       "      <td>False</td>\n",
       "      <td>...</td>\n",
       "      <td>This is Darla. She commenced a snooze mid meal...</td>\n",
       "      <td>https://twitter.com/dog_rates/status/891689557...</td>\n",
       "      <td>13</td>\n",
       "      <td>Darla</td>\n",
       "      <td>NaN</td>\n",
       "      <td>38467</td>\n",
       "      <td>7595</td>\n",
       "      <td>NaN</td>\n",
       "      <td>Labrador Retriever</td>\n",
       "      <td>NaN</td>\n",
       "    </tr>\n",
       "    <tr>\n",
       "      <th>1657</th>\n",
       "      <td>891815181378084864</td>\n",
       "      <td>Chihuahua</td>\n",
       "      <td>0.716012</td>\n",
       "      <td>True</td>\n",
       "      <td>Malamute</td>\n",
       "      <td>0.078253</td>\n",
       "      <td>True</td>\n",
       "      <td>Kelpie</td>\n",
       "      <td>0.031379</td>\n",
       "      <td>True</td>\n",
       "      <td>...</td>\n",
       "      <td>This is Archie. He is a rare Norwegian Pouncin...</td>\n",
       "      <td>https://twitter.com/dog_rates/status/891815181...</td>\n",
       "      <td>12</td>\n",
       "      <td>Archie</td>\n",
       "      <td>NaN</td>\n",
       "      <td>22884</td>\n",
       "      <td>3645</td>\n",
       "      <td>Chihuahua</td>\n",
       "      <td>NaN</td>\n",
       "      <td>NaN</td>\n",
       "    </tr>\n",
       "    <tr>\n",
       "      <th>1658</th>\n",
       "      <td>892177421306343426</td>\n",
       "      <td>Chihuahua</td>\n",
       "      <td>0.323581</td>\n",
       "      <td>True</td>\n",
       "      <td>Pekinese</td>\n",
       "      <td>0.090647</td>\n",
       "      <td>True</td>\n",
       "      <td>Papillon</td>\n",
       "      <td>0.068957</td>\n",
       "      <td>True</td>\n",
       "      <td>...</td>\n",
       "      <td>This is Tilly. She's just checking pup on you....</td>\n",
       "      <td>https://twitter.com/dog_rates/status/892177421...</td>\n",
       "      <td>13</td>\n",
       "      <td>Tilly</td>\n",
       "      <td>NaN</td>\n",
       "      <td>30437</td>\n",
       "      <td>5518</td>\n",
       "      <td>Chihuahua</td>\n",
       "      <td>NaN</td>\n",
       "      <td>NaN</td>\n",
       "    </tr>\n",
       "  </tbody>\n",
       "</table>\n",
       "<p>5 rows × 21 columns</p>\n",
       "</div>"
      ],
      "text/plain": [
       "                tweet_id                        p1   p1_conf  p1_dog  \\\n",
       "1654  891087950875897856  Chesapeake Bay Retriever  0.425595    True   \n",
       "1655  891327558926688256                    Basset  0.555712    True   \n",
       "1656  891689557279858688               Paper Towel  0.170278   False   \n",
       "1657  891815181378084864                 Chihuahua  0.716012    True   \n",
       "1658  892177421306343426                 Chihuahua  0.323581    True   \n",
       "\n",
       "                      p2   p2_conf  p2_dog                           p3  \\\n",
       "1654       Irish Terrier  0.116317    True              Indian Elephant   \n",
       "1655    English Springer  0.225770    True  German Short-Haired Pointer   \n",
       "1656  Labrador Retriever  0.168086    True                      Spatula   \n",
       "1657            Malamute  0.078253    True                       Kelpie   \n",
       "1658            Pekinese  0.090647    True                     Papillon   \n",
       "\n",
       "       p3_conf  p3_dog  ...  \\\n",
       "1654  0.076902   False  ...   \n",
       "1655  0.175219    True  ...   \n",
       "1656  0.040836   False  ...   \n",
       "1657  0.031379    True  ...   \n",
       "1658  0.068957    True  ...   \n",
       "\n",
       "                                                   text  \\\n",
       "1654  Here we have a majestic great white breaching ...   \n",
       "1655  This is Franklin. He would like you to stop ca...   \n",
       "1656  This is Darla. She commenced a snooze mid meal...   \n",
       "1657  This is Archie. He is a rare Norwegian Pouncin...   \n",
       "1658  This is Tilly. She's just checking pup on you....   \n",
       "\n",
       "                                          expanded_urls rating_numerator  \\\n",
       "1654  https://twitter.com/dog_rates/status/891087950...               13   \n",
       "1655  https://twitter.com/dog_rates/status/891327558...               12   \n",
       "1656  https://twitter.com/dog_rates/status/891689557...               13   \n",
       "1657  https://twitter.com/dog_rates/status/891815181...               12   \n",
       "1658  https://twitter.com/dog_rates/status/892177421...               13   \n",
       "\n",
       "          name dog_stage favorite_count  retweet_count  \\\n",
       "1654       NaN       NaN          18501           2743   \n",
       "1655  Franklin       NaN          36721           8173   \n",
       "1656     Darla       NaN          38467           7595   \n",
       "1657    Archie       NaN          22884           3645   \n",
       "1658     Tilly       NaN          30437           5518   \n",
       "\n",
       "                         breed              breed2 breed3  \n",
       "1654  Chesapeake Bay Retriever                 NaN    NaN  \n",
       "1655                    Basset                 NaN    NaN  \n",
       "1656                       NaN  Labrador Retriever    NaN  \n",
       "1657                 Chihuahua                 NaN    NaN  \n",
       "1658                 Chihuahua                 NaN    NaN  \n",
       "\n",
       "[5 rows x 21 columns]"
      ]
     },
     "execution_count": 556,
     "metadata": {},
     "output_type": "execute_result"
    }
   ],
   "source": [
    "master.tail()"
   ]
  },
  {
   "cell_type": "code",
   "execution_count": 557,
   "metadata": {},
   "outputs": [],
   "source": [
    "# mask = ((master.p1_dog == True) & (master.p2_dog == True)& (master.p3_dog == True))\n",
    "\n",
    "# master.loc[mask]"
   ]
  },
  {
   "cell_type": "code",
   "execution_count": 558,
   "metadata": {},
   "outputs": [
    {
     "name": "stdout",
     "output_type": "stream",
     "text": [
      "<class 'pandas.core.frame.DataFrame'>\n",
      "Int64Index: 1659 entries, 0 to 1658\n",
      "Data columns (total 21 columns):\n",
      " #   Column            Non-Null Count  Dtype              \n",
      "---  ------            --------------  -----              \n",
      " 0   tweet_id          1659 non-null   int64              \n",
      " 1   p1                1659 non-null   object             \n",
      " 2   p1_conf           1659 non-null   float64            \n",
      " 3   p1_dog            1659 non-null   bool               \n",
      " 4   p2                1659 non-null   object             \n",
      " 5   p2_conf           1659 non-null   float64            \n",
      " 6   p2_dog            1659 non-null   bool               \n",
      " 7   p3                1659 non-null   object             \n",
      " 8   p3_conf           1659 non-null   float64            \n",
      " 9   p3_dog            1659 non-null   bool               \n",
      " 10  timestamp         1659 non-null   datetime64[ns, UTC]\n",
      " 11  text              1659 non-null   object             \n",
      " 12  expanded_urls     1659 non-null   object             \n",
      " 13  rating_numerator  1659 non-null   int64              \n",
      " 14  name              1183 non-null   object             \n",
      " 15  dog_stage         256 non-null    object             \n",
      " 16  favorite_count    1659 non-null   int64              \n",
      " 17  retweet_count     1659 non-null   int64              \n",
      " 18  breed             1456 non-null   object             \n",
      " 19  breed2            143 non-null    object             \n",
      " 20  breed3            60 non-null     object             \n",
      "dtypes: bool(3), datetime64[ns, UTC](1), float64(3), int64(4), object(10)\n",
      "memory usage: 251.1+ KB\n"
     ]
    }
   ],
   "source": [
    "master.info()"
   ]
  },
  {
   "cell_type": "code",
   "execution_count": 559,
   "metadata": {},
   "outputs": [],
   "source": [
    "master.breed.replace(np.nan, '', inplace=True)\n",
    "master.breed2.replace(np.nan, '', inplace=True)\n",
    "master.breed3.replace(np.nan, '', inplace=True)\n"
   ]
  },
  {
   "cell_type": "code",
   "execution_count": 560,
   "metadata": {},
   "outputs": [],
   "source": [
    "master.breed = master.breed + master.breed2 + master.breed3"
   ]
  },
  {
   "cell_type": "markdown",
   "metadata": {},
   "source": [
    "### Test"
   ]
  },
  {
   "cell_type": "code",
   "execution_count": 561,
   "metadata": {},
   "outputs": [
    {
     "data": {
      "text/html": [
       "<div>\n",
       "<style scoped>\n",
       "    .dataframe tbody tr th:only-of-type {\n",
       "        vertical-align: middle;\n",
       "    }\n",
       "\n",
       "    .dataframe tbody tr th {\n",
       "        vertical-align: top;\n",
       "    }\n",
       "\n",
       "    .dataframe thead th {\n",
       "        text-align: right;\n",
       "    }\n",
       "</style>\n",
       "<table border=\"1\" class=\"dataframe\">\n",
       "  <thead>\n",
       "    <tr style=\"text-align: right;\">\n",
       "      <th></th>\n",
       "      <th>tweet_id</th>\n",
       "      <th>p1</th>\n",
       "      <th>p1_conf</th>\n",
       "      <th>p1_dog</th>\n",
       "      <th>p2</th>\n",
       "      <th>p2_conf</th>\n",
       "      <th>p2_dog</th>\n",
       "      <th>p3</th>\n",
       "      <th>p3_conf</th>\n",
       "      <th>p3_dog</th>\n",
       "      <th>...</th>\n",
       "      <th>text</th>\n",
       "      <th>expanded_urls</th>\n",
       "      <th>rating_numerator</th>\n",
       "      <th>name</th>\n",
       "      <th>dog_stage</th>\n",
       "      <th>favorite_count</th>\n",
       "      <th>retweet_count</th>\n",
       "      <th>breed</th>\n",
       "      <th>breed2</th>\n",
       "      <th>breed3</th>\n",
       "    </tr>\n",
       "  </thead>\n",
       "  <tbody>\n",
       "    <tr>\n",
       "      <th>1654</th>\n",
       "      <td>891087950875897856</td>\n",
       "      <td>Chesapeake Bay Retriever</td>\n",
       "      <td>0.425595</td>\n",
       "      <td>True</td>\n",
       "      <td>Irish Terrier</td>\n",
       "      <td>0.116317</td>\n",
       "      <td>True</td>\n",
       "      <td>Indian Elephant</td>\n",
       "      <td>0.076902</td>\n",
       "      <td>False</td>\n",
       "      <td>...</td>\n",
       "      <td>Here we have a majestic great white breaching ...</td>\n",
       "      <td>https://twitter.com/dog_rates/status/891087950...</td>\n",
       "      <td>13</td>\n",
       "      <td>NaN</td>\n",
       "      <td>NaN</td>\n",
       "      <td>18501</td>\n",
       "      <td>2743</td>\n",
       "      <td>Chesapeake Bay Retriever</td>\n",
       "      <td></td>\n",
       "      <td></td>\n",
       "    </tr>\n",
       "    <tr>\n",
       "      <th>1655</th>\n",
       "      <td>891327558926688256</td>\n",
       "      <td>Basset</td>\n",
       "      <td>0.555712</td>\n",
       "      <td>True</td>\n",
       "      <td>English Springer</td>\n",
       "      <td>0.225770</td>\n",
       "      <td>True</td>\n",
       "      <td>German Short-Haired Pointer</td>\n",
       "      <td>0.175219</td>\n",
       "      <td>True</td>\n",
       "      <td>...</td>\n",
       "      <td>This is Franklin. He would like you to stop ca...</td>\n",
       "      <td>https://twitter.com/dog_rates/status/891327558...</td>\n",
       "      <td>12</td>\n",
       "      <td>Franklin</td>\n",
       "      <td>NaN</td>\n",
       "      <td>36721</td>\n",
       "      <td>8173</td>\n",
       "      <td>Basset</td>\n",
       "      <td></td>\n",
       "      <td></td>\n",
       "    </tr>\n",
       "    <tr>\n",
       "      <th>1656</th>\n",
       "      <td>891689557279858688</td>\n",
       "      <td>Paper Towel</td>\n",
       "      <td>0.170278</td>\n",
       "      <td>False</td>\n",
       "      <td>Labrador Retriever</td>\n",
       "      <td>0.168086</td>\n",
       "      <td>True</td>\n",
       "      <td>Spatula</td>\n",
       "      <td>0.040836</td>\n",
       "      <td>False</td>\n",
       "      <td>...</td>\n",
       "      <td>This is Darla. She commenced a snooze mid meal...</td>\n",
       "      <td>https://twitter.com/dog_rates/status/891689557...</td>\n",
       "      <td>13</td>\n",
       "      <td>Darla</td>\n",
       "      <td>NaN</td>\n",
       "      <td>38467</td>\n",
       "      <td>7595</td>\n",
       "      <td>Labrador Retriever</td>\n",
       "      <td>Labrador Retriever</td>\n",
       "      <td></td>\n",
       "    </tr>\n",
       "    <tr>\n",
       "      <th>1657</th>\n",
       "      <td>891815181378084864</td>\n",
       "      <td>Chihuahua</td>\n",
       "      <td>0.716012</td>\n",
       "      <td>True</td>\n",
       "      <td>Malamute</td>\n",
       "      <td>0.078253</td>\n",
       "      <td>True</td>\n",
       "      <td>Kelpie</td>\n",
       "      <td>0.031379</td>\n",
       "      <td>True</td>\n",
       "      <td>...</td>\n",
       "      <td>This is Archie. He is a rare Norwegian Pouncin...</td>\n",
       "      <td>https://twitter.com/dog_rates/status/891815181...</td>\n",
       "      <td>12</td>\n",
       "      <td>Archie</td>\n",
       "      <td>NaN</td>\n",
       "      <td>22884</td>\n",
       "      <td>3645</td>\n",
       "      <td>Chihuahua</td>\n",
       "      <td></td>\n",
       "      <td></td>\n",
       "    </tr>\n",
       "    <tr>\n",
       "      <th>1658</th>\n",
       "      <td>892177421306343426</td>\n",
       "      <td>Chihuahua</td>\n",
       "      <td>0.323581</td>\n",
       "      <td>True</td>\n",
       "      <td>Pekinese</td>\n",
       "      <td>0.090647</td>\n",
       "      <td>True</td>\n",
       "      <td>Papillon</td>\n",
       "      <td>0.068957</td>\n",
       "      <td>True</td>\n",
       "      <td>...</td>\n",
       "      <td>This is Tilly. She's just checking pup on you....</td>\n",
       "      <td>https://twitter.com/dog_rates/status/892177421...</td>\n",
       "      <td>13</td>\n",
       "      <td>Tilly</td>\n",
       "      <td>NaN</td>\n",
       "      <td>30437</td>\n",
       "      <td>5518</td>\n",
       "      <td>Chihuahua</td>\n",
       "      <td></td>\n",
       "      <td></td>\n",
       "    </tr>\n",
       "  </tbody>\n",
       "</table>\n",
       "<p>5 rows × 21 columns</p>\n",
       "</div>"
      ],
      "text/plain": [
       "                tweet_id                        p1   p1_conf  p1_dog  \\\n",
       "1654  891087950875897856  Chesapeake Bay Retriever  0.425595    True   \n",
       "1655  891327558926688256                    Basset  0.555712    True   \n",
       "1656  891689557279858688               Paper Towel  0.170278   False   \n",
       "1657  891815181378084864                 Chihuahua  0.716012    True   \n",
       "1658  892177421306343426                 Chihuahua  0.323581    True   \n",
       "\n",
       "                      p2   p2_conf  p2_dog                           p3  \\\n",
       "1654       Irish Terrier  0.116317    True              Indian Elephant   \n",
       "1655    English Springer  0.225770    True  German Short-Haired Pointer   \n",
       "1656  Labrador Retriever  0.168086    True                      Spatula   \n",
       "1657            Malamute  0.078253    True                       Kelpie   \n",
       "1658            Pekinese  0.090647    True                     Papillon   \n",
       "\n",
       "       p3_conf  p3_dog  ...  \\\n",
       "1654  0.076902   False  ...   \n",
       "1655  0.175219    True  ...   \n",
       "1656  0.040836   False  ...   \n",
       "1657  0.031379    True  ...   \n",
       "1658  0.068957    True  ...   \n",
       "\n",
       "                                                   text  \\\n",
       "1654  Here we have a majestic great white breaching ...   \n",
       "1655  This is Franklin. He would like you to stop ca...   \n",
       "1656  This is Darla. She commenced a snooze mid meal...   \n",
       "1657  This is Archie. He is a rare Norwegian Pouncin...   \n",
       "1658  This is Tilly. She's just checking pup on you....   \n",
       "\n",
       "                                          expanded_urls rating_numerator  \\\n",
       "1654  https://twitter.com/dog_rates/status/891087950...               13   \n",
       "1655  https://twitter.com/dog_rates/status/891327558...               12   \n",
       "1656  https://twitter.com/dog_rates/status/891689557...               13   \n",
       "1657  https://twitter.com/dog_rates/status/891815181...               12   \n",
       "1658  https://twitter.com/dog_rates/status/892177421...               13   \n",
       "\n",
       "          name dog_stage favorite_count  retweet_count  \\\n",
       "1654       NaN       NaN          18501           2743   \n",
       "1655  Franklin       NaN          36721           8173   \n",
       "1656     Darla       NaN          38467           7595   \n",
       "1657    Archie       NaN          22884           3645   \n",
       "1658     Tilly       NaN          30437           5518   \n",
       "\n",
       "                         breed              breed2 breed3  \n",
       "1654  Chesapeake Bay Retriever                             \n",
       "1655                    Basset                             \n",
       "1656        Labrador Retriever  Labrador Retriever         \n",
       "1657                 Chihuahua                             \n",
       "1658                 Chihuahua                             \n",
       "\n",
       "[5 rows x 21 columns]"
      ]
     },
     "execution_count": 561,
     "metadata": {},
     "output_type": "execute_result"
    }
   ],
   "source": [
    "master.tail()"
   ]
  },
  {
   "cell_type": "code",
   "execution_count": 562,
   "metadata": {},
   "outputs": [
    {
     "name": "stdout",
     "output_type": "stream",
     "text": [
      "<class 'pandas.core.frame.DataFrame'>\n",
      "Int64Index: 1659 entries, 0 to 1658\n",
      "Data columns (total 21 columns):\n",
      " #   Column            Non-Null Count  Dtype              \n",
      "---  ------            --------------  -----              \n",
      " 0   tweet_id          1659 non-null   int64              \n",
      " 1   p1                1659 non-null   object             \n",
      " 2   p1_conf           1659 non-null   float64            \n",
      " 3   p1_dog            1659 non-null   bool               \n",
      " 4   p2                1659 non-null   object             \n",
      " 5   p2_conf           1659 non-null   float64            \n",
      " 6   p2_dog            1659 non-null   bool               \n",
      " 7   p3                1659 non-null   object             \n",
      " 8   p3_conf           1659 non-null   float64            \n",
      " 9   p3_dog            1659 non-null   bool               \n",
      " 10  timestamp         1659 non-null   datetime64[ns, UTC]\n",
      " 11  text              1659 non-null   object             \n",
      " 12  expanded_urls     1659 non-null   object             \n",
      " 13  rating_numerator  1659 non-null   int64              \n",
      " 14  name              1183 non-null   object             \n",
      " 15  dog_stage         256 non-null    object             \n",
      " 16  favorite_count    1659 non-null   int64              \n",
      " 17  retweet_count     1659 non-null   int64              \n",
      " 18  breed             1659 non-null   object             \n",
      " 19  breed2            1659 non-null   object             \n",
      " 20  breed3            1659 non-null   object             \n",
      "dtypes: bool(3), datetime64[ns, UTC](1), float64(3), int64(4), object(10)\n",
      "memory usage: 251.1+ KB\n"
     ]
    }
   ],
   "source": [
    "master.info()    "
   ]
  },
  {
   "cell_type": "code",
   "execution_count": 563,
   "metadata": {},
   "outputs": [
    {
     "data": {
      "text/plain": [
       "Index(['tweet_id', 'p1', 'p1_conf', 'p1_dog', 'p2', 'p2_conf', 'p2_dog', 'p3',\n",
       "       'p3_conf', 'p3_dog', 'timestamp', 'text', 'expanded_urls',\n",
       "       'rating_numerator', 'name', 'dog_stage', 'favorite_count',\n",
       "       'retweet_count', 'breed', 'breed2', 'breed3'],\n",
       "      dtype='object')"
      ]
     },
     "execution_count": 563,
     "metadata": {},
     "output_type": "execute_result"
    }
   ],
   "source": [
    "master.columns"
   ]
  },
  {
   "cell_type": "markdown",
   "metadata": {},
   "source": [
    "### Define"
   ]
  },
  {
   "cell_type": "markdown",
   "metadata": {},
   "source": [
    "Drop the rest of the irrelevant columns"
   ]
  },
  {
   "cell_type": "markdown",
   "metadata": {},
   "source": [
    "### Code"
   ]
  },
  {
   "cell_type": "code",
   "execution_count": 564,
   "metadata": {},
   "outputs": [],
   "source": [
    "master.drop(['p1', 'p1_conf', 'p1_dog', 'p2', 'p2_conf', 'p2_dog', 'p3',\n",
    "       'p3_conf', 'p3_dog', 'breed2', 'breed3'], axis=1, inplace=True)"
   ]
  },
  {
   "cell_type": "markdown",
   "metadata": {},
   "source": [
    "### Test"
   ]
  },
  {
   "cell_type": "code",
   "execution_count": 565,
   "metadata": {},
   "outputs": [
    {
     "data": {
      "text/html": [
       "<div>\n",
       "<style scoped>\n",
       "    .dataframe tbody tr th:only-of-type {\n",
       "        vertical-align: middle;\n",
       "    }\n",
       "\n",
       "    .dataframe tbody tr th {\n",
       "        vertical-align: top;\n",
       "    }\n",
       "\n",
       "    .dataframe thead th {\n",
       "        text-align: right;\n",
       "    }\n",
       "</style>\n",
       "<table border=\"1\" class=\"dataframe\">\n",
       "  <thead>\n",
       "    <tr style=\"text-align: right;\">\n",
       "      <th></th>\n",
       "      <th>tweet_id</th>\n",
       "      <th>timestamp</th>\n",
       "      <th>text</th>\n",
       "      <th>expanded_urls</th>\n",
       "      <th>rating_numerator</th>\n",
       "      <th>name</th>\n",
       "      <th>dog_stage</th>\n",
       "      <th>favorite_count</th>\n",
       "      <th>retweet_count</th>\n",
       "      <th>breed</th>\n",
       "    </tr>\n",
       "  </thead>\n",
       "  <tbody>\n",
       "    <tr>\n",
       "      <th>1306</th>\n",
       "      <td>808501579447930884</td>\n",
       "      <td>2016-12-13 02:39:32+00:00</td>\n",
       "      <td>This is Koda. He dug a hole and then sat in it...</td>\n",
       "      <td>https://twitter.com/dog_rates/status/808501579...</td>\n",
       "      <td>12</td>\n",
       "      <td>Koda</td>\n",
       "      <td>NaN</td>\n",
       "      <td>11187</td>\n",
       "      <td>2575</td>\n",
       "      <td>Airedale</td>\n",
       "    </tr>\n",
       "    <tr>\n",
       "      <th>398</th>\n",
       "      <td>676617503762681856</td>\n",
       "      <td>2015-12-15 04:19:18+00:00</td>\n",
       "      <td>I promise this wasn't meant to be a cuteness o...</td>\n",
       "      <td>https://twitter.com/dog_rates/status/676617503...</td>\n",
       "      <td>13</td>\n",
       "      <td>NaN</td>\n",
       "      <td>pupper</td>\n",
       "      <td>2734</td>\n",
       "      <td>902</td>\n",
       "      <td>Chihuahua</td>\n",
       "    </tr>\n",
       "    <tr>\n",
       "      <th>477</th>\n",
       "      <td>680801747103793152</td>\n",
       "      <td>2015-12-26 17:25:59+00:00</td>\n",
       "      <td>Great picture here. Dog on the right panicked ...</td>\n",
       "      <td>https://twitter.com/dog_rates/status/680801747...</td>\n",
       "      <td>10</td>\n",
       "      <td>NaN</td>\n",
       "      <td>NaN</td>\n",
       "      <td>2294</td>\n",
       "      <td>784</td>\n",
       "      <td>Pug</td>\n",
       "    </tr>\n",
       "  </tbody>\n",
       "</table>\n",
       "</div>"
      ],
      "text/plain": [
       "                tweet_id                 timestamp  \\\n",
       "1306  808501579447930884 2016-12-13 02:39:32+00:00   \n",
       "398   676617503762681856 2015-12-15 04:19:18+00:00   \n",
       "477   680801747103793152 2015-12-26 17:25:59+00:00   \n",
       "\n",
       "                                                   text  \\\n",
       "1306  This is Koda. He dug a hole and then sat in it...   \n",
       "398   I promise this wasn't meant to be a cuteness o...   \n",
       "477   Great picture here. Dog on the right panicked ...   \n",
       "\n",
       "                                          expanded_urls  rating_numerator  \\\n",
       "1306  https://twitter.com/dog_rates/status/808501579...                12   \n",
       "398   https://twitter.com/dog_rates/status/676617503...                13   \n",
       "477   https://twitter.com/dog_rates/status/680801747...                10   \n",
       "\n",
       "      name dog_stage  favorite_count  retweet_count      breed  \n",
       "1306  Koda       NaN           11187           2575   Airedale  \n",
       "398    NaN    pupper            2734            902  Chihuahua  \n",
       "477    NaN       NaN            2294            784        Pug  "
      ]
     },
     "execution_count": 565,
     "metadata": {},
     "output_type": "execute_result"
    }
   ],
   "source": [
    "master.sample(3)"
   ]
  },
  {
   "cell_type": "markdown",
   "metadata": {},
   "source": [
    "# This is the end of the cleaning process!"
   ]
  },
  {
   "cell_type": "markdown",
   "metadata": {},
   "source": [
    "# Insights & Visualizations"
   ]
  },
  {
   "cell_type": "code",
   "execution_count": 566,
   "metadata": {},
   "outputs": [],
   "source": [
    "# save master dataframe without index column\n",
    "master.to_csv(\"twitter_archive_master.csv\", index=False)"
   ]
  },
  {
   "cell_type": "code",
   "execution_count": 567,
   "metadata": {},
   "outputs": [],
   "source": [
    "df_test = pd.read_csv(\"twitter_archive_master.csv\", )"
   ]
  },
  {
   "cell_type": "code",
   "execution_count": 568,
   "metadata": {
    "scrolled": true
   },
   "outputs": [
    {
     "data": {
      "text/html": [
       "<div>\n",
       "<style scoped>\n",
       "    .dataframe tbody tr th:only-of-type {\n",
       "        vertical-align: middle;\n",
       "    }\n",
       "\n",
       "    .dataframe tbody tr th {\n",
       "        vertical-align: top;\n",
       "    }\n",
       "\n",
       "    .dataframe thead th {\n",
       "        text-align: right;\n",
       "    }\n",
       "</style>\n",
       "<table border=\"1\" class=\"dataframe\">\n",
       "  <thead>\n",
       "    <tr style=\"text-align: right;\">\n",
       "      <th></th>\n",
       "      <th>tweet_id</th>\n",
       "      <th>timestamp</th>\n",
       "      <th>text</th>\n",
       "      <th>expanded_urls</th>\n",
       "      <th>rating_numerator</th>\n",
       "      <th>name</th>\n",
       "      <th>dog_stage</th>\n",
       "      <th>favorite_count</th>\n",
       "      <th>retweet_count</th>\n",
       "      <th>breed</th>\n",
       "    </tr>\n",
       "  </thead>\n",
       "  <tbody>\n",
       "    <tr>\n",
       "      <th>0</th>\n",
       "      <td>666020888022790149</td>\n",
       "      <td>2015-11-15 22:32:08+00:00</td>\n",
       "      <td>Here we have a Japanese Irish Setter. Lost eye...</td>\n",
       "      <td>https://twitter.com/dog_rates/status/666020888...</td>\n",
       "      <td>8</td>\n",
       "      <td>NaN</td>\n",
       "      <td>NaN</td>\n",
       "      <td>2338</td>\n",
       "      <td>445</td>\n",
       "      <td>Welsh Springer Spaniel</td>\n",
       "    </tr>\n",
       "    <tr>\n",
       "      <th>1</th>\n",
       "      <td>666029285002620928</td>\n",
       "      <td>2015-11-15 23:05:30+00:00</td>\n",
       "      <td>This is a western brown Mitsubishi terrier. Up...</td>\n",
       "      <td>https://twitter.com/dog_rates/status/666029285...</td>\n",
       "      <td>7</td>\n",
       "      <td>NaN</td>\n",
       "      <td>NaN</td>\n",
       "      <td>118</td>\n",
       "      <td>41</td>\n",
       "      <td>Redbone</td>\n",
       "    </tr>\n",
       "    <tr>\n",
       "      <th>2</th>\n",
       "      <td>666033412701032449</td>\n",
       "      <td>2015-11-15 23:21:54+00:00</td>\n",
       "      <td>Here is a very happy pup. Big fan of well-main...</td>\n",
       "      <td>https://twitter.com/dog_rates/status/666033412...</td>\n",
       "      <td>9</td>\n",
       "      <td>NaN</td>\n",
       "      <td>NaN</td>\n",
       "      <td>107</td>\n",
       "      <td>39</td>\n",
       "      <td>German Shepherd</td>\n",
       "    </tr>\n",
       "    <tr>\n",
       "      <th>3</th>\n",
       "      <td>666044226329800704</td>\n",
       "      <td>2015-11-16 00:04:52+00:00</td>\n",
       "      <td>This is a purebred Piers Morgan. Loves to Netf...</td>\n",
       "      <td>https://twitter.com/dog_rates/status/666044226...</td>\n",
       "      <td>6</td>\n",
       "      <td>NaN</td>\n",
       "      <td>NaN</td>\n",
       "      <td>261</td>\n",
       "      <td>122</td>\n",
       "      <td>Rhodesian Ridgeback</td>\n",
       "    </tr>\n",
       "    <tr>\n",
       "      <th>4</th>\n",
       "      <td>666049248165822465</td>\n",
       "      <td>2015-11-16 00:24:50+00:00</td>\n",
       "      <td>Here we have a 1949 1st generation vulpix. Enj...</td>\n",
       "      <td>https://twitter.com/dog_rates/status/666049248...</td>\n",
       "      <td>5</td>\n",
       "      <td>NaN</td>\n",
       "      <td>NaN</td>\n",
       "      <td>94</td>\n",
       "      <td>38</td>\n",
       "      <td>Miniature Pinscher</td>\n",
       "    </tr>\n",
       "  </tbody>\n",
       "</table>\n",
       "</div>"
      ],
      "text/plain": [
       "             tweet_id                  timestamp  \\\n",
       "0  666020888022790149  2015-11-15 22:32:08+00:00   \n",
       "1  666029285002620928  2015-11-15 23:05:30+00:00   \n",
       "2  666033412701032449  2015-11-15 23:21:54+00:00   \n",
       "3  666044226329800704  2015-11-16 00:04:52+00:00   \n",
       "4  666049248165822465  2015-11-16 00:24:50+00:00   \n",
       "\n",
       "                                                text  \\\n",
       "0  Here we have a Japanese Irish Setter. Lost eye...   \n",
       "1  This is a western brown Mitsubishi terrier. Up...   \n",
       "2  Here is a very happy pup. Big fan of well-main...   \n",
       "3  This is a purebred Piers Morgan. Loves to Netf...   \n",
       "4  Here we have a 1949 1st generation vulpix. Enj...   \n",
       "\n",
       "                                       expanded_urls  rating_numerator name  \\\n",
       "0  https://twitter.com/dog_rates/status/666020888...                 8  NaN   \n",
       "1  https://twitter.com/dog_rates/status/666029285...                 7  NaN   \n",
       "2  https://twitter.com/dog_rates/status/666033412...                 9  NaN   \n",
       "3  https://twitter.com/dog_rates/status/666044226...                 6  NaN   \n",
       "4  https://twitter.com/dog_rates/status/666049248...                 5  NaN   \n",
       "\n",
       "  dog_stage  favorite_count  retweet_count                   breed  \n",
       "0       NaN            2338            445  Welsh Springer Spaniel  \n",
       "1       NaN             118             41                 Redbone  \n",
       "2       NaN             107             39         German Shepherd  \n",
       "3       NaN             261            122     Rhodesian Ridgeback  \n",
       "4       NaN              94             38      Miniature Pinscher  "
      ]
     },
     "execution_count": 568,
     "metadata": {},
     "output_type": "execute_result"
    }
   ],
   "source": [
    "df_test.head()"
   ]
  },
  {
   "cell_type": "code",
   "execution_count": 569,
   "metadata": {},
   "outputs": [
    {
     "data": {
      "text/plain": [
       "<AxesSubplot:>"
      ]
     },
     "execution_count": 569,
     "metadata": {},
     "output_type": "execute_result"
    },
    {
     "data": {
      "image/png": "[encoded data removed]",
      "text/plain": [
       "<Figure size 576x396 with 1 Axes>"
      ]
     },
     "metadata": {},
     "output_type": "display_data"
    }
   ],
   "source": [
    "# 10 most tweeted abt dog breeds\n",
    "master['breed'].value_counts()[:10].plot(kind='barh')\n"
   ]
  },
  {
   "cell_type": "code",
   "execution_count": 570,
   "metadata": {},
   "outputs": [
    {
     "data": {
      "text/plain": [
       "<AxesSubplot:>"
      ]
     },
     "execution_count": 570,
     "metadata": {},
     "output_type": "execute_result"
    },
    {
     "data": {
      "image/png": "[encoded data removed]",
      "text/plain": [
       "<Figure size 576x396 with 1 Axes>"
      ]
     },
     "metadata": {},
     "output_type": "display_data"
    }
   ],
   "source": [
    "# 10 least tweeted abt dog breeds\n",
    "master['breed'].value_counts()[-10:].plot(kind='barh')\n",
    "\n"
   ]
  },
  {
   "cell_type": "code",
   "execution_count": 571,
   "metadata": {},
   "outputs": [
    {
     "data": {
      "text/plain": [
       "0    Golden Retriever\n",
       "dtype: object"
      ]
     },
     "execution_count": 571,
     "metadata": {},
     "output_type": "execute_result"
    }
   ],
   "source": [
    "master.breed.mode()"
   ]
  },
  {
   "cell_type": "code",
   "execution_count": 572,
   "metadata": {},
   "outputs": [
    {
     "data": {
      "text/plain": [
       "Golden Retriever      156\n",
       "Labrador Retriever    104\n",
       "Pembroke               94\n",
       "Chihuahua              90\n",
       "Pug                    62\n",
       "                     ... \n",
       "Scotch Terrier          1\n",
       "Entlebucher             1\n",
       "Silky Terrier           1\n",
       "Clumber                 1\n",
       "Standard Schnauzer      1\n",
       "Name: breed, Length: 113, dtype: int64"
      ]
     },
     "execution_count": 572,
     "metadata": {},
     "output_type": "execute_result"
    }
   ],
   "source": [
    "master.breed.value_counts()"
   ]
  },
  {
   "cell_type": "markdown",
   "metadata": {},
   "source": [
    "Golden Retriever is the most rated/popular dog breed"
   ]
  },
  {
   "cell_type": "markdown",
   "metadata": {},
   "source": [
    "113 unique dog breeds in this data set"
   ]
  },
  {
   "cell_type": "code",
   "execution_count": 573,
   "metadata": {},
   "outputs": [
    {
     "data": {
      "text/plain": [
       "113"
      ]
     },
     "execution_count": 573,
     "metadata": {},
     "output_type": "execute_result"
    }
   ],
   "source": [
    "master.breed.nunique()"
   ]
  },
  {
   "cell_type": "code",
   "execution_count": 574,
   "metadata": {},
   "outputs": [
    {
     "data": {
      "text/plain": [
       "12     419\n",
       "10     357\n",
       "11     352\n",
       "13     217\n",
       "9      132\n",
       "8       68\n",
       "7       32\n",
       "14      21\n",
       "6       16\n",
       "5       14\n",
       "4        7\n",
       "3        5\n",
       "2        2\n",
       "144      1\n",
       "1        1\n",
       "165      1\n",
       "24       1\n",
       "26       1\n",
       "27       1\n",
       "44       1\n",
       "45       1\n",
       "50       1\n",
       "60       1\n",
       "75       1\n",
       "80       1\n",
       "84       1\n",
       "88       1\n",
       "99       1\n",
       "121      1\n",
       "0        1\n",
       "Name: rating_numerator, dtype: int64"
      ]
     },
     "execution_count": 574,
     "metadata": {},
     "output_type": "execute_result"
    }
   ],
   "source": [
    "master.rating_numerator.value_counts()"
   ]
  },
  {
   "cell_type": "code",
   "execution_count": 575,
   "metadata": {},
   "outputs": [],
   "source": [
    "x = master.groupby(by='breed').mean().copy()"
   ]
  },
  {
   "cell_type": "code",
   "execution_count": 576,
   "metadata": {},
   "outputs": [
    {
     "data": {
      "text/html": [
       "<div>\n",
       "<style scoped>\n",
       "    .dataframe tbody tr th:only-of-type {\n",
       "        vertical-align: middle;\n",
       "    }\n",
       "\n",
       "    .dataframe tbody tr th {\n",
       "        vertical-align: top;\n",
       "    }\n",
       "\n",
       "    .dataframe thead th {\n",
       "        text-align: right;\n",
       "    }\n",
       "</style>\n",
       "<table border=\"1\" class=\"dataframe\">\n",
       "  <thead>\n",
       "    <tr style=\"text-align: right;\">\n",
       "      <th></th>\n",
       "      <th>tweet_id</th>\n",
       "      <th>rating_numerator</th>\n",
       "      <th>favorite_count</th>\n",
       "      <th>retweet_count</th>\n",
       "    </tr>\n",
       "    <tr>\n",
       "      <th>breed</th>\n",
       "      <th></th>\n",
       "      <th></th>\n",
       "      <th></th>\n",
       "      <th></th>\n",
       "    </tr>\n",
       "  </thead>\n",
       "  <tbody>\n",
       "    <tr>\n",
       "      <th>Bedlington Terrier</th>\n",
       "      <td>7.843395e+17</td>\n",
       "      <td>10.333333</td>\n",
       "      <td>22468.833333</td>\n",
       "      <td>7063.166667</td>\n",
       "    </tr>\n",
       "    <tr>\n",
       "      <th>Saluki</th>\n",
       "      <td>8.315403e+17</td>\n",
       "      <td>12.500000</td>\n",
       "      <td>21633.500000</td>\n",
       "      <td>4354.250000</td>\n",
       "    </tr>\n",
       "    <tr>\n",
       "      <th>French Bulldog</th>\n",
       "      <td>7.851394e+17</td>\n",
       "      <td>11.166667</td>\n",
       "      <td>18243.766667</td>\n",
       "      <td>4643.000000</td>\n",
       "    </tr>\n",
       "    <tr>\n",
       "      <th>Bouvier Des Flandres</th>\n",
       "      <td>8.612885e+17</td>\n",
       "      <td>13.000000</td>\n",
       "      <td>16010.000000</td>\n",
       "      <td>3776.000000</td>\n",
       "    </tr>\n",
       "    <tr>\n",
       "      <th>Afghan Hound</th>\n",
       "      <td>8.041621e+17</td>\n",
       "      <td>9.666667</td>\n",
       "      <td>15317.666667</td>\n",
       "      <td>5034.333333</td>\n",
       "    </tr>\n",
       "    <tr>\n",
       "      <th>...</th>\n",
       "      <td>...</td>\n",
       "      <td>...</td>\n",
       "      <td>...</td>\n",
       "      <td>...</td>\n",
       "    </tr>\n",
       "    <tr>\n",
       "      <th>Tibetan Terrier</th>\n",
       "      <td>6.973258e+17</td>\n",
       "      <td>9.250000</td>\n",
       "      <td>1631.000000</td>\n",
       "      <td>470.500000</td>\n",
       "    </tr>\n",
       "    <tr>\n",
       "      <th>Irish Wolfhound</th>\n",
       "      <td>6.717356e+17</td>\n",
       "      <td>11.000000</td>\n",
       "      <td>1348.000000</td>\n",
       "      <td>697.000000</td>\n",
       "    </tr>\n",
       "    <tr>\n",
       "      <th>Japanese Spaniel</th>\n",
       "      <td>6.773010e+17</td>\n",
       "      <td>5.000000</td>\n",
       "      <td>1174.000000</td>\n",
       "      <td>382.000000</td>\n",
       "    </tr>\n",
       "    <tr>\n",
       "      <th>Groenendael</th>\n",
       "      <td>6.812840e+17</td>\n",
       "      <td>10.000000</td>\n",
       "      <td>1020.000000</td>\n",
       "      <td>235.500000</td>\n",
       "    </tr>\n",
       "    <tr>\n",
       "      <th>Brabancon Griffon</th>\n",
       "      <td>6.725689e+17</td>\n",
       "      <td>10.000000</td>\n",
       "      <td>781.000000</td>\n",
       "      <td>245.666667</td>\n",
       "    </tr>\n",
       "  </tbody>\n",
       "</table>\n",
       "<p>113 rows × 4 columns</p>\n",
       "</div>"
      ],
      "text/plain": [
       "                          tweet_id  rating_numerator  favorite_count  \\\n",
       "breed                                                                  \n",
       "Bedlington Terrier    7.843395e+17         10.333333    22468.833333   \n",
       "Saluki                8.315403e+17         12.500000    21633.500000   \n",
       "French Bulldog        7.851394e+17         11.166667    18243.766667   \n",
       "Bouvier Des Flandres  8.612885e+17         13.000000    16010.000000   \n",
       "Afghan Hound          8.041621e+17          9.666667    15317.666667   \n",
       "...                            ...               ...             ...   \n",
       "Tibetan Terrier       6.973258e+17          9.250000     1631.000000   \n",
       "Irish Wolfhound       6.717356e+17         11.000000     1348.000000   \n",
       "Japanese Spaniel      6.773010e+17          5.000000     1174.000000   \n",
       "Groenendael           6.812840e+17         10.000000     1020.000000   \n",
       "Brabancon Griffon     6.725689e+17         10.000000      781.000000   \n",
       "\n",
       "                      retweet_count  \n",
       "breed                                \n",
       "Bedlington Terrier      7063.166667  \n",
       "Saluki                  4354.250000  \n",
       "French Bulldog          4643.000000  \n",
       "Bouvier Des Flandres    3776.000000  \n",
       "Afghan Hound            5034.333333  \n",
       "...                             ...  \n",
       "Tibetan Terrier          470.500000  \n",
       "Irish Wolfhound          697.000000  \n",
       "Japanese Spaniel         382.000000  \n",
       "Groenendael              235.500000  \n",
       "Brabancon Griffon        245.666667  \n",
       "\n",
       "[113 rows x 4 columns]"
      ]
     },
     "execution_count": 576,
     "metadata": {},
     "output_type": "execute_result"
    }
   ],
   "source": [
    "x.sort_values(by='favorite_count', ascending=False)"
   ]
  },
  {
   "cell_type": "markdown",
   "metadata": {},
   "source": [
    "on average, Bedlington Terrier has highest favorites count while Brabancon Griffon has lowest favorite count"
   ]
  },
  {
   "cell_type": "code",
   "execution_count": 577,
   "metadata": {},
   "outputs": [
    {
     "data": {
      "text/html": [
       "<div>\n",
       "<style scoped>\n",
       "    .dataframe tbody tr th:only-of-type {\n",
       "        vertical-align: middle;\n",
       "    }\n",
       "\n",
       "    .dataframe tbody tr th {\n",
       "        vertical-align: top;\n",
       "    }\n",
       "\n",
       "    .dataframe thead th {\n",
       "        text-align: right;\n",
       "    }\n",
       "</style>\n",
       "<table border=\"1\" class=\"dataframe\">\n",
       "  <thead>\n",
       "    <tr style=\"text-align: right;\">\n",
       "      <th></th>\n",
       "      <th>tweet_id</th>\n",
       "      <th>rating_numerator</th>\n",
       "      <th>favorite_count</th>\n",
       "      <th>retweet_count</th>\n",
       "    </tr>\n",
       "    <tr>\n",
       "      <th>breed</th>\n",
       "      <th></th>\n",
       "      <th></th>\n",
       "      <th></th>\n",
       "      <th></th>\n",
       "    </tr>\n",
       "  </thead>\n",
       "  <tbody>\n",
       "    <tr>\n",
       "      <th>Bedlington Terrier</th>\n",
       "      <td>7.843395e+17</td>\n",
       "      <td>10.333333</td>\n",
       "      <td>22468.833333</td>\n",
       "      <td>7063.166667</td>\n",
       "    </tr>\n",
       "    <tr>\n",
       "      <th>Afghan Hound</th>\n",
       "      <td>8.041621e+17</td>\n",
       "      <td>9.666667</td>\n",
       "      <td>15317.666667</td>\n",
       "      <td>5034.333333</td>\n",
       "    </tr>\n",
       "    <tr>\n",
       "      <th>Standard Poodle</th>\n",
       "      <td>7.406170e+17</td>\n",
       "      <td>10.727273</td>\n",
       "      <td>12449.181818</td>\n",
       "      <td>4714.909091</td>\n",
       "    </tr>\n",
       "    <tr>\n",
       "      <th>French Bulldog</th>\n",
       "      <td>7.851394e+17</td>\n",
       "      <td>11.166667</td>\n",
       "      <td>18243.766667</td>\n",
       "      <td>4643.000000</td>\n",
       "    </tr>\n",
       "    <tr>\n",
       "      <th>English Springer</th>\n",
       "      <td>7.153015e+17</td>\n",
       "      <td>10.500000</td>\n",
       "      <td>12634.300000</td>\n",
       "      <td>4628.700000</td>\n",
       "    </tr>\n",
       "    <tr>\n",
       "      <th>...</th>\n",
       "      <td>...</td>\n",
       "      <td>...</td>\n",
       "      <td>...</td>\n",
       "      <td>...</td>\n",
       "    </tr>\n",
       "    <tr>\n",
       "      <th>Entlebucher</th>\n",
       "      <td>6.798621e+17</td>\n",
       "      <td>11.000000</td>\n",
       "      <td>2374.000000</td>\n",
       "      <td>591.000000</td>\n",
       "    </tr>\n",
       "    <tr>\n",
       "      <th>Tibetan Terrier</th>\n",
       "      <td>6.973258e+17</td>\n",
       "      <td>9.250000</td>\n",
       "      <td>1631.000000</td>\n",
       "      <td>470.500000</td>\n",
       "    </tr>\n",
       "    <tr>\n",
       "      <th>Japanese Spaniel</th>\n",
       "      <td>6.773010e+17</td>\n",
       "      <td>5.000000</td>\n",
       "      <td>1174.000000</td>\n",
       "      <td>382.000000</td>\n",
       "    </tr>\n",
       "    <tr>\n",
       "      <th>Brabancon Griffon</th>\n",
       "      <td>6.725689e+17</td>\n",
       "      <td>10.000000</td>\n",
       "      <td>781.000000</td>\n",
       "      <td>245.666667</td>\n",
       "    </tr>\n",
       "    <tr>\n",
       "      <th>Groenendael</th>\n",
       "      <td>6.812840e+17</td>\n",
       "      <td>10.000000</td>\n",
       "      <td>1020.000000</td>\n",
       "      <td>235.500000</td>\n",
       "    </tr>\n",
       "  </tbody>\n",
       "</table>\n",
       "<p>113 rows × 4 columns</p>\n",
       "</div>"
      ],
      "text/plain": [
       "                        tweet_id  rating_numerator  favorite_count  \\\n",
       "breed                                                                \n",
       "Bedlington Terrier  7.843395e+17         10.333333    22468.833333   \n",
       "Afghan Hound        8.041621e+17          9.666667    15317.666667   \n",
       "Standard Poodle     7.406170e+17         10.727273    12449.181818   \n",
       "French Bulldog      7.851394e+17         11.166667    18243.766667   \n",
       "English Springer    7.153015e+17         10.500000    12634.300000   \n",
       "...                          ...               ...             ...   \n",
       "Entlebucher         6.798621e+17         11.000000     2374.000000   \n",
       "Tibetan Terrier     6.973258e+17          9.250000     1631.000000   \n",
       "Japanese Spaniel    6.773010e+17          5.000000     1174.000000   \n",
       "Brabancon Griffon   6.725689e+17         10.000000      781.000000   \n",
       "Groenendael         6.812840e+17         10.000000     1020.000000   \n",
       "\n",
       "                    retweet_count  \n",
       "breed                              \n",
       "Bedlington Terrier    7063.166667  \n",
       "Afghan Hound          5034.333333  \n",
       "Standard Poodle       4714.909091  \n",
       "French Bulldog        4643.000000  \n",
       "English Springer      4628.700000  \n",
       "...                           ...  \n",
       "Entlebucher            591.000000  \n",
       "Tibetan Terrier        470.500000  \n",
       "Japanese Spaniel       382.000000  \n",
       "Brabancon Griffon      245.666667  \n",
       "Groenendael            235.500000  \n",
       "\n",
       "[113 rows x 4 columns]"
      ]
     },
     "execution_count": 577,
     "metadata": {},
     "output_type": "execute_result"
    }
   ],
   "source": [
    "x.sort_values(by='retweet_count', ascending=False)"
   ]
  },
  {
   "cell_type": "markdown",
   "metadata": {},
   "source": [
    "on average, Bedlington Terrier has highest retweet count while Brabancon Griffon has retweet count"
   ]
  },
  {
   "cell_type": "code",
   "execution_count": 578,
   "metadata": {},
   "outputs": [
    {
     "data": {
      "text/html": [
       "<div>\n",
       "<style scoped>\n",
       "    .dataframe tbody tr th:only-of-type {\n",
       "        vertical-align: middle;\n",
       "    }\n",
       "\n",
       "    .dataframe tbody tr th {\n",
       "        vertical-align: top;\n",
       "    }\n",
       "\n",
       "    .dataframe thead th {\n",
       "        text-align: right;\n",
       "    }\n",
       "</style>\n",
       "<table border=\"1\" class=\"dataframe\">\n",
       "  <thead>\n",
       "    <tr style=\"text-align: right;\">\n",
       "      <th></th>\n",
       "      <th>tweet_id</th>\n",
       "      <th>rating_numerator</th>\n",
       "      <th>favorite_count</th>\n",
       "      <th>retweet_count</th>\n",
       "    </tr>\n",
       "    <tr>\n",
       "      <th>breed</th>\n",
       "      <th></th>\n",
       "      <th></th>\n",
       "      <th></th>\n",
       "      <th></th>\n",
       "    </tr>\n",
       "  </thead>\n",
       "  <tbody>\n",
       "    <tr>\n",
       "      <th>Clumber</th>\n",
       "      <td>7.780270e+17</td>\n",
       "      <td>27.000000</td>\n",
       "      <td>6456.000000</td>\n",
       "      <td>1570.000000</td>\n",
       "    </tr>\n",
       "    <tr>\n",
       "      <th>Soft-Coated Wheaten Terrier</th>\n",
       "      <td>7.044397e+17</td>\n",
       "      <td>21.357143</td>\n",
       "      <td>3026.214286</td>\n",
       "      <td>898.000000</td>\n",
       "    </tr>\n",
       "    <tr>\n",
       "      <th>West Highland White Terrier</th>\n",
       "      <td>7.235322e+17</td>\n",
       "      <td>14.687500</td>\n",
       "      <td>5413.562500</td>\n",
       "      <td>1254.000000</td>\n",
       "    </tr>\n",
       "    <tr>\n",
       "      <th>Great Pyrenees</th>\n",
       "      <td>7.390970e+17</td>\n",
       "      <td>14.666667</td>\n",
       "      <td>10967.133333</td>\n",
       "      <td>3804.666667</td>\n",
       "    </tr>\n",
       "    <tr>\n",
       "      <th>Chow</th>\n",
       "      <td>7.473842e+17</td>\n",
       "      <td>14.166667</td>\n",
       "      <td>8460.770833</td>\n",
       "      <td>2356.770833</td>\n",
       "    </tr>\n",
       "    <tr>\n",
       "      <th>...</th>\n",
       "      <td>...</td>\n",
       "      <td>...</td>\n",
       "      <td>...</td>\n",
       "      <td>...</td>\n",
       "    </tr>\n",
       "    <tr>\n",
       "      <th>Ibizan Hound</th>\n",
       "      <td>6.844888e+17</td>\n",
       "      <td>9.250000</td>\n",
       "      <td>2858.750000</td>\n",
       "      <td>1250.250000</td>\n",
       "    </tr>\n",
       "    <tr>\n",
       "      <th>Tibetan Terrier</th>\n",
       "      <td>6.973258e+17</td>\n",
       "      <td>9.250000</td>\n",
       "      <td>1631.000000</td>\n",
       "      <td>470.500000</td>\n",
       "    </tr>\n",
       "    <tr>\n",
       "      <th>Scotch Terrier</th>\n",
       "      <td>6.892838e+17</td>\n",
       "      <td>9.000000</td>\n",
       "      <td>3154.000000</td>\n",
       "      <td>1060.000000</td>\n",
       "    </tr>\n",
       "    <tr>\n",
       "      <th>Walker Hound</th>\n",
       "      <td>7.333173e+17</td>\n",
       "      <td>9.000000</td>\n",
       "      <td>5803.600000</td>\n",
       "      <td>2256.800000</td>\n",
       "    </tr>\n",
       "    <tr>\n",
       "      <th>Japanese Spaniel</th>\n",
       "      <td>6.773010e+17</td>\n",
       "      <td>5.000000</td>\n",
       "      <td>1174.000000</td>\n",
       "      <td>382.000000</td>\n",
       "    </tr>\n",
       "  </tbody>\n",
       "</table>\n",
       "<p>113 rows × 4 columns</p>\n",
       "</div>"
      ],
      "text/plain": [
       "                                 tweet_id  rating_numerator  favorite_count  \\\n",
       "breed                                                                         \n",
       "Clumber                      7.780270e+17         27.000000     6456.000000   \n",
       "Soft-Coated Wheaten Terrier  7.044397e+17         21.357143     3026.214286   \n",
       "West Highland White Terrier  7.235322e+17         14.687500     5413.562500   \n",
       "Great Pyrenees               7.390970e+17         14.666667    10967.133333   \n",
       "Chow                         7.473842e+17         14.166667     8460.770833   \n",
       "...                                   ...               ...             ...   \n",
       "Ibizan Hound                 6.844888e+17          9.250000     2858.750000   \n",
       "Tibetan Terrier              6.973258e+17          9.250000     1631.000000   \n",
       "Scotch Terrier               6.892838e+17          9.000000     3154.000000   \n",
       "Walker Hound                 7.333173e+17          9.000000     5803.600000   \n",
       "Japanese Spaniel             6.773010e+17          5.000000     1174.000000   \n",
       "\n",
       "                             retweet_count  \n",
       "breed                                       \n",
       "Clumber                        1570.000000  \n",
       "Soft-Coated Wheaten Terrier     898.000000  \n",
       "West Highland White Terrier    1254.000000  \n",
       "Great Pyrenees                 3804.666667  \n",
       "Chow                           2356.770833  \n",
       "...                                    ...  \n",
       "Ibizan Hound                   1250.250000  \n",
       "Tibetan Terrier                 470.500000  \n",
       "Scotch Terrier                 1060.000000  \n",
       "Walker Hound                   2256.800000  \n",
       "Japanese Spaniel                382.000000  \n",
       "\n",
       "[113 rows x 4 columns]"
      ]
     },
     "execution_count": 578,
     "metadata": {},
     "output_type": "execute_result"
    }
   ],
   "source": [
    "x.sort_values(by='rating_numerator', ascending=False)"
   ]
  },
  {
   "cell_type": "markdown",
   "metadata": {},
   "source": [
    "on average, Clumber is highest rated (27/10) while Japanese Spaniel is lowest rated (5/10)"
   ]
  },
  {
   "cell_type": "code",
   "execution_count": 579,
   "metadata": {},
   "outputs": [
    {
     "name": "stderr",
     "output_type": "stream",
     "text": [
      "/Applications/anaconda3/lib/python3.8/site-packages/seaborn/distributions.py:2551: FutureWarning: `distplot` is a deprecated function and will be removed in a future version. Please adapt your code to use either `displot` (a figure-level function with similar flexibility) or `histplot` (an axes-level function for histograms).\n",
      "  warnings.warn(msg, FutureWarning)\n"
     ]
    },
    {
     "data": {
      "image/png": "[encoded data removed]",
      "text/plain": [
       "<Figure size 1800x720 with 1 Axes>"
      ]
     },
     "metadata": {},
     "output_type": "display_data"
    }
   ],
   "source": [
    "plt.figure(figsize = (25,10))\n",
    "sns.distplot(master.favorite_count)\n",
    "plt.show()"
   ]
  },
  {
   "cell_type": "code",
   "execution_count": 580,
   "metadata": {},
   "outputs": [
    {
     "data": {
      "text/plain": [
       "8390.63471971067"
      ]
     },
     "execution_count": 580,
     "metadata": {},
     "output_type": "execute_result"
    }
   ],
   "source": [
    "master.favorite_count.mean()"
   ]
  },
  {
   "cell_type": "code",
   "execution_count": 581,
   "metadata": {},
   "outputs": [
    {
     "name": "stderr",
     "output_type": "stream",
     "text": [
      "/Applications/anaconda3/lib/python3.8/site-packages/seaborn/distributions.py:2551: FutureWarning: `distplot` is a deprecated function and will be removed in a future version. Please adapt your code to use either `displot` (a figure-level function with similar flexibility) or `histplot` (an axes-level function for histograms).\n",
      "  warnings.warn(msg, FutureWarning)\n"
     ]
    },
    {
     "data": {
      "image/png": "[encoded data removed]",
      "text/plain": [
       "<Figure size 1800x720 with 1 Axes>"
      ]
     },
     "metadata": {},
     "output_type": "display_data"
    }
   ],
   "source": [
    "plt.figure(figsize = (25,10))\n",
    "sns.distplot(master.retweet_count, norm_hist=True)\n",
    "plt.show()"
   ]
  },
  {
   "cell_type": "code",
   "execution_count": 582,
   "metadata": {},
   "outputs": [
    {
     "data": {
      "text/plain": [
       "2425.4653405666063"
      ]
     },
     "execution_count": 582,
     "metadata": {},
     "output_type": "execute_result"
    }
   ],
   "source": [
    "master.retweet_count.mean()"
   ]
  },
  {
   "cell_type": "code",
   "execution_count": null,
   "metadata": {},
   "outputs": [],
   "source": []
  },
  {
   "cell_type": "code",
   "execution_count": 583,
   "metadata": {},
   "outputs": [
    {
     "name": "stderr",
     "output_type": "stream",
     "text": [
      "/Applications/anaconda3/lib/python3.8/site-packages/seaborn/distributions.py:2551: FutureWarning: `distplot` is a deprecated function and will be removed in a future version. Please adapt your code to use either `displot` (a figure-level function with similar flexibility) or `histplot` (an axes-level function for histograms).\n",
      "  warnings.warn(msg, FutureWarning)\n"
     ]
    },
    {
     "data": {
      "image/png": "[encoded data removed]",
      "text/plain": [
       "<Figure size 1800x720 with 1 Axes>"
      ]
     },
     "metadata": {},
     "output_type": "display_data"
    }
   ],
   "source": [
    "plt.figure(figsize = (25,10))\n",
    "sns.distplot(master.rating_numerator)\n",
    "plt.show()"
   ]
  },
  {
   "cell_type": "code",
   "execution_count": 584,
   "metadata": {},
   "outputs": [
    {
     "data": {
      "text/plain": [
       "11.384569017480409"
      ]
     },
     "execution_count": 584,
     "metadata": {},
     "output_type": "execute_result"
    }
   ],
   "source": [
    "master.rating_numerator.mean()"
   ]
  },
  {
   "cell_type": "markdown",
   "metadata": {},
   "source": [
    "average rating for any dog is 11.4 out of 10"
   ]
  },
  {
   "cell_type": "code",
   "execution_count": 585,
   "metadata": {},
   "outputs": [],
   "source": [
    "name_df = master.groupby(by='name').mean().copy()"
   ]
  },
  {
   "cell_type": "code",
   "execution_count": 586,
   "metadata": {},
   "outputs": [
    {
     "data": {
      "text/html": [
       "<div>\n",
       "<style scoped>\n",
       "    .dataframe tbody tr th:only-of-type {\n",
       "        vertical-align: middle;\n",
       "    }\n",
       "\n",
       "    .dataframe tbody tr th {\n",
       "        vertical-align: top;\n",
       "    }\n",
       "\n",
       "    .dataframe thead th {\n",
       "        text-align: right;\n",
       "    }\n",
       "</style>\n",
       "<table border=\"1\" class=\"dataframe\">\n",
       "  <thead>\n",
       "    <tr style=\"text-align: right;\">\n",
       "      <th></th>\n",
       "      <th>tweet_id</th>\n",
       "      <th>rating_numerator</th>\n",
       "      <th>favorite_count</th>\n",
       "      <th>retweet_count</th>\n",
       "    </tr>\n",
       "    <tr>\n",
       "      <th>name</th>\n",
       "      <th></th>\n",
       "      <th></th>\n",
       "      <th></th>\n",
       "      <th></th>\n",
       "    </tr>\n",
       "  </thead>\n",
       "  <tbody>\n",
       "    <tr>\n",
       "      <th>Stephan</th>\n",
       "      <td>8.071068e+17</td>\n",
       "      <td>13.0</td>\n",
       "      <td>116832.0</td>\n",
       "      <td>54622.0</td>\n",
       "    </tr>\n",
       "    <tr>\n",
       "      <th>Jamesy</th>\n",
       "      <td>8.664507e+17</td>\n",
       "      <td>13.0</td>\n",
       "      <td>113216.0</td>\n",
       "      <td>31853.0</td>\n",
       "    </tr>\n",
       "    <tr>\n",
       "      <th>Duddles</th>\n",
       "      <td>8.794158e+17</td>\n",
       "      <td>13.0</td>\n",
       "      <td>96570.0</td>\n",
       "      <td>39349.0</td>\n",
       "    </tr>\n",
       "    <tr>\n",
       "      <th>Aja</th>\n",
       "      <td>8.777365e+17</td>\n",
       "      <td>13.0</td>\n",
       "      <td>72366.0</td>\n",
       "      <td>16709.0</td>\n",
       "    </tr>\n",
       "    <tr>\n",
       "      <th>Lilly</th>\n",
       "      <td>8.305833e+17</td>\n",
       "      <td>13.0</td>\n",
       "      <td>65288.0</td>\n",
       "      <td>16270.0</td>\n",
       "    </tr>\n",
       "    <tr>\n",
       "      <th>...</th>\n",
       "      <td>...</td>\n",
       "      <td>...</td>\n",
       "      <td>...</td>\n",
       "      <td>...</td>\n",
       "    </tr>\n",
       "    <tr>\n",
       "      <th>Lugan</th>\n",
       "      <td>6.667393e+17</td>\n",
       "      <td>10.0</td>\n",
       "      <td>218.0</td>\n",
       "      <td>60.0</td>\n",
       "    </tr>\n",
       "    <tr>\n",
       "      <th>Jockson</th>\n",
       "      <td>6.668044e+17</td>\n",
       "      <td>8.0</td>\n",
       "      <td>216.0</td>\n",
       "      <td>84.0</td>\n",
       "    </tr>\n",
       "    <tr>\n",
       "      <th>Keet</th>\n",
       "      <td>6.670622e+17</td>\n",
       "      <td>10.0</td>\n",
       "      <td>203.0</td>\n",
       "      <td>47.0</td>\n",
       "    </tr>\n",
       "    <tr>\n",
       "      <th>Fwed</th>\n",
       "      <td>6.673934e+17</td>\n",
       "      <td>8.0</td>\n",
       "      <td>178.0</td>\n",
       "      <td>51.0</td>\n",
       "    </tr>\n",
       "    <tr>\n",
       "      <th>Christoper</th>\n",
       "      <td>6.666914e+17</td>\n",
       "      <td>8.0</td>\n",
       "      <td>171.0</td>\n",
       "      <td>44.0</td>\n",
       "    </tr>\n",
       "  </tbody>\n",
       "</table>\n",
       "<p>832 rows × 4 columns</p>\n",
       "</div>"
      ],
      "text/plain": [
       "                tweet_id  rating_numerator  favorite_count  retweet_count\n",
       "name                                                                     \n",
       "Stephan     8.071068e+17              13.0        116832.0        54622.0\n",
       "Jamesy      8.664507e+17              13.0        113216.0        31853.0\n",
       "Duddles     8.794158e+17              13.0         96570.0        39349.0\n",
       "Aja         8.777365e+17              13.0         72366.0        16709.0\n",
       "Lilly       8.305833e+17              13.0         65288.0        16270.0\n",
       "...                  ...               ...             ...            ...\n",
       "Lugan       6.667393e+17              10.0           218.0           60.0\n",
       "Jockson     6.668044e+17               8.0           216.0           84.0\n",
       "Keet        6.670622e+17              10.0           203.0           47.0\n",
       "Fwed        6.673934e+17               8.0           178.0           51.0\n",
       "Christoper  6.666914e+17               8.0           171.0           44.0\n",
       "\n",
       "[832 rows x 4 columns]"
      ]
     },
     "execution_count": 586,
     "metadata": {},
     "output_type": "execute_result"
    }
   ],
   "source": [
    "name_df.sort_values(by='favorite_count', ascending=False)"
   ]
  },
  {
   "cell_type": "markdown",
   "metadata": {},
   "source": [
    "Stephan is the most favorited dog name while Christoper is the least"
   ]
  },
  {
   "cell_type": "code",
   "execution_count": 588,
   "metadata": {},
   "outputs": [
    {
     "data": {
      "text/html": [
       "<div>\n",
       "<style scoped>\n",
       "    .dataframe tbody tr th:only-of-type {\n",
       "        vertical-align: middle;\n",
       "    }\n",
       "\n",
       "    .dataframe tbody tr th {\n",
       "        vertical-align: top;\n",
       "    }\n",
       "\n",
       "    .dataframe thead th {\n",
       "        text-align: right;\n",
       "    }\n",
       "</style>\n",
       "<table border=\"1\" class=\"dataframe\">\n",
       "  <thead>\n",
       "    <tr style=\"text-align: right;\">\n",
       "      <th></th>\n",
       "      <th>tweet_id</th>\n",
       "      <th>rating_numerator</th>\n",
       "      <th>favorite_count</th>\n",
       "      <th>retweet_count</th>\n",
       "    </tr>\n",
       "    <tr>\n",
       "      <th>name</th>\n",
       "      <th></th>\n",
       "      <th></th>\n",
       "      <th></th>\n",
       "      <th></th>\n",
       "    </tr>\n",
       "  </thead>\n",
       "  <tbody>\n",
       "    <tr>\n",
       "      <th>Stephan</th>\n",
       "      <td>8.071068e+17</td>\n",
       "      <td>13.0</td>\n",
       "      <td>116832.0</td>\n",
       "      <td>54622.0</td>\n",
       "    </tr>\n",
       "    <tr>\n",
       "      <th>Duddles</th>\n",
       "      <td>8.794158e+17</td>\n",
       "      <td>13.0</td>\n",
       "      <td>96570.0</td>\n",
       "      <td>39349.0</td>\n",
       "    </tr>\n",
       "    <tr>\n",
       "      <th>Jamesy</th>\n",
       "      <td>8.664507e+17</td>\n",
       "      <td>13.0</td>\n",
       "      <td>113216.0</td>\n",
       "      <td>31853.0</td>\n",
       "    </tr>\n",
       "    <tr>\n",
       "      <th>Hurley</th>\n",
       "      <td>6.794628e+17</td>\n",
       "      <td>11.0</td>\n",
       "      <td>30277.0</td>\n",
       "      <td>17916.0</td>\n",
       "    </tr>\n",
       "    <tr>\n",
       "      <th>Aja</th>\n",
       "      <td>8.777365e+17</td>\n",
       "      <td>13.0</td>\n",
       "      <td>72366.0</td>\n",
       "      <td>16709.0</td>\n",
       "    </tr>\n",
       "    <tr>\n",
       "      <th>...</th>\n",
       "      <td>...</td>\n",
       "      <td>...</td>\n",
       "      <td>...</td>\n",
       "      <td>...</td>\n",
       "    </tr>\n",
       "    <tr>\n",
       "      <th>Marvin</th>\n",
       "      <td>6.685678e+17</td>\n",
       "      <td>11.0</td>\n",
       "      <td>222.0</td>\n",
       "      <td>49.0</td>\n",
       "    </tr>\n",
       "    <tr>\n",
       "      <th>Kollin</th>\n",
       "      <td>6.695676e+17</td>\n",
       "      <td>9.0</td>\n",
       "      <td>219.0</td>\n",
       "      <td>48.0</td>\n",
       "    </tr>\n",
       "    <tr>\n",
       "      <th>Keet</th>\n",
       "      <td>6.670622e+17</td>\n",
       "      <td>10.0</td>\n",
       "      <td>203.0</td>\n",
       "      <td>47.0</td>\n",
       "    </tr>\n",
       "    <tr>\n",
       "      <th>Christoper</th>\n",
       "      <td>6.666914e+17</td>\n",
       "      <td>8.0</td>\n",
       "      <td>171.0</td>\n",
       "      <td>44.0</td>\n",
       "    </tr>\n",
       "    <tr>\n",
       "      <th>Bloo</th>\n",
       "      <td>6.706761e+17</td>\n",
       "      <td>8.0</td>\n",
       "      <td>229.0</td>\n",
       "      <td>37.0</td>\n",
       "    </tr>\n",
       "  </tbody>\n",
       "</table>\n",
       "<p>832 rows × 4 columns</p>\n",
       "</div>"
      ],
      "text/plain": [
       "                tweet_id  rating_numerator  favorite_count  retweet_count\n",
       "name                                                                     \n",
       "Stephan     8.071068e+17              13.0        116832.0        54622.0\n",
       "Duddles     8.794158e+17              13.0         96570.0        39349.0\n",
       "Jamesy      8.664507e+17              13.0        113216.0        31853.0\n",
       "Hurley      6.794628e+17              11.0         30277.0        17916.0\n",
       "Aja         8.777365e+17              13.0         72366.0        16709.0\n",
       "...                  ...               ...             ...            ...\n",
       "Marvin      6.685678e+17              11.0           222.0           49.0\n",
       "Kollin      6.695676e+17               9.0           219.0           48.0\n",
       "Keet        6.670622e+17              10.0           203.0           47.0\n",
       "Christoper  6.666914e+17               8.0           171.0           44.0\n",
       "Bloo        6.706761e+17               8.0           229.0           37.0\n",
       "\n",
       "[832 rows x 4 columns]"
      ]
     },
     "execution_count": 588,
     "metadata": {},
     "output_type": "execute_result"
    }
   ],
   "source": [
    "name_df.sort_values(by='retweet_count', ascending=False)"
   ]
  },
  {
   "cell_type": "markdown",
   "metadata": {},
   "source": [
    "Stephan is the most retweeted dog name while Bloo is the least"
   ]
  },
  {
   "cell_type": "code",
   "execution_count": 587,
   "metadata": {},
   "outputs": [
    {
     "data": {
      "text/plain": [
       "<AxesSubplot:>"
      ]
     },
     "execution_count": 587,
     "metadata": {},
     "output_type": "execute_result"
    },
    {
     "data": {
      "image/png": "[encoded data removed]",
      "text/plain": [
       "<Figure size 576x396 with 1 Axes>"
      ]
     },
     "metadata": {},
     "output_type": "display_data"
    }
   ],
   "source": [
    "master['name'].value_counts()[:10].plot(kind='barh')\n",
    "\n"
   ]
  },
  {
   "cell_type": "code",
   "execution_count": 591,
   "metadata": {},
   "outputs": [
    {
     "data": {
      "text/plain": [
       "<AxesSubplot:>"
      ]
     },
     "execution_count": 591,
     "metadata": {},
     "output_type": "execute_result"
    },
    {
     "data": {
      "image/png": "[encoded data removed]",
      "text/plain": [
       "<Figure size 576x396 with 1 Axes>"
      ]
     },
     "metadata": {},
     "output_type": "display_data"
    }
   ],
   "source": [
    "master['name'].value_counts()[-10:].plot(kind='barh')\n",
    "\n"
   ]
  },
  {
   "cell_type": "code",
   "execution_count": null,
   "metadata": {},
   "outputs": [],
   "source": []
  }
 ],
 "metadata": {
  "kernelspec": {
   "display_name": "Python 3",
   "language": "python",
   "name": "python3"
  },
  "language_info": {
   "codemirror_mode": {
    "name": "ipython",
    "version": 3
   },
   "file_extension": ".py",
   "mimetype": "text/x-python",
   "name": "python",
   "nbconvert_exporter": "python",
   "pygments_lexer": "ipython3",
   "version": "3.8.5"
  }
 },
 "nbformat": 4,
 "nbformat_minor": 4
}
